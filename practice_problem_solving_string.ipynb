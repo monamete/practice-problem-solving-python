{
  "nbformat": 4,
  "nbformat_minor": 0,
  "metadata": {
    "colab": {
      "provenance": []
    },
    "kernelspec": {
      "name": "python3",
      "display_name": "Python 3"
    },
    "language_info": {
      "name": "python"
    }
  },
  "cells": [
    {
      "cell_type": "code",
      "execution_count": null,
      "metadata": {
        "colab": {
          "base_uri": "https://localhost:8080/"
        },
        "id": "SqaExBts0vJG",
        "outputId": "827f3840-27d5-45ad-d1b4-7a65ada55bb1"
      },
      "outputs": [
        {
          "output_type": "execute_result",
          "data": {
            "text/plain": [
              "5"
            ]
          },
          "metadata": {},
          "execution_count": 1
        }
      ],
      "source": [
        "#write a program to the calculate the length of a string\n",
        "a = \"hello\"\n",
        "len(a)"
      ]
    },
    {
      "cell_type": "code",
      "source": [
        "#WAP to find out frequency of characters in string\n",
        "s1 = input(\"enter the string :\")\n",
        "d1 ={}\n",
        "for c in s1:\n",
        "    if c in d1:\n",
        "        d1[c] = d1[c] + 1\n",
        "    else:\n",
        "        d1[c] = 1\n",
        "print(d1)\n",
        "\n",
        "\n",
        "\n",
        "\n"
      ],
      "metadata": {
        "colab": {
          "base_uri": "https://localhost:8080/"
        },
        "id": "NvMtncxL1HKg",
        "outputId": "4f6e4e68-45f0-40e5-d4cd-d9c11c655814"
      },
      "execution_count": null,
      "outputs": [
        {
          "output_type": "stream",
          "name": "stdout",
          "text": [
            "enter the string :helloo\n",
            "{'h': 1, 'e': 1, 'l': 2, 'o': 2}\n"
          ]
        }
      ]
    },
    {
      "cell_type": "code",
      "source": [
        "# WAP to get string made of the first 2 char and last 2 char from a given string, if the string length is less than 2,return insted of the emptty string\n",
        "s1 = input(\"enter the string :\")\n",
        "if len(s1)> 2:\n",
        "    print(s1[:2]+s1[-2:])\n",
        "elif len(s1)==2:\n",
        "      print(s1*2)\n",
        "else:\n",
        "  print(\"empty string\")\n",
        "\n"
      ],
      "metadata": {
        "colab": {
          "base_uri": "https://localhost:8080/"
        },
        "id": "YOnLClMG1HGt",
        "outputId": "98a81019-5701-4e1f-e1c5-37e9d211cd1a"
      },
      "execution_count": null,
      "outputs": [
        {
          "output_type": "stream",
          "name": "stdout",
          "text": [
            "enter the string :a\n",
            "empty string\n"
          ]
        }
      ]
    },
    {
      "cell_type": "code",
      "source": [
        "#WAP to get a string from given strng where all occurrences of its first char have been changed to $, except the first char itself.\n",
        "s1 = input('enter the string ;')\n",
        "char = s1[0]\n",
        "if len(s1)>1:\n",
        "    s1 = s1.replace(char,\"$\")\n",
        "    s1 = char +s1[1:]\n",
        "    print(s1)\n",
        "else:\n",
        "    print('empty string')\n",
        "\n",
        "\n"
      ],
      "metadata": {
        "colab": {
          "base_uri": "https://localhost:8080/"
        },
        "id": "kTfDInXZ1HD2",
        "outputId": "7d43ddc7-70e3-4d70-e464-0235152a1f52"
      },
      "execution_count": null,
      "outputs": [
        {
          "output_type": "stream",
          "name": "stdout",
          "text": [
            "enter the string ;rewrite\n",
            "rew$ite\n"
          ]
        }
      ]
    },
    {
      "cell_type": "code",
      "source": [
        "#WAP to get single strng from two given strng,separated by a space and swap the first two characters of each string\n",
        "s1 = input(\"enter the string :\")\n",
        "s2 = input(\"enter the string :\")\n",
        "s3 = s2[:2]+s1[2:]+\" \"+s1[:2]+s2[2:]\n",
        "print(s3)"
      ],
      "metadata": {
        "colab": {
          "base_uri": "https://localhost:8080/"
        },
        "id": "GvDWkAXD1HBT",
        "outputId": "3c2e1558-e524-45b4-f047-3b89688d6ffa"
      },
      "execution_count": null,
      "outputs": [
        {
          "output_type": "stream",
          "name": "stdout",
          "text": [
            "enter the string :abcd\n",
            "enter the string :efgh\n",
            "efcd abgh\n"
          ]
        }
      ]
    },
    {
      "cell_type": "code",
      "source": [
        "#WAP to add \"ing\"at the end of a given string(length should be atleast 3). if the given string already ends with 'ing' then add 'ly' instead if the string length of given string is\n",
        "#is less than 3 ,leave it unchanged\n"
      ],
      "metadata": {
        "id": "2oXAHoVJ1G-z"
      },
      "execution_count": null,
      "outputs": []
    },
    {
      "cell_type": "code",
      "source": [
        "s1 = input(\"enter the string :\")\n",
        "if len(s1)>=3:\n",
        "  print(s1+'ing')\n",
        "  if s1.endswith('ing'):\n",
        "   print(s1 + 'ly')\n",
        "  elif s1.endswith ('ly'):\n",
        "    print(s1+'ing')\n",
        "\n",
        "\n",
        "else:\n",
        "  print('unchanged')\n"
      ],
      "metadata": {
        "colab": {
          "base_uri": "https://localhost:8080/"
        },
        "id": "LdagS6xT1G72",
        "outputId": "4f070480-5a43-4e6a-e175-dc249493d790"
      },
      "execution_count": null,
      "outputs": [
        {
          "output_type": "stream",
          "name": "stdout",
          "text": [
            "enter the string :abc\n",
            "abcing\n"
          ]
        }
      ]
    },
    {
      "cell_type": "code",
      "source": [
        "#7 WAP to find the appearance of the substring 'not' and 'poor' from a given string. if 'bad follows the poors,replace the whole 'not'...'poor'\n",
        "#substring with 'good'.return the resulting string.\n",
        "s1 = 'The lyrics is not that poor'\n",
        "s2 = s1.find('not')\n",
        "s3 = s1.find('poor')\n",
        "if s3 > s2 and s2>0 and s3>0:\n",
        "    s1 = s1.replace(s1[s2:(s3+4)], 'good')\n",
        "    print(s1)\n",
        "else:\n",
        "    print(s1)\n"
      ],
      "metadata": {
        "colab": {
          "base_uri": "https://localhost:8080/"
        },
        "id": "qU3zkym81G5H",
        "outputId": "6e6f27f0-a12b-4c5b-9983-334d23217bf2"
      },
      "execution_count": null,
      "outputs": [
        {
          "output_type": "stream",
          "name": "stdout",
          "text": [
            "The lyrics is good\n"
          ]
        }
      ]
    },
    {
      "cell_type": "code",
      "source": [
        "#WAP a Python function that takes a list of words and returns the length of the longest one\n",
        "s = [ 'monika','geeta','ram','sharwari']\n",
        "def find_longest_word_length(words):\n",
        "  \"\"\"\n",
        "  This function takes a list of words and returns the length of the longest one.\n",
        "  \"\"\"\n",
        "  longest_length = 0\n",
        "  for word in words:\n",
        "    if len(word) > longest_length:\n",
        "      longest_length = len(word)\n",
        "  return longest_length\n",
        "\n",
        "s = ['monika', 'geeta', 'ram', 'sharwari']\n",
        "longest_length = find_longest_word_length(s)\n",
        "print(longest_length)  # Output: 8\n"
      ],
      "metadata": {
        "id": "dSnuJ1Kh1G2M",
        "colab": {
          "base_uri": "https://localhost:8080/"
        },
        "outputId": "2eb710b2-7c82-4aed-f3e7-fcc2c866f269"
      },
      "execution_count": null,
      "outputs": [
        {
          "output_type": "stream",
          "name": "stdout",
          "text": [
            "8\n"
          ]
        }
      ]
    },
    {
      "cell_type": "code",
      "source": [
        "#WAP to remove the n th index character from a nonempty string\n",
        "s = input(\"enter a string :\")\n",
        "n = int(input(\"add index to remove: \"))\n",
        "m_string=\"\"\n",
        "for i in range(0,len(s)):\n",
        "  if(i!=n):\n",
        "    m_string += s[i]\n",
        "print(m_string)\n"
      ],
      "metadata": {
        "id": "Ik3OXBVg1Gz-",
        "colab": {
          "base_uri": "https://localhost:8080/"
        },
        "outputId": "571c2074-7add-447e-a005-4def4a52e0dc"
      },
      "execution_count": null,
      "outputs": [
        {
          "output_type": "stream",
          "name": "stdout",
          "text": [
            "enter a string :monika\n",
            "add index to remove: 3\n",
            "monka\n"
          ]
        }
      ]
    },
    {
      "cell_type": "code",
      "source": [
        "#WAP to change a given string to a new string where the first and last character have been exchanged\n",
        "s = input(\"Enter a string : \")\n",
        "first_chr = s[0]\n",
        "last_chr = s[-1]\n",
        "new_str = last_chr +s[1:-1]+first_chr\n",
        "print(new_str)\n",
        "\n",
        "\n"
      ],
      "metadata": {
        "colab": {
          "base_uri": "https://localhost:8080/"
        },
        "id": "FGhULarxPcrL",
        "outputId": "ecc08f5f-da9c-49df-d17d-869c236ed658"
      },
      "execution_count": null,
      "outputs": [
        {
          "output_type": "stream",
          "name": "stdout",
          "text": [
            "Enter a string : sohan\n",
            "nohas\n"
          ]
        }
      ]
    },
    {
      "cell_type": "code",
      "source": [
        "#WAP to remove the characters which have odd index values of a given string\n",
        "s = input(\"enter a string : \")\n",
        "s1 = \"\"\n",
        "for i in range(len(s)):\n",
        "  if(i%2==0):\n",
        "    s1=s1+s[i]\n",
        "print(\"original string : \",s)\n",
        "print(\"final string :\",s1)\n"
      ],
      "metadata": {
        "colab": {
          "base_uri": "https://localhost:8080/"
        },
        "id": "KSQ6ffpVRFq-",
        "outputId": "3f81cb1c-a664-410f-e3b4-52de2eba90f5"
      },
      "execution_count": null,
      "outputs": [
        {
          "output_type": "stream",
          "name": "stdout",
          "text": [
            "enter a string : ashwini\n",
            "original string :  ashwini\n",
            "final string : ahii\n"
          ]
        }
      ]
    },
    {
      "cell_type": "code",
      "source": [
        "#WAP to count the occurances of each word in a given sentence\n",
        "s = input(\"enter a string :\")\n",
        "count = dict()\n",
        "w = s.split()\n",
        "for word in w:\n",
        "  if word in count:\n",
        "    count[word]+=1\n",
        "  else:\n",
        "   count[word] = 1\n",
        "print(\"word count : \",count)\n"
      ],
      "metadata": {
        "colab": {
          "base_uri": "https://localhost:8080/"
        },
        "id": "WjXfLaAsTJvu",
        "outputId": "89b83b37-e968-450a-9571-564cd202b83e"
      },
      "execution_count": null,
      "outputs": [
        {
          "output_type": "stream",
          "name": "stdout",
          "text": [
            "enter a string :hi hi hello\n",
            "word count :  {'hi': 2, 'hello': 1}\n"
          ]
        }
      ]
    },
    {
      "cell_type": "code",
      "source": [
        "l= (input('Enter comma seperated words: ')).split(',')\n",
        "l1 = set(l)\n",
        "l2 = list(l1)\n",
        "l3 = sorted(l2)\n",
        "','.join(l3)"
      ],
      "metadata": {
        "colab": {
          "base_uri": "https://localhost:8080/",
          "height": 53
        },
        "id": "aESoEha9an_1",
        "outputId": "b689c5b1-657f-42c5-f3ca-5372721e2956"
      },
      "execution_count": null,
      "outputs": [
        {
          "name": "stdout",
          "output_type": "stream",
          "text": [
            "Enter comma seperated words: black, red, white, red, orange, black\n"
          ]
        },
        {
          "output_type": "execute_result",
          "data": {
            "text/plain": [
              "' black, orange, red, white,black'"
            ],
            "application/vnd.google.colaboratory.intrinsic+json": {
              "type": "string"
            }
          },
          "metadata": {},
          "execution_count": 35
        }
      ]
    },
    {
      "cell_type": "code",
      "source": [
        "#WAP to get the last part of a string before a specified character.\n",
        "s = input(\"enter a string : \")\n",
        "b=s.split('-',1)[0]\n",
        "''.join(b)\n",
        "print(b)\n"
      ],
      "metadata": {
        "colab": {
          "base_uri": "https://localhost:8080/"
        },
        "id": "-2qHFyp7e_Th",
        "outputId": "eaebe7c7-79d7-4813-c5c0-81e6d73d44ae"
      },
      "execution_count": null,
      "outputs": [
        {
          "output_type": "stream",
          "name": "stdout",
          "text": [
            "enter a string : https//www.w3resource.com/python-exercise\n",
            "https//www.w3resource.com/python\n"
          ]
        }
      ]
    },
    {
      "cell_type": "code",
      "source": [],
      "metadata": {
        "id": "e8HH79x5fM4_"
      },
      "execution_count": null,
      "outputs": []
    },
    {
      "cell_type": "code",
      "source": [],
      "metadata": {
        "id": "F1z0sJYXfM1j"
      },
      "execution_count": null,
      "outputs": []
    },
    {
      "cell_type": "code",
      "source": [],
      "metadata": {
        "id": "A9VVUJrnfMzI"
      },
      "execution_count": null,
      "outputs": []
    },
    {
      "cell_type": "code",
      "source": [],
      "metadata": {
        "id": "m02mH4eNfMvE"
      },
      "execution_count": null,
      "outputs": []
    },
    {
      "cell_type": "code",
      "source": [],
      "metadata": {
        "id": "86TicL1gfMsV"
      },
      "execution_count": null,
      "outputs": []
    }
  ]
}