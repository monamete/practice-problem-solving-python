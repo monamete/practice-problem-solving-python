{
  "nbformat": 4,
  "nbformat_minor": 0,
  "metadata": {
    "colab": {
      "provenance": []
    },
    "kernelspec": {
      "name": "python3",
      "display_name": "Python 3"
    },
    "language_info": {
      "name": "python"
    }
  },
  "cells": [
    {
      "cell_type": "code",
      "execution_count": null,
      "metadata": {
        "colab": {
          "base_uri": "https://localhost:8080/"
        },
        "id": "4RNcH6wc_9Qk",
        "outputId": "2343a79c-bf2c-4ec3-e9f3-3205db43454f"
      },
      "outputs": [
        {
          "output_type": "execute_result",
          "data": {
            "text/plain": [
              "[10, 20, 30, 'java']"
            ]
          },
          "metadata": {},
          "execution_count": 2
        }
      ],
      "source": [
        "x = [10,20,30]\n",
        "x.append('java')\n",
        "x"
      ]
    },
    {
      "cell_type": "code",
      "source": [
        "x[0] = 'c++'\n",
        "x"
      ],
      "metadata": {
        "colab": {
          "base_uri": "https://localhost:8080/"
        },
        "id": "gvy4vUo8Asit",
        "outputId": "5474cc25-a821-48e6-cb22-f63217948cdf"
      },
      "execution_count": null,
      "outputs": [
        {
          "output_type": "execute_result",
          "data": {
            "text/plain": [
              "['c++', 20, 30, 'java']"
            ]
          },
          "metadata": {},
          "execution_count": 5
        }
      ]
    },
    {
      "cell_type": "code",
      "source": [
        "c = (10,20,30)\n",
        "c[0] = 'java'"
      ],
      "metadata": {
        "colab": {
          "base_uri": "https://localhost:8080/",
          "height": 159
        },
        "id": "3m5qmrffBSnb",
        "outputId": "89e4c3b7-b842-41c0-b0cb-fe968fdafa89"
      },
      "execution_count": null,
      "outputs": [
        {
          "output_type": "error",
          "ename": "TypeError",
          "evalue": "'tuple' object does not support item assignment",
          "traceback": [
            "\u001b[0;31m---------------------------------------------------------------------------\u001b[0m",
            "\u001b[0;31mTypeError\u001b[0m                                 Traceback (most recent call last)",
            "\u001b[0;32m<ipython-input-6-7eae390342bb>\u001b[0m in \u001b[0;36m<cell line: 2>\u001b[0;34m()\u001b[0m\n\u001b[1;32m      1\u001b[0m \u001b[0mc\u001b[0m \u001b[0;34m=\u001b[0m \u001b[0;34m(\u001b[0m\u001b[0;36m10\u001b[0m\u001b[0;34m,\u001b[0m\u001b[0;36m20\u001b[0m\u001b[0;34m,\u001b[0m\u001b[0;36m30\u001b[0m\u001b[0;34m)\u001b[0m\u001b[0;34m\u001b[0m\u001b[0;34m\u001b[0m\u001b[0m\n\u001b[0;32m----> 2\u001b[0;31m \u001b[0mc\u001b[0m\u001b[0;34m[\u001b[0m\u001b[0;36m0\u001b[0m\u001b[0;34m]\u001b[0m \u001b[0;34m=\u001b[0m \u001b[0;34m'java'\u001b[0m\u001b[0;34m\u001b[0m\u001b[0;34m\u001b[0m\u001b[0m\n\u001b[0m",
            "\u001b[0;31mTypeError\u001b[0m: 'tuple' object does not support item assignment"
          ]
        }
      ]
    },
    {
      "cell_type": "code",
      "source": [
        "c.append(100)"
      ],
      "metadata": {
        "colab": {
          "base_uri": "https://localhost:8080/",
          "height": 141
        },
        "id": "RPzeGdyCBx1P",
        "outputId": "cdd91d09-29cc-4bab-e1f6-08345f46b25f"
      },
      "execution_count": null,
      "outputs": [
        {
          "output_type": "error",
          "ename": "AttributeError",
          "evalue": "'tuple' object has no attribute 'append'",
          "traceback": [
            "\u001b[0;31m---------------------------------------------------------------------------\u001b[0m",
            "\u001b[0;31mAttributeError\u001b[0m                            Traceback (most recent call last)",
            "\u001b[0;32m<ipython-input-7-4fd1960215a7>\u001b[0m in \u001b[0;36m<cell line: 1>\u001b[0;34m()\u001b[0m\n\u001b[0;32m----> 1\u001b[0;31m \u001b[0mc\u001b[0m\u001b[0;34m.\u001b[0m\u001b[0mappend\u001b[0m\u001b[0;34m(\u001b[0m\u001b[0;36m100\u001b[0m\u001b[0;34m)\u001b[0m\u001b[0;34m\u001b[0m\u001b[0;34m\u001b[0m\u001b[0m\n\u001b[0m",
            "\u001b[0;31mAttributeError\u001b[0m: 'tuple' object has no attribute 'append'"
          ]
        }
      ]
    },
    {
      "cell_type": "code",
      "source": [
        "a = {10,20,20,30,30}\n",
        "a"
      ],
      "metadata": {
        "colab": {
          "base_uri": "https://localhost:8080/"
        },
        "id": "GGtT3KlVB4ug",
        "outputId": "cd422e65-2981-4f70-af00-05c6a22ea8b3"
      },
      "execution_count": null,
      "outputs": [
        {
          "output_type": "execute_result",
          "data": {
            "text/plain": [
              "{10, 20, 30}"
            ]
          },
          "metadata": {},
          "execution_count": 8
        }
      ]
    },
    {
      "cell_type": "code",
      "source": [
        "k = [10,20,30,10,20,30,10]\n",
        "set(k)"
      ],
      "metadata": {
        "colab": {
          "base_uri": "https://localhost:8080/"
        },
        "id": "Mg2NxF1KGjWm",
        "outputId": "d5dfc814-77bf-4524-f44c-36088bb48b45"
      },
      "execution_count": null,
      "outputs": [
        {
          "output_type": "execute_result",
          "data": {
            "text/plain": [
              "{10, 20, 30}"
            ]
          },
          "metadata": {},
          "execution_count": 9
        }
      ]
    },
    {
      "cell_type": "code",
      "source": [
        "n = (1)\n",
        "type(n)"
      ],
      "metadata": {
        "id": "UuZEP-lGGjFq",
        "colab": {
          "base_uri": "https://localhost:8080/"
        },
        "outputId": "a7da6c00-9760-4802-d5da-be773dee57b7"
      },
      "execution_count": null,
      "outputs": [
        {
          "output_type": "execute_result",
          "data": {
            "text/plain": [
              "int"
            ]
          },
          "metadata": {},
          "execution_count": 2
        }
      ]
    },
    {
      "cell_type": "code",
      "source": [
        "print(dir(tuple))"
      ],
      "metadata": {
        "id": "d39byY_mKRT4",
        "colab": {
          "base_uri": "https://localhost:8080/"
        },
        "outputId": "a3da3c5d-89db-47c8-b4af-baf4e9868c58"
      },
      "execution_count": null,
      "outputs": [
        {
          "output_type": "stream",
          "name": "stdout",
          "text": [
            "['__add__', '__class__', '__class_getitem__', '__contains__', '__delattr__', '__dir__', '__doc__', '__eq__', '__format__', '__ge__', '__getattribute__', '__getitem__', '__getnewargs__', '__gt__', '__hash__', '__init__', '__init_subclass__', '__iter__', '__le__', '__len__', '__lt__', '__mul__', '__ne__', '__new__', '__reduce__', '__reduce_ex__', '__repr__', '__rmul__', '__setattr__', '__sizeof__', '__str__', '__subclasshook__', 'count', 'index']\n"
          ]
        }
      ]
    },
    {
      "cell_type": "code",
      "source": [
        "d= {1:100,2:200,3:}\n"
      ],
      "metadata": {
        "id": "KJEaYre6DdXF"
      },
      "execution_count": null,
      "outputs": []
    },
    {
      "cell_type": "code",
      "source": [
        "num = 7\n",
        "if num > 0:\n",
        "    print('positive')\n",
        "    print('hello')\n",
        "else:\n",
        "    print('negative')"
      ],
      "metadata": {
        "colab": {
          "base_uri": "https://localhost:8080/"
        },
        "id": "KLeP6eP7G4zU",
        "outputId": "10471a94-0d70-4fd9-a587-5cc54d6917d7"
      },
      "execution_count": null,
      "outputs": [
        {
          "output_type": "stream",
          "name": "stdout",
          "text": [
            "positive\n",
            "hello\n"
          ]
        }
      ]
    },
    {
      "cell_type": "code",
      "source": [
        "dept = 'comp'\n",
        "salary = 25000\n",
        "if (dept == 'comp') and (salary > 20000):\n",
        "    print('eligible for loan')\n",
        "else:\n",
        "    print('not eligible')"
      ],
      "metadata": {
        "colab": {
          "base_uri": "https://localhost:8080/"
        },
        "id": "eBy88kI4G5Pd",
        "outputId": "ef9ee93b-f4d8-4fca-c5d3-ebf5ccdb7f02"
      },
      "execution_count": null,
      "outputs": [
        {
          "output_type": "stream",
          "name": "stdout",
          "text": [
            "eligible for loan\n"
          ]
        }
      ]
    },
    {
      "cell_type": "code",
      "source": [
        "#nested if\n",
        "balance = 120000\n",
        "if bal>0.0"
      ],
      "metadata": {
        "id": "7yikcZPMKW25"
      },
      "execution_count": null,
      "outputs": []
    },
    {
      "cell_type": "code",
      "source": [
        "#List\n",
        "#list methods\n",
        "#1.append()= append adds an whole object collectively as a single entity at the end of the list\n",
        "f = []\n",
        "f.append('monika')\n",
        "f\n",
        "\n"
      ],
      "metadata": {
        "id": "J6lHPt7bKWzd",
        "colab": {
          "base_uri": "https://localhost:8080/"
        },
        "outputId": "25468f17-e3ad-4fe2-d124-20548f37766c"
      },
      "execution_count": null,
      "outputs": [
        {
          "output_type": "execute_result",
          "data": {
            "text/plain": [
              "['monika']"
            ]
          },
          "metadata": {},
          "execution_count": 2
        }
      ]
    },
    {
      "cell_type": "code",
      "source": [
        "f.append([123,345])\n",
        "f"
      ],
      "metadata": {
        "id": "mPC-LCiIKWwl",
        "colab": {
          "base_uri": "https://localhost:8080/"
        },
        "outputId": "b45a457c-b2be-4bec-d3b8-17464ccc9c02"
      },
      "execution_count": null,
      "outputs": [
        {
          "output_type": "execute_result",
          "data": {
            "text/plain": [
              "['monika', 123, 123, [123, 345]]"
            ]
          },
          "metadata": {},
          "execution_count": 10
        }
      ]
    },
    {
      "cell_type": "code",
      "source": [
        "#Extend = extend adds elements at the end from that object as a separate entity\n",
        "f.extend([123,345])\n",
        "f"
      ],
      "metadata": {
        "id": "DGts1SV2KWu8",
        "colab": {
          "base_uri": "https://localhost:8080/"
        },
        "outputId": "c96cc83e-c3ca-42b7-a290-fb494c08a8d0"
      },
      "execution_count": null,
      "outputs": [
        {
          "output_type": "execute_result",
          "data": {
            "text/plain": [
              "['monika', 123, 123, [123, 345], 123, 345]"
            ]
          },
          "metadata": {},
          "execution_count": 11
        }
      ]
    },
    {
      "cell_type": "code",
      "source": [
        "f.extend(['java'])\n",
        "f"
      ],
      "metadata": {
        "id": "TvmLeIkUKWrg",
        "colab": {
          "base_uri": "https://localhost:8080/"
        },
        "outputId": "e626ee12-ed6c-4ca7-eb1b-f45dadad2b33"
      },
      "execution_count": null,
      "outputs": [
        {
          "output_type": "execute_result",
          "data": {
            "text/plain": [
              "['monika', 123, 123, [123, 345], 123, 345, 'j', 'a', 'v', 'a', 'java']"
            ]
          },
          "metadata": {},
          "execution_count": 13
        }
      ]
    },
    {
      "cell_type": "code",
      "source": [
        "#clear=clear method removes all the elements from list\n",
        "f.clear()\n",
        "f"
      ],
      "metadata": {
        "colab": {
          "base_uri": "https://localhost:8080/"
        },
        "id": "Upq0jsdGIAZP",
        "outputId": "75fedc88-61c1-4af0-beea-46c79acf7e66"
      },
      "execution_count": null,
      "outputs": [
        {
          "output_type": "execute_result",
          "data": {
            "text/plain": [
              "[]"
            ]
          },
          "metadata": {},
          "execution_count": 16
        }
      ]
    },
    {
      "cell_type": "code",
      "source": [
        "#insert= if we want to add object at perticular index then we use insert()\n",
        "#syntax = .insert(index,element)\n",
        "f.insert(0,'java')\n",
        "f"
      ],
      "metadata": {
        "colab": {
          "base_uri": "https://localhost:8080/"
        },
        "id": "LSUySpRkIAVq",
        "outputId": "00bb9536-62fb-4d7e-b12a-6bc26a1779fd"
      },
      "execution_count": null,
      "outputs": [
        {
          "output_type": "execute_result",
          "data": {
            "text/plain": [
              "['java']"
            ]
          },
          "metadata": {},
          "execution_count": 17
        }
      ]
    },
    {
      "cell_type": "code",
      "source": [
        "f.insert(0,1.2)\n",
        "f"
      ],
      "metadata": {
        "colab": {
          "base_uri": "https://localhost:8080/"
        },
        "id": "WrGPmvJgIATI",
        "outputId": "107eaf70-089b-4003-90e5-ee4e999552fd"
      },
      "execution_count": null,
      "outputs": [
        {
          "output_type": "execute_result",
          "data": {
            "text/plain": [
              "[1.2, 1.2, 1.2, 'java']"
            ]
          },
          "metadata": {},
          "execution_count": 20
        }
      ]
    },
    {
      "cell_type": "code",
      "source": [
        "#count = counts the occurance of perticular element\n",
        "f.count('java')"
      ],
      "metadata": {
        "colab": {
          "base_uri": "https://localhost:8080/"
        },
        "id": "tv2qsedqIAQr",
        "outputId": "e3e8eb03-9c15-4229-ca6f-65204afa578f"
      },
      "execution_count": null,
      "outputs": [
        {
          "output_type": "execute_result",
          "data": {
            "text/plain": [
              "1"
            ]
          },
          "metadata": {},
          "execution_count": 21
        }
      ]
    },
    {
      "cell_type": "code",
      "source": [
        "#index = it returns index of an element\n",
        "f.index('java')\n"
      ],
      "metadata": {
        "id": "3BLqcXEAG5VF",
        "colab": {
          "base_uri": "https://localhost:8080/"
        },
        "outputId": "89145d2e-cb30-4355-bf75-3cb54eef7bdc"
      },
      "execution_count": null,
      "outputs": [
        {
          "output_type": "execute_result",
          "data": {
            "text/plain": [
              "3"
            ]
          },
          "metadata": {},
          "execution_count": 23
        }
      ]
    },
    {
      "cell_type": "code",
      "source": [
        "#to remove elements from the list we have 3 methods as below\n",
        "#pop, remove and del\n",
        "#pop = pop is used to remove last element from list by default and it returns the value\n",
        "f.pop()\n",
        "f"
      ],
      "metadata": {
        "colab": {
          "base_uri": "https://localhost:8080/"
        },
        "id": "4JRJDDBkLlgm",
        "outputId": "2fac5db6-0150-4bab-f014-b38096a50ad2"
      },
      "execution_count": null,
      "outputs": [
        {
          "output_type": "execute_result",
          "data": {
            "text/plain": [
              "[1.2, 1.2]"
            ]
          },
          "metadata": {},
          "execution_count": 25
        }
      ]
    },
    {
      "cell_type": "code",
      "source": [
        "f.pop(0)"
      ],
      "metadata": {
        "colab": {
          "base_uri": "https://localhost:8080/"
        },
        "id": "FpqyqzoELlcx",
        "outputId": "f9ff92e5-8362-4e89-d0a1-544f928607e7"
      },
      "execution_count": null,
      "outputs": [
        {
          "output_type": "execute_result",
          "data": {
            "text/plain": [
              "1.2"
            ]
          },
          "metadata": {},
          "execution_count": 26
        }
      ]
    },
    {
      "cell_type": "code",
      "source": [
        "#remove = is used to remove specific element\n",
        "f.remove(1.2)\n",
        "f"
      ],
      "metadata": {
        "colab": {
          "base_uri": "https://localhost:8080/"
        },
        "id": "TkVWTr4HLlaN",
        "outputId": "def04f0f-a801-41f6-a35f-8bc3ca7d5d7a"
      },
      "execution_count": null,
      "outputs": [
        {
          "output_type": "execute_result",
          "data": {
            "text/plain": [
              "[]"
            ]
          },
          "metadata": {},
          "execution_count": 28
        }
      ]
    },
    {
      "cell_type": "code",
      "source": [
        "d = ['python',23,500,450,555,'java']\n",
        "d.remove(500)\n",
        "d"
      ],
      "metadata": {
        "colab": {
          "base_uri": "https://localhost:8080/"
        },
        "id": "d8pJzzT1LlXs",
        "outputId": "9877ee9c-bdfb-4ebb-9110-796a481bed74"
      },
      "execution_count": null,
      "outputs": [
        {
          "output_type": "execute_result",
          "data": {
            "text/plain": [
              "['python', 23, 450, 555, 'java']"
            ]
          },
          "metadata": {},
          "execution_count": 29
        }
      ]
    },
    {
      "cell_type": "code",
      "source": [
        "#to update the value / replace the value\n",
        "d[0] = 'c++'\n",
        "print(d)\n"
      ],
      "metadata": {
        "colab": {
          "base_uri": "https://localhost:8080/"
        },
        "id": "SsD5zJKALlVL",
        "outputId": "0c686caf-1eee-4b50-f2b1-b3871939cec2"
      },
      "execution_count": null,
      "outputs": [
        {
          "output_type": "stream",
          "name": "stdout",
          "text": [
            "['c++', 23, 450, 555, 'java']\n"
          ]
        }
      ]
    },
    {
      "cell_type": "code",
      "source": [
        "#copy:used to create shallow copy\n",
        "#shallow copy = using shallow copy will have 2 list having different id's\n",
        "g = d.copy()\n",
        "id(d),id(g)"
      ],
      "metadata": {
        "colab": {
          "base_uri": "https://localhost:8080/"
        },
        "id": "4hMf-8TmLlSA",
        "outputId": "2642f0fa-6c07-42c0-906a-3b16d92119a0"
      },
      "execution_count": null,
      "outputs": [
        {
          "output_type": "execute_result",
          "data": {
            "text/plain": [
              "(139006644667328, 139006644698240)"
            ]
          },
          "metadata": {},
          "execution_count": 36
        }
      ]
    },
    {
      "cell_type": "code",
      "source": [
        "g[0]='java'\n",
        "g"
      ],
      "metadata": {
        "colab": {
          "base_uri": "https://localhost:8080/"
        },
        "id": "Y3KNpsM-LlPM",
        "outputId": "a97baeb3-fc95-41e8-c10d-df71517ca9d5"
      },
      "execution_count": null,
      "outputs": [
        {
          "output_type": "execute_result",
          "data": {
            "text/plain": [
              "['java', 23, 450, 555, 'java']"
            ]
          },
          "metadata": {},
          "execution_count": 37
        }
      ]
    },
    {
      "cell_type": "code",
      "source": [
        "d"
      ],
      "metadata": {
        "colab": {
          "base_uri": "https://localhost:8080/"
        },
        "id": "rH9aAREaLlMZ",
        "outputId": "f86387d3-d7b8-482a-b238-e06a86fb8cc2"
      },
      "execution_count": null,
      "outputs": [
        {
          "output_type": "execute_result",
          "data": {
            "text/plain": [
              "['c++', 23, 450, 555, 'java']"
            ]
          },
          "metadata": {},
          "execution_count": 38
        }
      ]
    },
    {
      "cell_type": "code",
      "source": [
        "#deep copy = it copies the elements but address's or id's remains same\n",
        "h = d"
      ],
      "metadata": {
        "id": "JowGFdIqLlJj"
      },
      "execution_count": null,
      "outputs": []
    },
    {
      "cell_type": "code",
      "source": [
        "h"
      ],
      "metadata": {
        "colab": {
          "base_uri": "https://localhost:8080/"
        },
        "id": "04zaD-1CLlHZ",
        "outputId": "38507c84-51d8-449b-bd7c-ec0c2fbbfbc8"
      },
      "execution_count": null,
      "outputs": [
        {
          "output_type": "execute_result",
          "data": {
            "text/plain": [
              "['c++', 23, 450, 555, 'java']"
            ]
          },
          "metadata": {},
          "execution_count": 42
        }
      ]
    },
    {
      "cell_type": "code",
      "source": [
        "h[2] = 12\n",
        "h"
      ],
      "metadata": {
        "colab": {
          "base_uri": "https://localhost:8080/"
        },
        "id": "FKoVHdt0PcbB",
        "outputId": "401ab7e9-463a-4d01-8c7e-f3748a45f87f"
      },
      "execution_count": null,
      "outputs": [
        {
          "output_type": "execute_result",
          "data": {
            "text/plain": [
              "['c++', 23, 12, 555, 'java']"
            ]
          },
          "metadata": {},
          "execution_count": 44
        }
      ]
    },
    {
      "cell_type": "code",
      "source": [
        "d"
      ],
      "metadata": {
        "colab": {
          "base_uri": "https://localhost:8080/"
        },
        "id": "neOyUmNjPheD",
        "outputId": "04ff8c5f-5691-4afd-8d97-ce9ff64d017e"
      },
      "execution_count": null,
      "outputs": [
        {
          "output_type": "execute_result",
          "data": {
            "text/plain": [
              "['c++', 23, 12, 555, 'java']"
            ]
          },
          "metadata": {},
          "execution_count": 45
        }
      ]
    },
    {
      "cell_type": "code",
      "source": [
        "f = 'hi hello how are you'\n",
        "f.count('h')"
      ],
      "metadata": {
        "colab": {
          "base_uri": "https://localhost:8080/"
        },
        "id": "8gcDQRuRPj_I",
        "outputId": "acb5693f-20e3-4de2-bd9d-585303ee26ed"
      },
      "execution_count": null,
      "outputs": [
        {
          "output_type": "execute_result",
          "data": {
            "text/plain": [
              "3"
            ]
          },
          "metadata": {},
          "execution_count": 46
        }
      ]
    },
    {
      "cell_type": "code",
      "source": [
        "#tuple = tuple is a data structure which is also called collection of items in which we can store anything like string,float int\n",
        "#it is immutable\n",
        "#duplicates are allowed\n"
      ],
      "metadata": {
        "id": "V2i9G3EsXPlk"
      },
      "execution_count": null,
      "outputs": []
    }
  ]
}