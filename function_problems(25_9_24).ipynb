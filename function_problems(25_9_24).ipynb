{
  "nbformat": 4,
  "nbformat_minor": 0,
  "metadata": {
    "colab": {
      "provenance": []
    },
    "kernelspec": {
      "name": "python3",
      "display_name": "Python 3"
    },
    "language_info": {
      "name": "python"
    }
  },
  "cells": [
    {
      "cell_type": "code",
      "execution_count": null,
      "metadata": {
        "id": "AavI2NdcIVps"
      },
      "outputs": [],
      "source": [
        "#1.Write a Python function to sum all the numbers in a list"
      ]
    },
    {
      "cell_type": "code",
      "source": [
        "#(8, 2, 3, 0, 7)"
      ],
      "metadata": {
        "id": "-seWpyB1IWy1"
      },
      "execution_count": null,
      "outputs": []
    },
    {
      "cell_type": "code",
      "source": [
        "def sum(nums):\n",
        "  total = 0\n",
        "  for i in nums:\n",
        "    total += i\n",
        "  return(total)\n",
        "print(sum((8,2,3,0,7)))\n",
        "\n"
      ],
      "metadata": {
        "colab": {
          "base_uri": "https://localhost:8080/"
        },
        "id": "paMrQtjlIWv0",
        "outputId": "76ac88bd-5a5f-4d0c-fa10-4b4fcbf73323"
      },
      "execution_count": 12,
      "outputs": [
        {
          "output_type": "stream",
          "name": "stdout",
          "text": [
            "20\n"
          ]
        }
      ]
    },
    {
      "cell_type": "code",
      "source": [
        "#2.Write a Python function that accepts a string and counts the number of upper and lower case letters.\n",
        "#Sample String : 'The quick Brow Fox'\n"
      ],
      "metadata": {
        "id": "BlrUOqe7IrzA"
      },
      "execution_count": 3,
      "outputs": []
    },
    {
      "cell_type": "code",
      "source": [
        "def count(s):\n",
        "  a = {'UPPER_CASE':0 , 'LOWER_CASE':0}\n",
        "  for i in s:\n",
        "    if i.isupper():\n",
        "     a[\"UPPER_CASE\"] +=1\n",
        "    elif i.islower:\n",
        "      a[\"LOWER_CASE\"] +=1\n",
        "  print(\"Original string:\",s)\n",
        "  print(\"No. of uppercase characters:\",a[\"UPPER_CASE\"])\n",
        "  print(\"No. of lowercase characters:\",a[\"LOWER_CASE\"])\n",
        "count('The quick Brow Fox')\n",
        ""
      ],
      "metadata": {
        "colab": {
          "base_uri": "https://localhost:8080/"
        },
        "id": "DFbCvfFhIrwR",
        "outputId": "86af8fe3-3db8-4505-bc6b-a62a3d9576b7"
      },
      "execution_count": 17,
      "outputs": [
        {
          "output_type": "stream",
          "name": "stdout",
          "text": [
            "Original string: The quick Brow Fox\n",
            "No. of uppercase characters: 3\n",
            "No. of lowercase characters: 15\n"
          ]
        }
      ]
    },
    {
      "cell_type": "code",
      "source": [
        "\"\"\"3.Write a Python program that accepts a hyphen-separated sequence of words as input and prints the words in a hyphen-separated sequence after sorting them alphabetically.\n",
        "Sample Items : green-red-yellow-black-white\n",
        "Expected Result : black-green-red-white-yellow\n",
        "\"\"\""
      ],
      "metadata": {
        "id": "C6TeLb_wMPcV"
      },
      "execution_count": null,
      "outputs": []
    },
    {
      "cell_type": "code",
      "source": [
        "def sequence(s):\n",
        "  for i in s:\n",
        "    words= s.split('-')\n",
        "    words.sort()\n",
        "  print(\" \".join(words))\n",
        "sequence('green-red-yellow-black-white')\n"
      ],
      "metadata": {
        "colab": {
          "base_uri": "https://localhost:8080/"
        },
        "id": "jG54Mxl2MPZK",
        "outputId": "87a3f505-a3d7-4e46-efea-5fe5cd8dac66"
      },
      "execution_count": 22,
      "outputs": [
        {
          "output_type": "stream",
          "name": "stdout",
          "text": [
            "black green red white yellow\n"
          ]
        }
      ]
    },
    {
      "cell_type": "code",
      "source": [
        " #4.Write a Python function to create and print a list where the values are the squares of numbers between 1 and 30 (both included).\n",
        "\n",
        "def value():\n",
        "  l =[]\n",
        "  for i in range(1,31):\n",
        "    l.append(i**2)\n",
        "  print(l)\n",
        "print(value())"
      ],
      "metadata": {
        "colab": {
          "base_uri": "https://localhost:8080/"
        },
        "id": "1gckrwSGMPWL",
        "outputId": "8c37e07b-1e0d-46b4-cb59-629a82ab6cf7"
      },
      "execution_count": 26,
      "outputs": [
        {
          "output_type": "stream",
          "name": "stdout",
          "text": [
            "[1, 4, 9, 16, 25, 36, 49, 64, 81, 100, 121, 144, 169, 196, 225, 256, 289, 324, 361, 400, 441, 484, 529, 576, 625, 676, 729, 784, 841, 900]\n",
            "None\n"
          ]
        }
      ]
    },
    {
      "cell_type": "code",
      "source": [
        " #5.Write a Python function to check whether a number falls within a given range\n",
        "\n",
        "def test(n):\n",
        "  if n in range(1,21):\n",
        "    print(\"%s is in the range\" % str(n))\n",
        "  else:\n",
        "    print(\"The number is out of the given range.\")\n",
        "print(test(5))\n",
        ""
      ],
      "metadata": {
        "colab": {
          "base_uri": "https://localhost:8080/"
        },
        "id": "mZDI4gzePyj5",
        "outputId": "7a9db91b-7847-4244-98db-ca9c38d925d5"
      },
      "execution_count": 27,
      "outputs": [
        {
          "output_type": "stream",
          "name": "stdout",
          "text": [
            "5 is in the range\n",
            "None\n"
          ]
        }
      ]
    },
    {
      "cell_type": "code",
      "source": [],
      "metadata": {
        "id": "wBepnEHkPygz"
      },
      "execution_count": null,
      "outputs": []
    },
    {
      "cell_type": "code",
      "source": [],
      "metadata": {
        "id": "X6sneNWGPyd6"
      },
      "execution_count": null,
      "outputs": []
    }
  ]
}