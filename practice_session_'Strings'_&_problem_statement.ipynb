{
  "nbformat": 4,
  "nbformat_minor": 0,
  "metadata": {
    "colab": {
      "provenance": []
    },
    "kernelspec": {
      "name": "python3",
      "display_name": "Python 3"
    },
    "language_info": {
      "name": "python"
    }
  },
  "cells": [
    {
      "cell_type": "code",
      "execution_count": null,
      "metadata": {
        "colab": {
          "base_uri": "https://localhost:8080/",
          "height": 35
        },
        "id": "EEmJo0XwmVdh",
        "outputId": "043f37e1-0bab-4749-bacf-61e04f55569b"
      },
      "outputs": [
        {
          "output_type": "execute_result",
          "data": {
            "text/plain": [
              "'MONiKa'"
            ],
            "application/vnd.google.colaboratory.intrinsic+json": {
              "type": "string"
            }
          },
          "metadata": {},
          "execution_count": 3
        }
      ],
      "source": [
        "#numeric - int,float,bool,complex\n",
        "#sequence-str,byte,bytearray,range\n",
        "#list catagory-list,tuple\n",
        "#set cat- set,frozenset\n",
        "#dict- dict\n",
        "#none\n",
        "\n",
        "r = \"monIkA\"\n",
        "r.swapcase()\n",
        "\n"
      ]
    },
    {
      "cell_type": "code",
      "source": [
        "r.casefold()"
      ],
      "metadata": {
        "colab": {
          "base_uri": "https://localhost:8080/",
          "height": 35
        },
        "id": "WK_KP83O0-Ew",
        "outputId": "8f3404df-3942-438d-ed43-a104f85964b9"
      },
      "execution_count": null,
      "outputs": [
        {
          "output_type": "execute_result",
          "data": {
            "text/plain": [
              "'monika'"
            ],
            "application/vnd.google.colaboratory.intrinsic+json": {
              "type": "string"
            }
          },
          "metadata": {},
          "execution_count": 4
        }
      ]
    },
    {
      "cell_type": "code",
      "source": [
        "s = \"\"\n",
        "s.casefold()"
      ],
      "metadata": {
        "colab": {
          "base_uri": "https://localhost:8080/",
          "height": 106
        },
        "id": "E_G_tiKo1UcL",
        "outputId": "f88d6cab-2009-468b-8531-a77641ae9de6"
      },
      "execution_count": null,
      "outputs": [
        {
          "output_type": "error",
          "ename": "SyntaxError",
          "evalue": "invalid syntax (<ipython-input-6-5c2f0d3caf2d>, line 1)",
          "traceback": [
            "\u001b[0;36m  File \u001b[0;32m\"<ipython-input-6-5c2f0d3caf2d>\"\u001b[0;36m, line \u001b[0;32m1\u001b[0m\n\u001b[0;31m    s =$$$$\u001b[0m\n\u001b[0m       ^\u001b[0m\n\u001b[0;31mSyntaxError\u001b[0m\u001b[0;31m:\u001b[0m invalid syntax\n"
          ]
        }
      ]
    },
    {
      "cell_type": "code",
      "source": [
        "#string-strings are the sequence of the character and denoted by \"\",'',\n",
        "#string methods\n",
        "#Title: to convert first letter each word into capital\n"
      ],
      "metadata": {
        "id": "xI7_c9r214jU"
      },
      "execution_count": null,
      "outputs": []
    },
    {
      "cell_type": "code",
      "source": [
        "m = \"monika hitesh mete\"\n",
        "m.title()"
      ],
      "metadata": {
        "colab": {
          "base_uri": "https://localhost:8080/",
          "height": 35
        },
        "id": "EM8Lhto32Y66",
        "outputId": "04950b5d-bb0b-430e-f448-77c7083bb500"
      },
      "execution_count": null,
      "outputs": [
        {
          "output_type": "execute_result",
          "data": {
            "text/plain": [
              "'Monika Hitesh Mete'"
            ],
            "application/vnd.google.colaboratory.intrinsic+json": {
              "type": "string"
            }
          },
          "metadata": {},
          "execution_count": 7
        }
      ]
    },
    {
      "cell_type": "code",
      "source": [
        "#replace\n",
        "m.replace(\"hitesh\",\"123\")"
      ],
      "metadata": {
        "colab": {
          "base_uri": "https://localhost:8080/",
          "height": 35
        },
        "id": "2ztEiweL2Y3Z",
        "outputId": "392dd781-6be1-429a-e3d9-1741560fc9c5"
      },
      "execution_count": null,
      "outputs": [
        {
          "output_type": "execute_result",
          "data": {
            "text/plain": [
              "'monika 123 mete'"
            ],
            "application/vnd.google.colaboratory.intrinsic+json": {
              "type": "string"
            }
          },
          "metadata": {},
          "execution_count": 9
        }
      ]
    },
    {
      "cell_type": "code",
      "source": [
        "len(m)"
      ],
      "metadata": {
        "colab": {
          "base_uri": "https://localhost:8080/"
        },
        "id": "bXLvP2iA2Y0m",
        "outputId": "67f4d472-caea-4aa3-c65f-ace245cb8ce9"
      },
      "execution_count": null,
      "outputs": [
        {
          "output_type": "execute_result",
          "data": {
            "text/plain": [
              "18"
            ]
          },
          "metadata": {},
          "execution_count": 10
        }
      ]
    },
    {
      "cell_type": "code",
      "source": [
        "#count-it counts the no.of occurance substring of string\n"
      ],
      "metadata": {
        "id": "AyxBuR9q2Yxx"
      },
      "execution_count": null,
      "outputs": []
    },
    {
      "cell_type": "code",
      "source": [
        "m.count('e')"
      ],
      "metadata": {
        "colab": {
          "base_uri": "https://localhost:8080/"
        },
        "id": "8I_o8jyN2Yu8",
        "outputId": "35c26308-2029-4d3c-eda6-d12f5db9072c"
      },
      "execution_count": null,
      "outputs": [
        {
          "output_type": "execute_result",
          "data": {
            "text/plain": [
              "3"
            ]
          },
          "metadata": {},
          "execution_count": 13
        }
      ]
    },
    {
      "cell_type": "code",
      "source": [
        "#split =\n",
        "m.split()"
      ],
      "metadata": {
        "colab": {
          "base_uri": "https://localhost:8080/"
        },
        "id": "QXmQdStY2YsK",
        "outputId": "ea2ffed4-de62-4dac-8a2a-5e657af56cf9"
      },
      "execution_count": null,
      "outputs": [
        {
          "output_type": "execute_result",
          "data": {
            "text/plain": [
              "['monika', 'hitesh', 'mete']"
            ]
          },
          "metadata": {},
          "execution_count": 20
        }
      ]
    },
    {
      "cell_type": "code",
      "source": [
        "a = '123-456-457-505'\n",
        "a.split('-')"
      ],
      "metadata": {
        "colab": {
          "base_uri": "https://localhost:8080/"
        },
        "id": "6L44SlUk2YqH",
        "outputId": "b2725784-ef9e-4ad7-881b-880f709c93e1"
      },
      "execution_count": null,
      "outputs": [
        {
          "output_type": "execute_result",
          "data": {
            "text/plain": [
              "['123', '456', '457', '505']"
            ]
          },
          "metadata": {},
          "execution_count": 22
        }
      ]
    },
    {
      "cell_type": "code",
      "source": [
        "a[:4],a[1:9]"
      ],
      "metadata": {
        "colab": {
          "base_uri": "https://localhost:8080/"
        },
        "id": "sL0AaINR6gEd",
        "outputId": "5b0493e8-23cc-413c-c6fa-deee89838bb7"
      },
      "execution_count": null,
      "outputs": [
        {
          "output_type": "execute_result",
          "data": {
            "text/plain": [
              "('123-', '23-456-4')"
            ]
          },
          "metadata": {},
          "execution_count": 25
        }
      ]
    },
    {
      "cell_type": "code",
      "source": [
        "s =['100','120','130','240']\n",
        "'and'.join(s)"
      ],
      "metadata": {
        "colab": {
          "base_uri": "https://localhost:8080/",
          "height": 35
        },
        "id": "fsP8TYOa6yRm",
        "outputId": "4f2e89cc-bba0-4c06-f58a-2d3871533bcb"
      },
      "execution_count": null,
      "outputs": [
        {
          "output_type": "execute_result",
          "data": {
            "text/plain": [
              "'100and120and130and240'"
            ],
            "application/vnd.google.colaboratory.intrinsic+json": {
              "type": "string"
            }
          },
          "metadata": {},
          "execution_count": 37
        }
      ]
    },
    {
      "cell_type": "code",
      "source": [
        "s = '12.5'\n",
        "'-'.join(s)"
      ],
      "metadata": {
        "colab": {
          "base_uri": "https://localhost:8080/",
          "height": 35
        },
        "id": "XPAie3QR775J",
        "outputId": "2520f029-31cc-4304-c12e-65386cc31d1a"
      },
      "execution_count": null,
      "outputs": [
        {
          "output_type": "execute_result",
          "data": {
            "text/plain": [
              "'1-2-.-5'"
            ],
            "application/vnd.google.colaboratory.intrinsic+json": {
              "type": "string"
            }
          },
          "metadata": {},
          "execution_count": 42
        }
      ]
    },
    {
      "cell_type": "code",
      "source": [
        "#strip = used t remove the objects present at the suffix and prefix\n"
      ],
      "metadata": {
        "id": "v3TcAqiT8KWs"
      },
      "execution_count": null,
      "outputs": []
    },
    {
      "cell_type": "code",
      "source": [
        "sum = '###$$1254ghsxfsdf$$###'\n"
      ],
      "metadata": {
        "colab": {
          "base_uri": "https://localhost:8080/"
        },
        "id": "N3qaNBAo8zpF",
        "outputId": "11dbf28a-00d0-4e9e-8ff6-1057ea93a031"
      },
      "execution_count": null,
      "outputs": [
        {
          "output_type": "execute_result",
          "data": {
            "text/plain": [
              "['##', '$1254ghsxfsdf$$###']"
            ]
          },
          "metadata": {},
          "execution_count": 52
        }
      ]
    },
    {
      "cell_type": "code",
      "source": [
        "r ='    robin   hood    '\n",
        "r1= r.split()\n",
        "''.join(r1)"
      ],
      "metadata": {
        "colab": {
          "base_uri": "https://localhost:8080/",
          "height": 35
        },
        "id": "RziyMZ-Y8zld",
        "outputId": "2e28652a-b53e-40ab-f7f3-0adf70f5762d"
      },
      "execution_count": null,
      "outputs": [
        {
          "output_type": "execute_result",
          "data": {
            "text/plain": [
              "'robinhood'"
            ],
            "application/vnd.google.colaboratory.intrinsic+json": {
              "type": "string"
            }
          },
          "metadata": {},
          "execution_count": 55
        }
      ]
    },
    {
      "cell_type": "code",
      "source": [
        "print(sum.count('zzz'))\n",
        "print(sum.count('5'))"
      ],
      "metadata": {
        "colab": {
          "base_uri": "https://localhost:8080/"
        },
        "id": "RWiH5CxL8ziw",
        "outputId": "34f0ac54-9130-4511-8cb1-66e8833b7088"
      },
      "execution_count": null,
      "outputs": [
        {
          "output_type": "stream",
          "name": "stdout",
          "text": [
            "0\n",
            "1\n"
          ]
        }
      ]
    },
    {
      "cell_type": "code",
      "source": [
        "#indexing=\n",
        "\n"
      ],
      "metadata": {
        "id": "tWDf3J2U8zf2"
      },
      "execution_count": null,
      "outputs": []
    },
    {
      "cell_type": "code",
      "source": [
        "b = 'moonika1234'\n",
        "len(b)"
      ],
      "metadata": {
        "colab": {
          "base_uri": "https://localhost:8080/"
        },
        "id": "gnsgB-mK8zdB",
        "outputId": "4729d52e-1eb2-4f00-aeb0-49060bb7ee41"
      },
      "execution_count": null,
      "outputs": [
        {
          "output_type": "execute_result",
          "data": {
            "text/plain": [
              "11"
            ]
          },
          "metadata": {},
          "execution_count": 75
        }
      ]
    },
    {
      "cell_type": "code",
      "source": [],
      "metadata": {
        "id": "q9gmYNMYDRTA"
      },
      "execution_count": null,
      "outputs": []
    },
    {
      "cell_type": "code",
      "source": [
        "b[::-1]"
      ],
      "metadata": {
        "colab": {
          "base_uri": "https://localhost:8080/",
          "height": 35
        },
        "id": "B7dBNDqc8zan",
        "outputId": "db336ed7-3530-47ce-8d7a-5604769d89f5"
      },
      "execution_count": null,
      "outputs": [
        {
          "output_type": "execute_result",
          "data": {
            "text/plain": [
              "'4321akinom'"
            ],
            "application/vnd.google.colaboratory.intrinsic+json": {
              "type": "string"
            }
          },
          "metadata": {},
          "execution_count": 64
        }
      ]
    },
    {
      "cell_type": "code",
      "source": [
        "b[:6]"
      ],
      "metadata": {
        "colab": {
          "base_uri": "https://localhost:8080/",
          "height": 35
        },
        "id": "RHMdrjN98zXt",
        "outputId": "23e2d21e-4e3d-4ab4-b382-fd0951b1932e"
      },
      "execution_count": null,
      "outputs": [
        {
          "output_type": "execute_result",
          "data": {
            "text/plain": [
              "'monika'"
            ],
            "application/vnd.google.colaboratory.intrinsic+json": {
              "type": "string"
            }
          },
          "metadata": {},
          "execution_count": 65
        }
      ]
    },
    {
      "cell_type": "code",
      "source": [
        "b[2:6]"
      ],
      "metadata": {
        "colab": {
          "base_uri": "https://localhost:8080/",
          "height": 35
        },
        "id": "FwszILUj8zUw",
        "outputId": "d963f611-9153-4b92-f954-c88b76a5f7dc"
      },
      "execution_count": null,
      "outputs": [
        {
          "output_type": "execute_result",
          "data": {
            "text/plain": [
              "'nika'"
            ],
            "application/vnd.google.colaboratory.intrinsic+json": {
              "type": "string"
            }
          },
          "metadata": {},
          "execution_count": 68
        }
      ]
    },
    {
      "cell_type": "code",
      "source": [
        "b[-3:-8:-2]"
      ],
      "metadata": {
        "colab": {
          "base_uri": "https://localhost:8080/",
          "height": 35
        },
        "id": "-jzYb9E28zR_",
        "outputId": "1b3097bb-aa11-42c0-ba1c-73225098ade5"
      },
      "execution_count": null,
      "outputs": [
        {
          "output_type": "execute_result",
          "data": {
            "text/plain": [
              "'2ai'"
            ],
            "application/vnd.google.colaboratory.intrinsic+json": {
              "type": "string"
            }
          },
          "metadata": {},
          "execution_count": 73
        }
      ]
    },
    {
      "cell_type": "code",
      "source": [
        "print(list(enumerate(b)))"
      ],
      "metadata": {
        "colab": {
          "base_uri": "https://localhost:8080/"
        },
        "id": "r406ksc38zP7",
        "outputId": "cc4feb52-983f-4d80-8209-08755c439b94"
      },
      "execution_count": null,
      "outputs": [
        {
          "output_type": "stream",
          "name": "stdout",
          "text": [
            "[(0, 'm'), (1, 'o'), (2, 'o'), (3, 'n'), (4, 'i'), (5, 'k'), (6, 'a'), (7, '1'), (8, '2'), (9, '3'), (10, '4')]\n"
          ]
        }
      ]
    },
    {
      "cell_type": "code",
      "source": [
        "b.find('o')"
      ],
      "metadata": {
        "colab": {
          "base_uri": "https://localhost:8080/"
        },
        "id": "Jz3z-fBMD7tn",
        "outputId": "e3482af5-9d99-405a-9b2b-2da42b718675"
      },
      "execution_count": null,
      "outputs": [
        {
          "output_type": "execute_result",
          "data": {
            "text/plain": [
              "1"
            ]
          },
          "metadata": {},
          "execution_count": 85
        }
      ]
    },
    {
      "cell_type": "code",
      "source": [
        "print(dir(s))"
      ],
      "metadata": {
        "colab": {
          "base_uri": "https://localhost:8080/"
        },
        "id": "uK4obz_MEKAi",
        "outputId": "0939c456-855f-47a5-f398-9e21d0d800c7"
      },
      "execution_count": null,
      "outputs": [
        {
          "output_type": "stream",
          "name": "stdout",
          "text": [
            "['__add__', '__class__', '__contains__', '__delattr__', '__dir__', '__doc__', '__eq__', '__format__', '__ge__', '__getattribute__', '__getitem__', '__getnewargs__', '__gt__', '__hash__', '__init__', '__init_subclass__', '__iter__', '__le__', '__len__', '__lt__', '__mod__', '__mul__', '__ne__', '__new__', '__reduce__', '__reduce_ex__', '__repr__', '__rmod__', '__rmul__', '__setattr__', '__sizeof__', '__str__', '__subclasshook__', 'capitalize', 'casefold', 'center', 'count', 'encode', 'endswith', 'expandtabs', 'find', 'format', 'format_map', 'index', 'isalnum', 'isalpha', 'isascii', 'isdecimal', 'isdigit', 'isidentifier', 'islower', 'isnumeric', 'isprintable', 'isspace', 'istitle', 'isupper', 'join', 'ljust', 'lower', 'lstrip', 'maketrans', 'partition', 'removeprefix', 'removesuffix', 'replace', 'rfind', 'rindex', 'rjust', 'rpartition', 'rsplit', 'rstrip', 'split', 'splitlines', 'startswith', 'strip', 'swapcase', 'title', 'translate', 'upper', 'zfill']\n"
          ]
        }
      ]
    },
    {
      "cell_type": "code",
      "source": [
        "b.zfill(16)"
      ],
      "metadata": {
        "colab": {
          "base_uri": "https://localhost:8080/",
          "height": 35
        },
        "id": "j5e1teqiE9Pg",
        "outputId": "87ba8a95-fffe-407a-c6db-1096ad45ca00"
      },
      "execution_count": null,
      "outputs": [
        {
          "output_type": "execute_result",
          "data": {
            "text/plain": [
              "'00000moonika1234'"
            ],
            "application/vnd.google.colaboratory.intrinsic+json": {
              "type": "string"
            }
          },
          "metadata": {},
          "execution_count": 106
        }
      ]
    },
    {
      "cell_type": "code",
      "source": [
        "b"
      ],
      "metadata": {
        "colab": {
          "base_uri": "https://localhost:8080/",
          "height": 35
        },
        "id": "b4NSmo-vJY4t",
        "outputId": "a8808398-397a-40c1-8239-aaf23e9186a2"
      },
      "execution_count": null,
      "outputs": [
        {
          "output_type": "execute_result",
          "data": {
            "text/plain": [
              "'moonika1234'"
            ],
            "application/vnd.google.colaboratory.intrinsic+json": {
              "type": "string"
            }
          },
          "metadata": {},
          "execution_count": 107
        }
      ]
    },
    {
      "cell_type": "code",
      "source": [
        "d = 'temmaker'\n",
        "d.rsplit('e',('.'))"
      ],
      "metadata": {
        "colab": {
          "base_uri": "https://localhost:8080/",
          "height": 159
        },
        "id": "yHNXrWE9LUvQ",
        "outputId": "34ee5e52-dd72-4eff-d5a8-f7be4c4a1c9f"
      },
      "execution_count": null,
      "outputs": [
        {
          "output_type": "error",
          "ename": "TypeError",
          "evalue": "'str' object cannot be interpreted as an integer",
          "traceback": [
            "\u001b[0;31m---------------------------------------------------------------------------\u001b[0m",
            "\u001b[0;31mTypeError\u001b[0m                                 Traceback (most recent call last)",
            "\u001b[0;32m<ipython-input-118-55a492de29ac>\u001b[0m in \u001b[0;36m<cell line: 2>\u001b[0;34m()\u001b[0m\n\u001b[1;32m      1\u001b[0m \u001b[0md\u001b[0m \u001b[0;34m=\u001b[0m \u001b[0;34m'temmaker'\u001b[0m\u001b[0;34m\u001b[0m\u001b[0;34m\u001b[0m\u001b[0m\n\u001b[0;32m----> 2\u001b[0;31m \u001b[0md\u001b[0m\u001b[0;34m.\u001b[0m\u001b[0mrsplit\u001b[0m\u001b[0;34m(\u001b[0m\u001b[0;34m'e'\u001b[0m\u001b[0;34m,\u001b[0m\u001b[0;34m(\u001b[0m\u001b[0;34m'.'\u001b[0m\u001b[0;34m)\u001b[0m\u001b[0;34m)\u001b[0m\u001b[0;34m\u001b[0m\u001b[0;34m\u001b[0m\u001b[0m\n\u001b[0m",
            "\u001b[0;31mTypeError\u001b[0m: 'str' object cannot be interpreted as an integer"
          ]
        }
      ]
    },
    {
      "cell_type": "code",
      "source": [
        "d.split('m')"
      ],
      "metadata": {
        "colab": {
          "base_uri": "https://localhost:8080/"
        },
        "id": "AfZI560ELX1v",
        "outputId": "c8c01b3b-cda1-4a6e-c2f7-43398a91f7d6"
      },
      "execution_count": null,
      "outputs": [
        {
          "output_type": "execute_result",
          "data": {
            "text/plain": [
              "['te', '', 'aker']"
            ]
          },
          "metadata": {},
          "execution_count": 114
        }
      ]
    },
    {
      "cell_type": "code",
      "source": [
        "txt = \"cherry\"\n",
        "x = txt.rsplit(\", \", 2)\n",
        "print(x)\n"
      ],
      "metadata": {
        "colab": {
          "base_uri": "https://localhost:8080/",
          "height": 106
        },
        "id": "dwYkvxWDMA4v",
        "outputId": "995f49f2-e80f-4145-f21f-f114d538d43f"
      },
      "execution_count": null,
      "outputs": [
        {
          "output_type": "error",
          "ename": "SyntaxError",
          "evalue": "invalid syntax. Perhaps you forgot a comma? (<ipython-input-129-c31d948d87ae>, line 2)",
          "traceback": [
            "\u001b[0;36m  File \u001b[0;32m\"<ipython-input-129-c31d948d87ae>\"\u001b[0;36m, line \u001b[0;32m2\u001b[0m\n\u001b[0;31m    x = txt.rsplit(\", \" 2)\u001b[0m\n\u001b[0m                   ^\u001b[0m\n\u001b[0;31mSyntaxError\u001b[0m\u001b[0;31m:\u001b[0m invalid syntax. Perhaps you forgot a comma?\n"
          ]
        }
      ]
    },
    {
      "cell_type": "code",
      "source": [
        "a = \"monka\"\n",
        "a.isalnum()\n"
      ],
      "metadata": {
        "id": "5-C4LuXaNJZM",
        "colab": {
          "base_uri": "https://localhost:8080/"
        },
        "outputId": "ae401db3-c001-423e-a88a-b263f3e9a4ef"
      },
      "execution_count": null,
      "outputs": [
        {
          "output_type": "execute_result",
          "data": {
            "text/plain": [
              "True"
            ]
          },
          "metadata": {},
          "execution_count": 9
        }
      ]
    },
    {
      "cell_type": "code",
      "source": [
        "p = (input(\"enter PAN No: \"))\n",
        "if p.isalnum() and len(p)==10:\n",
        "    print(\"valid\")\n",
        "\n",
        "else:\n",
        "    print(\"invalid\")\n"
      ],
      "metadata": {
        "colab": {
          "base_uri": "https://localhost:8080/"
        },
        "id": "VUaZF0ESCKjb",
        "outputId": "0e06049a-986b-4b07-a418-d0c87b4da965"
      },
      "execution_count": null,
      "outputs": [
        {
          "output_type": "stream",
          "name": "stdout",
          "text": [
            "enter PAN No: sAhgat34278tg\n",
            "invalid\n"
          ]
        }
      ]
    },
    {
      "cell_type": "code",
      "source": [
        "p = (input(\"enter Adhar No: \"))\n",
        "if p.isnumeric() and len(p)==10\n",
        "\n",
        "    print(\"valid\")\n",
        "\n",
        "else:\n",
        "    print(\"invalid\")\n"
      ],
      "metadata": {
        "colab": {
          "base_uri": "https://localhost:8080/"
        },
        "id": "bkk5l_d7Djjs",
        "outputId": "6c67e91f-62d9-44bc-c560-fa3509db7b77"
      },
      "execution_count": null,
      "outputs": [
        {
          "output_type": "stream",
          "name": "stdout",
          "text": [
            "enter Adhar No: 1234567891\n",
            "valid\n"
          ]
        }
      ]
    },
    {
      "cell_type": "code",
      "source": [
        "r = \"1234567890\"\n",
        "r1=r.split()\n",
        "'-'.join(r1)"
      ],
      "metadata": {
        "colab": {
          "base_uri": "https://localhost:8080/",
          "height": 35
        },
        "id": "IaGI6b6vE1hu",
        "outputId": "c94934cf-fc37-4bc1-ad9d-82c4bbab67e1"
      },
      "execution_count": null,
      "outputs": [
        {
          "output_type": "execute_result",
          "data": {
            "text/plain": [
              "'1234567890'"
            ],
            "application/vnd.google.colaboratory.intrinsic+json": {
              "type": "string"
            }
          },
          "metadata": {},
          "execution_count": 47
        }
      ]
    },
    {
      "cell_type": "code",
      "source": [
        "d = '123546785'\n",
        "d1=d[:5]+\"-\"+d[5:]\n",
        "d1"
      ],
      "metadata": {
        "colab": {
          "base_uri": "https://localhost:8080/",
          "height": 35
        },
        "id": "wH8p5BE4JXlM",
        "outputId": "d2ca8913-89da-490e-e1c0-f89a67a93342"
      },
      "execution_count": null,
      "outputs": [
        {
          "output_type": "execute_result",
          "data": {
            "text/plain": [
              "'12354-6785'"
            ],
            "application/vnd.google.colaboratory.intrinsic+json": {
              "type": "string"
            }
          },
          "metadata": {},
          "execution_count": 49
        }
      ]
    },
    {
      "cell_type": "code",
      "source": [
        "#string related interview questions\n",
        "#1. WAP to reverse a string using reversed()\n",
        "\n",
        "s = \"mahakal#123\"\n",
        "r = ''.join(reversed(s))\n",
        "print(r)"
      ],
      "metadata": {
        "id": "910bsjJtKd6D",
        "colab": {
          "base_uri": "https://localhost:8080/"
        },
        "outputId": "4e4a1f95-6e29-4215-d4df-7d6af0f615b3"
      },
      "execution_count": null,
      "outputs": [
        {
          "output_type": "stream",
          "name": "stdout",
          "text": [
            "321#lakaham\n"
          ]
        }
      ]
    },
    {
      "cell_type": "code",
      "source": [
        "#second method using slicing\n",
        "s = \"mahakal#123\"\n",
        "r = s[::-1]\n",
        "print(r)"
      ],
      "metadata": {
        "id": "jhm4pgVmLADR",
        "colab": {
          "base_uri": "https://localhost:8080/"
        },
        "outputId": "81068285-67e6-493a-cedc-7634f5fa220f"
      },
      "execution_count": null,
      "outputs": [
        {
          "output_type": "stream",
          "name": "stdout",
          "text": [
            "321#lakaham\n"
          ]
        }
      ]
    },
    {
      "cell_type": "code",
      "source": [
        "#2.WAP to reverse order of words in given string\n",
        "\n",
        "s = \"my name is monika\"\n",
        "r = s.split()\n",
        "r1 = r[::-1]\n",
        "r2 = ' '.join(r1)\n",
        "print(r2)\n"
      ],
      "metadata": {
        "id": "rOkB-icXKd2r",
        "colab": {
          "base_uri": "https://localhost:8080/"
        },
        "outputId": "6dd6f468-a722-431d-e4b7-85eab03f9090"
      },
      "execution_count": null,
      "outputs": [
        {
          "output_type": "stream",
          "name": "stdout",
          "text": [
            "monika is name my\n"
          ]
        }
      ]
    },
    {
      "cell_type": "code",
      "source": [
        "#3.WAP to reverse interal content of each word\n",
        "\n",
        "s = \"my name is monika\"\n",
        "r = s.split()\n",
        "r1 = [i[::-1] for i in r]\n",
        "r2 = ' '.join(r1)\n",
        "print(r2)"
      ],
      "metadata": {
        "id": "EyIWswKQKd0j",
        "colab": {
          "base_uri": "https://localhost:8080/"
        },
        "outputId": "fb65e522-b04d-42ca-b8db-ed7ed0b1c5cd"
      },
      "execution_count": null,
      "outputs": [
        {
          "output_type": "stream",
          "name": "stdout",
          "text": [
            "ym eman si akinom\n"
          ]
        }
      ]
    },
    {
      "cell_type": "code",
      "source": [
        "#another method\n",
        "\n",
        "s = \"my name is monika\"\n",
        "r = s.split()\n",
        "r1 = []\n",
        "for word in r:\n",
        "    r1.append(word[::-1])\n",
        "r2 = ' '.join(r1)\n",
        "print(r2)\n"
      ],
      "metadata": {
        "id": "_qGlds7nK8IC",
        "colab": {
          "base_uri": "https://localhost:8080/"
        },
        "outputId": "d511f710-3edb-4378-df7e-1c61ebef80f7"
      },
      "execution_count": null,
      "outputs": [
        {
          "output_type": "stream",
          "name": "stdout",
          "text": [
            "ym eman si akinom\n"
          ]
        }
      ]
    },
    {
      "cell_type": "code",
      "source": [
        "#4.WAP to reverse internal content of every second word present in a given string\n",
        "\n",
        "a = 'one two three four five six'\n",
        "l = a.split()\n",
        "i = 0\n",
        "l1 = []\n",
        "while i<len(l):\n",
        "     if i%2==0:\n",
        "          l1.append(l[i])\n",
        "     else:\n",
        "          l1.append(l[i][::-1])\n",
        "     i = i+1\n",
        "a = ' '.join(l1)\n",
        "print(a)\n"
      ],
      "metadata": {
        "colab": {
          "base_uri": "https://localhost:8080/"
        },
        "id": "XakSgE3QeYqP",
        "outputId": "c2d7ebb7-717c-421c-d645-aad230cc0923"
      },
      "execution_count": null,
      "outputs": [
        {
          "output_type": "stream",
          "name": "stdout",
          "text": [
            "one owt three ruof five xis\n"
          ]
        }
      ]
    },
    {
      "cell_type": "code",
      "source": [
        "#5.WAP to print characters present at even index and odd index separately for the given string\n",
        "s = input('enter the string:')\n",
        "print('characters are present at even index',s[0::2])\n",
        "print('characters are present at odd index',s[1::2])"
      ],
      "metadata": {
        "colab": {
          "base_uri": "https://localhost:8080/"
        },
        "id": "ZWqVYiI7eYme",
        "outputId": "4108707c-4fdb-47ea-93c2-c6fc0178c2bc"
      },
      "execution_count": null,
      "outputs": [
        {
          "output_type": "stream",
          "name": "stdout",
          "text": [
            "enter the string:monikahitesh\n",
            "characters are present at even index mnkhts\n",
            "characters are present at odd index oiaieh\n"
          ]
        }
      ]
    },
    {
      "cell_type": "code",
      "source": [
        "#another method\n",
        "s = input('enter the string:')\n",
        "print('characters are present at even index')\n",
        "i=0\n",
        "while i<len(s):\n",
        "  print(s[i])\n",
        "  i = i+2\n",
        "\n",
        "print('characters are present at odd index')\n",
        "i=1\n",
        "while i<len(s):\n",
        "  print(s[i])\n",
        "  i = i+2\n",
        "\n"
      ],
      "metadata": {
        "colab": {
          "base_uri": "https://localhost:8080/"
        },
        "id": "ajCXNAb8pL9c",
        "outputId": "c72de9b2-9998-4e39-ff84-7753a41b1558"
      },
      "execution_count": null,
      "outputs": [
        {
          "output_type": "stream",
          "name": "stdout",
          "text": [
            "enter the string:saisha\n",
            "characters are present at even index\n",
            "s\n",
            "i\n",
            "h\n",
            "characters are present at odd index\n",
            "a\n",
            "s\n",
            "a\n"
          ]
        }
      ]
    },
    {
      "cell_type": "code",
      "source": [
        "#6.WAP to merge characters of two strings into a single string by taking characters altern\n",
        "#its valid only if the length of both string will same\n",
        "\n",
        "s1 = 'RAVI'\n",
        "s2 = 'TEJA'\n",
        "i,j = 0,0\n",
        "output = ''\n",
        "while i<len(s1) or j<len(s2):\n",
        "    output = output+s1[i]+s2[j]\n",
        "    i = i+1\n",
        "    j = j+1\n",
        "    print(output)"
      ],
      "metadata": {
        "colab": {
          "base_uri": "https://localhost:8080/"
        },
        "id": "6oZBrx2GeYjv",
        "outputId": "6d5ca9ca-23fa-45d9-e441-cf5fdd3bb1f3"
      },
      "execution_count": null,
      "outputs": [
        {
          "output_type": "stream",
          "name": "stdout",
          "text": [
            "RT\n",
            "RTAE\n",
            "RTAEVJ\n",
            "RTAEVJIA\n"
          ]
        }
      ]
    },
    {
      "cell_type": "code",
      "source": [
        "#1.how could you check if each word in a string begins with a captal letter?\n",
        "# the .istitle is the function which will say whether string begins with the capital letter\n"
      ],
      "metadata": {
        "id": "DuPJqzsSeYeC"
      },
      "execution_count": null,
      "outputs": []
    },
    {
      "cell_type": "code",
      "source": [
        "string ='My Name Is Monika'\n",
        "string.istitle()"
      ],
      "metadata": {
        "colab": {
          "base_uri": "https://localhost:8080/"
        },
        "id": "v6L9ndB8eYbM",
        "outputId": "22ce8f08-2a14-4b50-fc6c-a019e797a47c"
      },
      "execution_count": null,
      "outputs": [
        {
          "output_type": "execute_result",
          "data": {
            "text/plain": [
              "True"
            ]
          },
          "metadata": {},
          "execution_count": 3
        }
      ]
    },
    {
      "cell_type": "code",
      "source": [
        "#2.Check if a string contains a specific substring?\n",
        "s = \"Hello how are you?\"\n",
        "'how' in s"
      ],
      "metadata": {
        "colab": {
          "base_uri": "https://localhost:8080/"
        },
        "id": "qQK-5CdTeYYS",
        "outputId": "409b6a4c-0c4d-4c44-f65a-d35c003be2ca"
      },
      "execution_count": null,
      "outputs": [
        {
          "output_type": "execute_result",
          "data": {
            "text/plain": [
              "True"
            ]
          },
          "metadata": {},
          "execution_count": 6
        }
      ]
    },
    {
      "cell_type": "code",
      "source": [
        "#3.find the index of the first occurance of a substring in a string?\n",
        "#their are two methods\n",
        "#using .index #if substring is not available it gives value error\n",
        "\n",
        "#using .find\n",
        "s = \"Hello how are you?\"\n",
        "s.index('a')"
      ],
      "metadata": {
        "colab": {
          "base_uri": "https://localhost:8080/"
        },
        "id": "qOu_z5yWeYVc",
        "outputId": "5bbeee6e-e81e-4c1b-f69d-5049b4effa80"
      },
      "execution_count": null,
      "outputs": [
        {
          "output_type": "execute_result",
          "data": {
            "text/plain": [
              "10"
            ]
          },
          "metadata": {},
          "execution_count": 10
        }
      ]
    },
    {
      "cell_type": "code",
      "source": [
        "#method two #if substring is not available it returns(-1)\n",
        "s = \"Hello how are you?\"\n",
        "s.find('a')"
      ],
      "metadata": {
        "colab": {
          "base_uri": "https://localhost:8080/"
        },
        "id": "tHI7KDmaeYSy",
        "outputId": "431c6c5e-8f92-418a-ad13-c8236c396d56"
      },
      "execution_count": null,
      "outputs": [
        {
          "output_type": "execute_result",
          "data": {
            "text/plain": [
              "10"
            ]
          },
          "metadata": {},
          "execution_count": 13
        }
      ]
    },
    {
      "cell_type": "code",
      "source": [
        "#4.count the total no.s of character in string\n",
        "s = \"Hello how are you?\"\n",
        "len(s)\n"
      ],
      "metadata": {
        "colab": {
          "base_uri": "https://localhost:8080/"
        },
        "id": "pKcwos2CeYQF",
        "outputId": "944e8be0-83e1-456c-f97b-9d4775bdd4c4"
      },
      "execution_count": null,
      "outputs": [
        {
          "output_type": "execute_result",
          "data": {
            "text/plain": [
              "18"
            ]
          },
          "metadata": {},
          "execution_count": 14
        }
      ]
    },
    {
      "cell_type": "code",
      "source": [
        "#5.count the number of specific character in string\n",
        "s = \"Hello how are you?\"\n",
        "s.count('o')"
      ],
      "metadata": {
        "colab": {
          "base_uri": "https://localhost:8080/"
        },
        "id": "ZrkSpzvIeYM1",
        "outputId": "c287260b-851d-4133-a279-8722fc243bef"
      },
      "execution_count": null,
      "outputs": [
        {
          "output_type": "execute_result",
          "data": {
            "text/plain": [
              "3"
            ]
          },
          "metadata": {},
          "execution_count": 15
        }
      ]
    },
    {
      "cell_type": "code",
      "source": [
        "#6.capitalise the first character of a string\n",
        "s = \"Hello how are you?\"\n",
        "s.capitalize()"
      ],
      "metadata": {
        "colab": {
          "base_uri": "https://localhost:8080/",
          "height": 35
        },
        "id": "B2QW16x5eYKG",
        "outputId": "b329946b-ad7f-4123-ef72-beb2c738db96"
      },
      "execution_count": null,
      "outputs": [
        {
          "output_type": "execute_result",
          "data": {
            "text/plain": [
              "'Hello how are you?'"
            ],
            "application/vnd.google.colaboratory.intrinsic+json": {
              "type": "string"
            }
          },
          "metadata": {},
          "execution_count": 16
        }
      ]
    },
    {
      "cell_type": "code",
      "source": [
        "#7.check if a string contains only numbers\n",
        "#isnumeric()function checks if the string contains only numbers\n",
        "s = \"2555\"\n",
        "s.isnumeric()"
      ],
      "metadata": {
        "colab": {
          "base_uri": "https://localhost:8080/"
        },
        "id": "IkAg2gWFeYHI",
        "outputId": "81eba23a-fcfe-4f23-9eba-606718998574"
      },
      "execution_count": null,
      "outputs": [
        {
          "output_type": "execute_result",
          "data": {
            "text/plain": [
              "True"
            ]
          },
          "metadata": {},
          "execution_count": 20
        }
      ]
    },
    {
      "cell_type": "code",
      "source": [
        "#8.split a string on a specific character\n",
        "#.split() method is used to split the string\n",
        "m = \"my name is monika\"\n",
        "m.split()"
      ],
      "metadata": {
        "colab": {
          "base_uri": "https://localhost:8080/"
        },
        "id": "6g5GIxqseYEc",
        "outputId": "761dae1d-1289-410b-ee6e-2e548301568a"
      },
      "execution_count": null,
      "outputs": [
        {
          "output_type": "execute_result",
          "data": {
            "text/plain": [
              "['my', 'name', 'is', 'monika']"
            ]
          },
          "metadata": {},
          "execution_count": 25
        }
      ]
    },
    {
      "cell_type": "code",
      "source": [
        "m = \"my name is monika\"\n",
        "m.split('a')"
      ],
      "metadata": {
        "colab": {
          "base_uri": "https://localhost:8080/"
        },
        "id": "XIi6m7dieYBl",
        "outputId": "b5836c59-f6c3-4860-8927-9b2de933ba80"
      },
      "execution_count": null,
      "outputs": [
        {
          "output_type": "execute_result",
          "data": {
            "text/plain": [
              "['my n', 'me is monik', '']"
            ]
          },
          "metadata": {},
          "execution_count": 26
        }
      ]
    },
    {
      "cell_type": "code",
      "source": [
        "#9. check if string is composed of all lowercase characters?\n",
        "#.islower()is used to check if string contains lowercase characters\n",
        "s = \"monika\"\n",
        "s.islower()"
      ],
      "metadata": {
        "colab": {
          "base_uri": "https://localhost:8080/"
        },
        "id": "lIjSzInmeX-s",
        "outputId": "fbe2d609-c9a9-4de2-9c8f-209b57a35606"
      },
      "execution_count": null,
      "outputs": [
        {
          "output_type": "execute_result",
          "data": {
            "text/plain": [
              "True"
            ]
          },
          "metadata": {},
          "execution_count": 27
        }
      ]
    },
    {
      "cell_type": "code",
      "source": [
        "#10.check if the first character in string is lowercase?\n",
        "d = 'monika Is my name'\n",
        "d[1].islower()\n"
      ],
      "metadata": {
        "colab": {
          "base_uri": "https://localhost:8080/"
        },
        "id": "_Xrxyc1eeX78",
        "outputId": "75dc3a89-532b-4c0b-d95a-bb8516b80598"
      },
      "execution_count": null,
      "outputs": [
        {
          "output_type": "execute_result",
          "data": {
            "text/plain": [
              "False"
            ]
          },
          "metadata": {},
          "execution_count": 32
        }
      ]
    },
    {
      "cell_type": "code",
      "source": [
        "#11.can an integer be added to a string in python?\n",
        "#no\n",
        "s ='ten'+10"
      ],
      "metadata": {
        "colab": {
          "base_uri": "https://localhost:8080/",
          "height": 176
        },
        "id": "zyZ4RaGseX5l",
        "outputId": "c7d9202f-7566-4e66-ce1e-6a677fc80c9c"
      },
      "execution_count": null,
      "outputs": [
        {
          "output_type": "error",
          "ename": "TypeError",
          "evalue": "can only concatenate str (not \"int\") to str",
          "traceback": [
            "\u001b[0;31m---------------------------------------------------------------------------\u001b[0m",
            "\u001b[0;31mTypeError\u001b[0m                                 Traceback (most recent call last)",
            "\u001b[0;32m<ipython-input-33-759b47b046f2>\u001b[0m in \u001b[0;36m<cell line: 3>\u001b[0;34m()\u001b[0m\n\u001b[1;32m      1\u001b[0m \u001b[0;31m#11.can an integer be added to a string in python?\u001b[0m\u001b[0;34m\u001b[0m\u001b[0;34m\u001b[0m\u001b[0m\n\u001b[1;32m      2\u001b[0m \u001b[0;31m#no\u001b[0m\u001b[0;34m\u001b[0m\u001b[0;34m\u001b[0m\u001b[0m\n\u001b[0;32m----> 3\u001b[0;31m \u001b[0ms\u001b[0m \u001b[0;34m=\u001b[0m\u001b[0;34m'ten'\u001b[0m\u001b[0;34m+\u001b[0m\u001b[0;36m10\u001b[0m\u001b[0;34m\u001b[0m\u001b[0;34m\u001b[0m\u001b[0m\n\u001b[0m",
            "\u001b[0;31mTypeError\u001b[0m: can only concatenate str (not \"int\") to str"
          ]
        }
      ]
    },
    {
      "cell_type": "code",
      "source": [
        "#12.reverse the string\n",
        "#1.using reversed()\n",
        "#2.using slicing\n",
        "\n",
        "a = 'monika mete'\n",
        "r =reversed(a)\n",
        "print(''.join(r))"
      ],
      "metadata": {
        "colab": {
          "base_uri": "https://localhost:8080/"
        },
        "id": "uOuK8ECD7fF1",
        "outputId": "fc366277-43ff-4c76-f378-2f477c88b725"
      },
      "execution_count": null,
      "outputs": [
        {
          "output_type": "stream",
          "name": "stdout",
          "text": [
            "etem akinom\n"
          ]
        }
      ]
    },
    {
      "cell_type": "code",
      "source": [
        "#using slicing\n",
        "a = \"monika mete\"\n",
        "r = a[::-1]\n",
        "print(r)"
      ],
      "metadata": {
        "colab": {
          "base_uri": "https://localhost:8080/"
        },
        "id": "haZQMY1v7fLR",
        "outputId": "22527938-41ef-4787-ef40-5b602311d74b"
      },
      "execution_count": null,
      "outputs": [
        {
          "output_type": "stream",
          "name": "stdout",
          "text": [
            "etem akinom\n"
          ]
        }
      ]
    },
    {
      "cell_type": "code",
      "source": [
        "#13.join a list of strings into single string?\n",
        "#using .join()method\n",
        "mystring = ['monika','is','my','name']\n",
        "' '.join(mystring)\n"
      ],
      "metadata": {
        "colab": {
          "base_uri": "https://localhost:8080/",
          "height": 35
        },
        "id": "E2OcR3FI7fyU",
        "outputId": "e630ca38-141a-4cec-8cf2-6dc66de46f66"
      },
      "execution_count": null,
      "outputs": [
        {
          "output_type": "execute_result",
          "data": {
            "text/plain": [
              "'monika is my name'"
            ],
            "application/vnd.google.colaboratory.intrinsic+json": {
              "type": "string"
            }
          },
          "metadata": {},
          "execution_count": 39
        }
      ]
    },
    {
      "cell_type": "code",
      "source": [
        "#14.uppercase or lowercase an entire string?\n",
        "#.uppercase and .lowercase\n",
        "s = 'monika'\n",
        "print(s.upper())\n",
        "print(s.lower())"
      ],
      "metadata": {
        "colab": {
          "base_uri": "https://localhost:8080/"
        },
        "id": "hkO8Yz2e7fur",
        "outputId": "d58f8928-bbd9-4aa3-c33f-b994355ffd26"
      },
      "execution_count": null,
      "outputs": [
        {
          "output_type": "stream",
          "name": "stdout",
          "text": [
            "MONIKA\n",
            "monika\n"
          ]
        }
      ]
    },
    {
      "cell_type": "code",
      "source": [
        "#15 check if a string is all uppercase?\n",
        "#using isupper()fun\n",
        "s = 'MONIKA'\n",
        "s.isupper()"
      ],
      "metadata": {
        "colab": {
          "base_uri": "https://localhost:8080/"
        },
        "id": "1ZfY8Cl-7fsB",
        "outputId": "d74a3930-1364-4aaa-bee7-473e2940ebec"
      },
      "execution_count": null,
      "outputs": [
        {
          "output_type": "execute_result",
          "data": {
            "text/plain": [
              "True"
            ]
          },
          "metadata": {},
          "execution_count": 43
        }
      ]
    },
    {
      "cell_type": "code",
      "source": [
        "#16.give an example of string slicing\n",
        "#string = [start:stop:step]\n",
        "s = 'monika'\n",
        "s[2:]\n"
      ],
      "metadata": {
        "colab": {
          "base_uri": "https://localhost:8080/",
          "height": 35
        },
        "id": "a_UonsiD7fp3",
        "outputId": "f785915c-df7a-4cc7-e13e-a275f5797c97"
      },
      "execution_count": null,
      "outputs": [
        {
          "output_type": "execute_result",
          "data": {
            "text/plain": [
              "'nika'"
            ],
            "application/vnd.google.colaboratory.intrinsic+json": {
              "type": "string"
            }
          },
          "metadata": {},
          "execution_count": 46
        }
      ]
    },
    {
      "cell_type": "code",
      "source": [
        "#17convert an integer to string?\n",
        "num = 10\n",
        "type(num)\n"
      ],
      "metadata": {
        "colab": {
          "base_uri": "https://localhost:8080/"
        },
        "id": "LRvlvvEm-vxf",
        "outputId": "65761df0-f75a-49c8-f936-840ba176b1d8"
      },
      "execution_count": null,
      "outputs": [
        {
          "output_type": "execute_result",
          "data": {
            "text/plain": [
              "int"
            ]
          },
          "metadata": {},
          "execution_count": 48
        }
      ]
    },
    {
      "cell_type": "code",
      "source": [
        "s = str(num)\n",
        "type(s)"
      ],
      "metadata": {
        "colab": {
          "base_uri": "https://localhost:8080/"
        },
        "id": "HJnWNBjc-vto",
        "outputId": "efc4bf1a-7031-4c9b-a80c-5c7135cb4aef"
      },
      "execution_count": null,
      "outputs": [
        {
          "output_type": "execute_result",
          "data": {
            "text/plain": [
              "str"
            ]
          },
          "metadata": {},
          "execution_count": 50
        }
      ]
    },
    {
      "cell_type": "code",
      "source": [
        "#18 check if a string contains only charactrs of the alphabets\n",
        "#using .isalpha()# space is invalid\n",
        "s = 'monikamete'\n",
        "s.isalpha()"
      ],
      "metadata": {
        "colab": {
          "base_uri": "https://localhost:8080/"
        },
        "id": "foHHEBrZ-vrg",
        "outputId": "8508c2be-1706-425a-8482-07f8cb3c46aa"
      },
      "execution_count": null,
      "outputs": [
        {
          "output_type": "execute_result",
          "data": {
            "text/plain": [
              "True"
            ]
          },
          "metadata": {},
          "execution_count": 53
        }
      ]
    },
    {
      "cell_type": "code",
      "source": [
        "#19.replace all the instances of a substring in a string.\n",
        "#using .replace()\n",
        "s = 'my name is monika'\n",
        "s.replace('monika','hitesh')\n"
      ],
      "metadata": {
        "colab": {
          "base_uri": "https://localhost:8080/",
          "height": 35
        },
        "id": "tSORLrjk-veZ",
        "outputId": "dd8fd63c-262d-4932-8035-c0e4e4304356"
      },
      "execution_count": null,
      "outputs": [
        {
          "output_type": "execute_result",
          "data": {
            "text/plain": [
              "'my name is hitesh'"
            ],
            "application/vnd.google.colaboratory.intrinsic+json": {
              "type": "string"
            }
          },
          "metadata": {},
          "execution_count": 54
        }
      ]
    },
    {
      "cell_type": "code",
      "source": [
        "#20.Remove whitespace from left,right,or both side\n",
        "#to remove the whitespace from left, use .lstrip()\n",
        "#to remove the whitespace from right, use .rstrip()\n",
        "#to remove the whitespace from both side, use .strip()\n",
        "s = '    monika    '\n",
        "s.lstrip()"
      ],
      "metadata": {
        "colab": {
          "base_uri": "https://localhost:8080/",
          "height": 35
        },
        "id": "Ta8_TCpo-vac",
        "outputId": "e3f49ef3-ddec-45b4-ca10-88edfcbc7873"
      },
      "execution_count": null,
      "outputs": [
        {
          "output_type": "execute_result",
          "data": {
            "text/plain": [
              "'monika    '"
            ],
            "application/vnd.google.colaboratory.intrinsic+json": {
              "type": "string"
            }
          },
          "metadata": {},
          "execution_count": 56
        }
      ]
    },
    {
      "cell_type": "code",
      "source": [
        "s.rstrip()"
      ],
      "metadata": {
        "colab": {
          "base_uri": "https://localhost:8080/",
          "height": 35
        },
        "id": "OWPMNmcb-vX4",
        "outputId": "b911714c-c643-42bf-8aa5-e4d8be4e8dc2"
      },
      "execution_count": null,
      "outputs": [
        {
          "output_type": "execute_result",
          "data": {
            "text/plain": [
              "'    monika'"
            ],
            "application/vnd.google.colaboratory.intrinsic+json": {
              "type": "string"
            }
          },
          "metadata": {},
          "execution_count": 57
        }
      ]
    },
    {
      "cell_type": "code",
      "source": [
        "s.strip()"
      ],
      "metadata": {
        "colab": {
          "base_uri": "https://localhost:8080/",
          "height": 35
        },
        "id": "ntNySZVc-vV5",
        "outputId": "ddb6f606-3b78-4ea6-dea7-accf2414bf61"
      },
      "execution_count": null,
      "outputs": [
        {
          "output_type": "execute_result",
          "data": {
            "text/plain": [
              "'monika'"
            ],
            "application/vnd.google.colaboratory.intrinsic+json": {
              "type": "string"
            }
          },
          "metadata": {},
          "execution_count": 58
        }
      ]
    },
    {
      "cell_type": "code",
      "source": [
        "#21.check if a string begins with or endswith a specific character\n",
        "#using .startswith() and .endswith()\n",
        "s = 'monika and hitesh are couple'\n",
        "s.startswith('m')\n",
        "s.endswith('couple')"
      ],
      "metadata": {
        "colab": {
          "base_uri": "https://localhost:8080/"
        },
        "id": "jKZrkL4g-vTZ",
        "outputId": "b5d2d3b7-9f96-48c4-89c8-62e72f409eeb"
      },
      "execution_count": null,
      "outputs": [
        {
          "output_type": "execute_result",
          "data": {
            "text/plain": [
              "True"
            ]
          },
          "metadata": {},
          "execution_count": 70
        }
      ]
    },
    {
      "cell_type": "code",
      "source": [
        "#22.what is the effect of multiplyng a string by 3?\n",
        "s = 'ashwini'*3\n",
        "print(s)"
      ],
      "metadata": {
        "colab": {
          "base_uri": "https://localhost:8080/"
        },
        "id": "2C2uD5c8BTUS",
        "outputId": "65df541d-3563-4d90-9d7a-c4f0bc3ee127"
      },
      "execution_count": null,
      "outputs": [
        {
          "output_type": "stream",
          "name": "stdout",
          "text": [
            "ashwiniashwiniashwini\n"
          ]
        }
      ]
    },
    {
      "cell_type": "code",
      "source": [
        "#23.concatenate two strings\n",
        "'hi'+'hello'\n"
      ],
      "metadata": {
        "colab": {
          "base_uri": "https://localhost:8080/",
          "height": 35
        },
        "id": "7jx6KwW1BTNz",
        "outputId": "84475a7e-3a5f-48f0-b0b6-1844d10db482"
      },
      "execution_count": null,
      "outputs": [
        {
          "output_type": "execute_result",
          "data": {
            "text/plain": [
              "'hihello'"
            ],
            "application/vnd.google.colaboratory.intrinsic+json": {
              "type": "string"
            }
          },
          "metadata": {},
          "execution_count": 76
        }
      ]
    },
    {
      "cell_type": "code",
      "source": [
        "#24.what does it mean for string to be immutable in python?\n",
        "#while using string methos, when we do some changes then it forms a new string and the old string remains same thats why strings are immutable"
      ],
      "metadata": {
        "id": "aiIdlwC9BSzY"
      },
      "execution_count": null,
      "outputs": []
    },
    {
      "cell_type": "code",
      "source": [],
      "metadata": {
        "id": "fYgo7eTYBSxI"
      },
      "execution_count": null,
      "outputs": []
    },
    {
      "cell_type": "code",
      "source": [],
      "metadata": {
        "id": "EFmkF8r9BSuu"
      },
      "execution_count": null,
      "outputs": []
    },
    {
      "cell_type": "code",
      "source": [],
      "metadata": {
        "id": "nFV87bW7BSqy"
      },
      "execution_count": null,
      "outputs": []
    },
    {
      "cell_type": "code",
      "source": [],
      "metadata": {
        "id": "6SPyYPvW7fRi"
      },
      "execution_count": null,
      "outputs": []
    }
  ]
}