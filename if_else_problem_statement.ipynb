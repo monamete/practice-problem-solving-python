{
  "nbformat": 4,
  "nbformat_minor": 0,
  "metadata": {
    "colab": {
      "provenance": []
    },
    "kernelspec": {
      "name": "python3",
      "display_name": "Python 3"
    },
    "language_info": {
      "name": "python"
    }
  },
  "cells": [
    {
      "cell_type": "code",
      "execution_count": null,
      "metadata": {
        "colab": {
          "base_uri": "https://localhost:8080/"
        },
        "id": "CxnJ85xo3dT5",
        "outputId": "5803ce35-7198-4b89-e3f3-b47c8e8c4b12"
      },
      "outputs": [
        {
          "output_type": "stream",
          "name": "stdout",
          "text": [
            "enter 1st no. :10\n",
            "enter 2nd no. :20\n",
            "n2 is max no.\n"
          ]
        }
      ],
      "source": [
        "#If else problem\n",
        "#1.WAP to find max between two numbers\n",
        "n1 = int(input(\"enter 1st no. :\"))\n",
        "n2 =int(input(\"enter 2nd no. :\"))\n",
        "if n1>n2:\n",
        "  print (\"n1 is max no.\")\n",
        "else:\n",
        "  print('n2 is max no.')"
      ]
    },
    {
      "cell_type": "code",
      "source": [
        "n1 = int(input(\"enter 1st no. :\"))\n",
        "n2 =int(input(\"enter 2nd no. :\"))\n",
        "n3 =int(input(\"enter 3rd no. :\"))\n",
        "\n",
        "max(n1,n2,n3)\n"
      ],
      "metadata": {
        "colab": {
          "base_uri": "https://localhost:8080/"
        },
        "id": "IDbPVSNL3i09",
        "outputId": "ebfda0ff-dbf6-4941-86a8-23a586b2c22b"
      },
      "execution_count": null,
      "outputs": [
        {
          "name": "stdout",
          "output_type": "stream",
          "text": [
            "enter 1st no. :10\n",
            "enter 2nd no. :20\n",
            "enter 3rd no. :30\n"
          ]
        },
        {
          "output_type": "execute_result",
          "data": {
            "text/plain": [
              "30"
            ]
          },
          "metadata": {},
          "execution_count": 3
        }
      ]
    },
    {
      "cell_type": "code",
      "source": [
        "#2.WAP to find maximum among three no.s\n",
        "n1 = int(input(\"enter first no. :\"))\n",
        "n2 =int(input(\"enter second no. :\"))\n",
        "n3 =int(input(\"enter third no. :\"))\n",
        "if (n1>n2)and (n1>n3):\n",
        "  print('n1 is max no.')\n",
        "elif (n2>n1) and (n2>n3):\n",
        "    print('n2 is max no.')\n",
        "elif (n1==n2==n3):\n",
        "  print('all no.s are same')\n",
        "else:\n",
        "  print('n3 is max no.')\n",
        "\n",
        "\n",
        "\n",
        "\n"
      ],
      "metadata": {
        "colab": {
          "base_uri": "https://localhost:8080/"
        },
        "id": "6qV_V4NO3iw8",
        "outputId": "faa0eca7-5e38-4a3a-e58e-4c3c3367497b"
      },
      "execution_count": null,
      "outputs": [
        {
          "output_type": "stream",
          "name": "stdout",
          "text": [
            "enter first no. :10\n",
            "enter second no. :10\n",
            "enter third no. :10\n",
            "all no.s are same\n"
          ]
        }
      ]
    },
    {
      "cell_type": "code",
      "source": [
        "#WAP to check whether number is positive,negative or zero\n",
        "n1 = int(input(\"enter the no. :\"))\n",
        "\n",
        "if n1>0:\n",
        "  print('n1 is positive no.')\n",
        "elif n1<0:\n",
        "    print('n1 is negative no.')\n",
        "else:\n",
        "  print(\"zero\")\n",
        "\n"
      ],
      "metadata": {
        "colab": {
          "base_uri": "https://localhost:8080/"
        },
        "id": "VGz4yKj_7g_B",
        "outputId": "08c52529-d716-4b78-a4d5-9e1c2722e91a"
      },
      "execution_count": null,
      "outputs": [
        {
          "output_type": "stream",
          "name": "stdout",
          "text": [
            "enter the no. :-5\n",
            "n1 is negative no.\n"
          ]
        }
      ]
    },
    {
      "cell_type": "code",
      "source": [
        "#4.WAP to check whether no. is divisible by 5 and 11\n",
        "n = float(input('enter the no.'))\n",
        "if n%5 ==0 and n%11 == 0:\n",
        " print(\"divisible by 5 and 11\")\n",
        "else:\n",
        "       print('not divisible by 5 and 11')\n",
        "\n",
        "\n",
        "\n",
        "\n"
      ],
      "metadata": {
        "colab": {
          "base_uri": "https://localhost:8080/"
        },
        "id": "iKLnP3IJ7g8R",
        "outputId": "854e32a3-0b21-4464-d469-fbde4625a04d"
      },
      "execution_count": null,
      "outputs": [
        {
          "output_type": "stream",
          "name": "stdout",
          "text": [
            "enter the no.110\n",
            "divisible by 5 and 11\n"
          ]
        }
      ]
    },
    {
      "cell_type": "code",
      "source": [
        "#5.WAP to check whwther no. is even or odd\n",
        "n = int(input(\"enter the number :\"))\n",
        "if n%2 == 0:\n",
        "  print(\"even\")\n",
        "else:\n",
        "  print('odd')\n"
      ],
      "metadata": {
        "colab": {
          "base_uri": "https://localhost:8080/"
        },
        "id": "BEKcDC3_7gjI",
        "outputId": "0d7a204d-0328-4928-95b7-c8f6c70b1877"
      },
      "execution_count": null,
      "outputs": [
        {
          "output_type": "stream",
          "name": "stdout",
          "text": [
            "enter the number :15\n",
            "odd\n"
          ]
        }
      ]
    },
    {
      "cell_type": "code",
      "source": [
        "#6.WAP to check whether the year is leap year or not\n",
        "y = int(input(\"enter the year :\"))\n",
        "if y%4 == 0:\n",
        "  if y%100 == 0:\n",
        "    if y%400 == 0:\n",
        "      print(\"leap year\")\n",
        "    else:\n",
        "      print('not a leap year')\n",
        "  else:\n",
        "     print(\"leap year\")\n",
        "else:\n",
        "  print(\"not a leap year\")\n"
      ],
      "metadata": {
        "colab": {
          "base_uri": "https://localhost:8080/"
        },
        "id": "rwkEReY_7gfl",
        "outputId": "afbb25bf-81cb-422c-b079-67c6074663ca"
      },
      "execution_count": null,
      "outputs": [
        {
          "output_type": "stream",
          "name": "stdout",
          "text": [
            "enter the year :1800\n",
            "not a leap year\n"
          ]
        }
      ]
    },
    {
      "cell_type": "code",
      "source": [
        "a = int(input('Enter year:'))\n",
        "if a % 4 == 0 and a % 100 !=0:\n",
        "  print('Leap year')\n",
        "elif (a%400 ==0 and a % 100 == 0):\n",
        "    print('Leap year')\n",
        "else:\n",
        "   print('Not Leap year')\n"
      ],
      "metadata": {
        "colab": {
          "base_uri": "https://localhost:8080/"
        },
        "id": "E8dCRhU17gcq",
        "outputId": "482ff294-b7af-4855-9319-4898b70a2181"
      },
      "execution_count": null,
      "outputs": [
        {
          "output_type": "stream",
          "name": "stdout",
          "text": [
            "Enter year:2023\n",
            "Not Leap year\n"
          ]
        }
      ]
    },
    {
      "cell_type": "code",
      "source": [
        "#7.WAP to check whether a character is alphabet or not\n",
        "n = input(\"enter the character :\")\n",
        "if n.isalpha():\n",
        "  print(\"is alphabet\")\n",
        "else:\n",
        "  print(\"not alphabet\")\n"
      ],
      "metadata": {
        "colab": {
          "base_uri": "https://localhost:8080/"
        },
        "id": "LOVKgVAL7gaj",
        "outputId": "4d05c93f-fb02-4631-d7fa-947835956f54"
      },
      "execution_count": null,
      "outputs": [
        {
          "output_type": "stream",
          "name": "stdout",
          "text": [
            "enter the character :$\n",
            "not alphabet\n"
          ]
        }
      ]
    },
    {
      "cell_type": "code",
      "source": [
        "#8.WAP to input any alphabet and check whether it is vowel or consonent\n",
        "n = (input(\"enter the character :\")).lower()\n",
        "if (n == 'a' or n == 'e' or\n",
        "        n == 'i' or n == 'o' or n == 'u'):\n",
        "        print(\"Vowel\")\n",
        "else:\n",
        "        print(\"Consonant\")\n",
        "\n",
        "\n"
      ],
      "metadata": {
        "colab": {
          "base_uri": "https://localhost:8080/"
        },
        "id": "t6anOp-83ivT",
        "outputId": "3b50e8ff-9b35-452a-9b8f-06b26e17144a"
      },
      "execution_count": null,
      "outputs": [
        {
          "output_type": "stream",
          "name": "stdout",
          "text": [
            "enter the character :E\n",
            "Vowel\n"
          ]
        }
      ]
    },
    {
      "cell_type": "code",
      "source": [
        "\n",
        "n == \"a\" or \"e\" or \"i\" or \"o\" or \"u\"\n"
      ],
      "metadata": {
        "id": "uxy2cblULM-C"
      },
      "execution_count": null,
      "outputs": []
    },
    {
      "cell_type": "code",
      "source": [
        "#WAP to check whether a character is uppercase or lowercase alphabet\n",
        "n = input('enter a characer :')\n",
        "if n.isupper():\n",
        "  print(\"uppercase\")\n",
        "elif n.islower():\n",
        "  print(\"lowercase\")\n",
        "else:\n",
        "  print('not alphabet')\n",
        "\n"
      ],
      "metadata": {
        "colab": {
          "base_uri": "https://localhost:8080/"
        },
        "id": "elqUkpDRPecF",
        "outputId": "8dd96769-0173-4798-e62b-35c80d93f0a7"
      },
      "execution_count": null,
      "outputs": [
        {
          "output_type": "stream",
          "name": "stdout",
          "text": [
            "enter a characer :A\n",
            "uppercase\n"
          ]
        }
      ]
    },
    {
      "cell_type": "code",
      "source": [
        "#WAP to count the total number of notes in given amount\n",
        "#Program to Count Total Number of Notes in Given Amount using Loop\n",
        "notes = (2000,500,200,100,50,20,10,5,2,1)\n",
        "amt = int(input(\"Enter Your Amount : \"))\n",
        "#Enter 2888 in ammount for count all notes minimum 1 time\n",
        "\n",
        "for n in notes:\n",
        "    counts = amt//n\n",
        "    print(\"use\",counts,\"notes of\\t\",n,\"₹\")\n",
        "    amt = amt%n\n",
        "\n",
        "\n",
        "\n"
      ],
      "metadata": {
        "colab": {
          "base_uri": "https://localhost:8080/"
        },
        "id": "rTuxvTYePeYi",
        "outputId": "70b565b3-0524-46ba-f5d6-055d8c81a4ec"
      },
      "execution_count": null,
      "outputs": [
        {
          "output_type": "stream",
          "name": "stdout",
          "text": [
            "Enter Your Amount : 2888\n",
            "use 1 notes of\t 2000 ₹\n",
            "use 1 notes of\t 500 ₹\n",
            "use 1 notes of\t 200 ₹\n",
            "use 1 notes of\t 100 ₹\n",
            "use 1 notes of\t 50 ₹\n",
            "use 1 notes of\t 20 ₹\n",
            "use 1 notes of\t 10 ₹\n",
            "use 1 notes of\t 5 ₹\n",
            "use 1 notes of\t 2 ₹\n",
            "use 1 notes of\t 1 ₹\n"
          ]
        }
      ]
    },
    {
      "cell_type": "code",
      "source": [
        "#WAp to input an angle of triangle and check whether triangle is valid or not\n",
        "n1 = int(input(\"enter the first angle of triangle:\"))\n",
        "n2 = int(input(\"enter the second angle of triangle:\"))\n",
        "n3 = int(input(\"enter the third angle of triangle:\"))\n",
        "if (n1+n2+n3) == 180 and (n1,n2,n3)!=0 and (n1,n2,n3)!=180:\n",
        "  print(\"triangle is valid\")\n",
        "else:\n",
        "  print(\"invalid triangle\")\n"
      ],
      "metadata": {
        "colab": {
          "base_uri": "https://localhost:8080/"
        },
        "id": "ZeVxtvBSPeVy",
        "outputId": "09e4d3f1-a341-4efe-bcb0-62027c855b19"
      },
      "execution_count": null,
      "outputs": [
        {
          "output_type": "stream",
          "name": "stdout",
          "text": [
            "enter the first angle of triangle:90\n",
            "enter the second angle of triangle:45\n",
            "enter the third angle of triangle:45\n",
            "triangle is valid\n"
          ]
        }
      ]
    },
    {
      "cell_type": "code",
      "source": [
        "#WAP to check the triangle is equillateral, isosceles,scalen\n",
        "n1 = int(input(\"enter the first side of triangle:\"))\n",
        "n2 = int(input(\"enter the second side of triangle:\"))\n",
        "n3 = int(input(\"enter the third side of triangle:\"))\n",
        "if (n1==n2==n3):\n",
        "  print(\"equilateral triangle\")\n",
        "elif ((n1==n2) or (n1==n3)or (n2==n3)) and (n1,n2,n3)!=(0,0,0):\n",
        "  print(\"isosceles triangle\")\n",
        "else:\n",
        "  print(\"scalene triangle\")\n",
        "\n",
        "\n"
      ],
      "metadata": {
        "id": "exdwkHr4PeSK"
      },
      "execution_count": null,
      "outputs": []
    },
    {
      "cell_type": "code",
      "source": [
        "# WAP to calculate profit or loss input is selling cost and actual cost\n",
        "s = int (input(\"enter selling cost :\"))\n",
        "a = int (input(\"enter actual cost :\"))\n",
        "if s>a:\n",
        "  profit = (s-a)\n",
        "  print(\"profit :\",profit)\n",
        "elif a>s:\n",
        "  loss = (a-s)\n",
        "  print(\"loss :\",loss)\n",
        "else:\n",
        "  print(\"no profit no loss\")"
      ],
      "metadata": {
        "colab": {
          "base_uri": "https://localhost:8080/"
        },
        "id": "UI8APeNXPeL6",
        "outputId": "f7fc4948-8b00-4101-a19a-cca36a3f917d"
      },
      "execution_count": null,
      "outputs": [
        {
          "output_type": "stream",
          "name": "stdout",
          "text": [
            "enter selling cost :20\n",
            "enter actual cost :20\n",
            "no profit no loss\n"
          ]
        }
      ]
    },
    {
      "cell_type": "code",
      "source": [
        "#15 WAP to input marks of 5 subjects physis,chemistry,biology,mathematics and computer.calculate the percentage and grade\n",
        "\n",
        "a = int(input(\"enter the physics marks: \"))\n",
        "b = int(input(\"enter the chem marks: \"))\n",
        "c = int(input(\"enter the bio marks: \"))\n",
        "d = int(input(\"enter the maths marks: \"))\n",
        "e = int(input(\"enter the comp marks: \"))\n",
        "total = a+b+c+d+e\n",
        "avg = total/5\n",
        "percentage = (avg/500)*100\n",
        "        if percentage >=90:\n",
        "          print(\"grade A\")\n",
        "        elif percentage >=80:\n",
        "          print(\"grade B\")\n",
        "        elif percentage >=70:\n",
        "          print(\"grade C\")\n",
        "        elif percentage >=60:\n",
        "          print(\"grade D\")\n",
        "        elif percentage >=40:\n",
        "          print(\"grade E\")\n",
        "        else:\n",
        "         print(\"grade F\")\n",
        "\n"
      ],
      "metadata": {
        "id": "5sSbKuPp2_Cg"
      },
      "execution_count": null,
      "outputs": []
    },
    {
      "cell_type": "code",
      "source": [
        "#15 WAP to input marks of 5 subjects physis,chemistry,biology,mathematics and computer.calculate the percentage and grade\n",
        "\n",
        "a = int(input(\"enter the physics marks: \"))\n",
        "b = int(input(\"enter the chem marks: \"))\n",
        "c = int(input(\"enter the bio marks: \"))\n",
        "d = int(input(\"enter the maths marks: \"))\n",
        "e = int(input(\"enter the comp marks: \"))\n",
        "total = a+b+c+d+e\n",
        "percentage = (total/500)*100\n",
        "if percentage >=90:\n",
        "          print(\"grade A\")\n",
        "elif percentage >=80:\n",
        "          print(\"grade B\")\n",
        "elif percentage >=70:\n",
        "          print(\"grade C\")\n",
        "elif percentage >=60:\n",
        "          print(\"grade D\")\n",
        "elif percentage >=40:\n",
        "          print(\"grade E\")\n",
        "else:\n",
        "         print(\"grade F\")\n",
        "\n"
      ],
      "metadata": {
        "id": "ntGhJ1ea2-_v",
        "colab": {
          "base_uri": "https://localhost:8080/"
        },
        "outputId": "42711044-1fbf-4b6b-af3e-ac8163c225f4"
      },
      "execution_count": null,
      "outputs": [
        {
          "output_type": "stream",
          "name": "stdout",
          "text": [
            "enter the physics marks: 45\n",
            "enter the chem marks: 85\n",
            "enter the bio marks: 95\n",
            "enter the maths marks: 75\n",
            "enter the comp marks: 65\n",
            "grade C\n"
          ]
        }
      ]
    },
    {
      "cell_type": "code",
      "source": [
        "#WAP to input basic python salery of an employee and calculate its gross salery according to following:\n",
        "# gross salery = basic +allow + HRA +DA - PF\n",
        "bs = int(input(\"enter basic salery :\"))\n",
        "if (bs<=10000):\n",
        "  HRA = bs*0.2\n",
        "  DA = bs*0.8\n",
        "elif (bs<=20000):\n",
        "  HRA = bs*0.3\n",
        "  DA = bs*0.9\n",
        "elif (bs>20000):\n",
        "  HRA = bs*0.35\n",
        "  DA = bs*0.95\n",
        "\n",
        "  gs = bs +HRA +DA\n",
        "  print(\"Gross salery Rs :\", gs)\n",
        "else:\n",
        "  pass\n",
        "\n",
        "\n",
        "\n"
      ],
      "metadata": {
        "id": "VTbIn4Re2-72",
        "colab": {
          "base_uri": "https://localhost:8080/"
        },
        "outputId": "f3aae7e6-b34d-49c4-a3dd-d563c45e4be1"
      },
      "execution_count": null,
      "outputs": [
        {
          "output_type": "stream",
          "name": "stdout",
          "text": [
            "enter basic salery :150000\n",
            "Gross salery Rs : 345000.0\n"
          ]
        }
      ]
    },
    {
      "cell_type": "code",
      "source": [],
      "metadata": {
        "id": "HvSXZpPZ2-4e"
      },
      "execution_count": null,
      "outputs": []
    },
    {
      "cell_type": "code",
      "source": [],
      "metadata": {
        "id": "esHqF4XvPeIi"
      },
      "execution_count": null,
      "outputs": []
    },
    {
      "cell_type": "code",
      "source": [],
      "metadata": {
        "id": "GwmVzZgJPeF9"
      },
      "execution_count": null,
      "outputs": []
    }
  ]
}