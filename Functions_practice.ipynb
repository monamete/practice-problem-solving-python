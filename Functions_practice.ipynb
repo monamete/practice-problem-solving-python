{
  "nbformat": 4,
  "nbformat_minor": 0,
  "metadata": {
    "colab": {
      "provenance": []
    },
    "kernelspec": {
      "name": "python3",
      "display_name": "Python 3"
    },
    "language_info": {
      "name": "python"
    }
  },
  "cells": [
    {
      "cell_type": "code",
      "execution_count": null,
      "metadata": {
        "id": "i0oazsDJHzcC",
        "colab": {
          "base_uri": "https://localhost:8080/"
        },
        "outputId": "ee61c54f-e612-41ec-bca6-12b644106d86"
      },
      "outputs": [
        {
          "output_type": "stream",
          "name": "stdout",
          "text": [
            "add : 11\n",
            "sub : -5\n",
            "mul : 24\n",
            "div : 0.375\n",
            "add : 17\n",
            "sub : -7\n",
            "mul : 60\n",
            "div : 0.4166666666666667\n"
          ]
        }
      ],
      "source": [
        "def operation(a,b):\n",
        "  print(\"add :\",a+b)\n",
        "  print(\"sub :\",a-b)\n",
        "  print(\"mul :\",a*b)\n",
        "  print(\"div :\",a/b)\n",
        "\n",
        "operation(3,8)\n",
        "operation(5,12)\n"
      ]
    },
    {
      "cell_type": "code",
      "source": [
        "def info(name,place,pincode):\n",
        "  print('name is :',name)\n",
        "  print('place is :',place)\n",
        "  print('pincode is: ',pincode)\n",
        "info('monika','monika','monika')\n",
        "\n"
      ],
      "metadata": {
        "colab": {
          "base_uri": "https://localhost:8080/"
        },
        "id": "JWnqpFA5AgWI",
        "outputId": "e63899b4-ab7a-4e13-d446-dee3341bfd6d"
      },
      "execution_count": null,
      "outputs": [
        {
          "output_type": "stream",
          "name": "stdout",
          "text": [
            "name is : monika\n",
            "place is : monika\n",
            "pincode is:  monika\n"
          ]
        }
      ]
    },
    {
      "cell_type": "code",
      "source": [
        "def greet(name='anita',pincode='101'):\n",
        "  print('good eve',name)\n",
        "greet('ram')"
      ],
      "metadata": {
        "colab": {
          "base_uri": "https://localhost:8080/"
        },
        "id": "zBNOu6trAgSb",
        "outputId": "79df365e-a08b-4f6d-a014-1a1d97ca58b4"
      },
      "execution_count": null,
      "outputs": [
        {
          "output_type": "stream",
          "name": "stdout",
          "text": [
            "good eve ram\n"
          ]
        }
      ]
    },
    {
      "cell_type": "code",
      "source": [
        "def test(*args):\n",
        "  print(args)\n",
        "  print(type(args))\n",
        "test()\n",
        "\n"
      ],
      "metadata": {
        "colab": {
          "base_uri": "https://localhost:8080/"
        },
        "id": "4fH0gz_DAgPn",
        "outputId": "e1e4955c-dcf4-4766-e322-658fb73949e2"
      },
      "execution_count": null,
      "outputs": [
        {
          "output_type": "stream",
          "name": "stdout",
          "text": [
            "()\n",
            "<class 'tuple'>\n"
          ]
        }
      ]
    },
    {
      "cell_type": "code",
      "source": [
        "def test(**kwargs):\n",
        "  print(kwargs)\n",
        "  print(type(kwargs))\n",
        "test(country=\"india\",district='pune')\n"
      ],
      "metadata": {
        "colab": {
          "base_uri": "https://localhost:8080/"
        },
        "id": "I3HFYTjjAgMe",
        "outputId": "004d6491-2243-4145-c028-d73c8cd68e16"
      },
      "execution_count": null,
      "outputs": [
        {
          "output_type": "stream",
          "name": "stdout",
          "text": [
            "{'country': 'india', 'district': 'pune'}\n",
            "<class 'dict'>\n"
          ]
        }
      ]
    },
    {
      "cell_type": "code",
      "source": [
        "def outer():\n",
        "  def inner():\n",
        "     return 'inner function calling'\n",
        "  result = inner() +' '  + \"outer function calling\"\n",
        "  return result\n",
        "  s=result\n",
        "outer()\n",
        "\n"
      ],
      "metadata": {
        "colab": {
          "base_uri": "https://localhost:8080/",
          "height": 35
        },
        "id": "QU9aMldvAgKN",
        "outputId": "6129e380-0197-4337-deb7-cc42fbdd9317"
      },
      "execution_count": null,
      "outputs": [
        {
          "output_type": "execute_result",
          "data": {
            "text/plain": [
              "'inner function calling outer function calling'"
            ],
            "application/vnd.google.colaboratory.intrinsic+json": {
              "type": "string"
            }
          },
          "metadata": {},
          "execution_count": 64
        }
      ]
    },
    {
      "cell_type": "code",
      "source": [],
      "metadata": {
        "id": "BqrtnoCNl6JL"
      },
      "execution_count": null,
      "outputs": []
    }
  ]
}