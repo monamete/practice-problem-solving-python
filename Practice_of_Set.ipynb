{
  "nbformat": 4,
  "nbformat_minor": 0,
  "metadata": {
    "colab": {
      "provenance": []
    },
    "kernelspec": {
      "name": "python3",
      "display_name": "Python 3"
    },
    "language_info": {
      "name": "python"
    }
  },
  "cells": [
    {
      "cell_type": "code",
      "execution_count": null,
      "metadata": {
        "id": "xPZwCeaxej_X"
      },
      "outputs": [],
      "source": [
        "#set practice session\n",
        "#set is a unordered collection of well defined object\n",
        "#set is mutable\n",
        "#set is a collection of unique objects\n",
        "#background data structure is hash table hence slicing and indexing is not supporting\n",
        "#duplicated or repeatations are not allowed\n",
        "#set is defined by {atleast one object present}\n",
        "\n",
        "#methods of set\n",
        "\n"
      ]
    },
    {
      "cell_type": "code",
      "source": [
        "#1.add method:to add a data in a set\n",
        "s= set()\n",
        "s.add(100)\n",
        "s.add(200)\n",
        "s.add(300)\n",
        "s.add(400)\n",
        "s.add(500)\n",
        "s\n",
        "\n",
        "\n"
      ],
      "metadata": {
        "colab": {
          "base_uri": "https://localhost:8080/"
        },
        "id": "RZR46qGaey2_",
        "outputId": "2982775d-89e0-40df-8fa5-1b2208eef0fd"
      },
      "execution_count": null,
      "outputs": [
        {
          "output_type": "execute_result",
          "data": {
            "text/plain": [
              "{100, 200, 300, 400, 500}"
            ]
          },
          "metadata": {},
          "execution_count": 12
        }
      ]
    },
    {
      "cell_type": "code",
      "source": [
        "#update:if you want to add multiple objects then use update\n",
        "s.update([1000,2000,3000])\n",
        "s"
      ],
      "metadata": {
        "colab": {
          "base_uri": "https://localhost:8080/"
        },
        "id": "ArhnfdtpeyzV",
        "outputId": "9547e189-7517-4291-a4a4-c01b74d80462"
      },
      "execution_count": null,
      "outputs": [
        {
          "output_type": "execute_result",
          "data": {
            "text/plain": [
              "{100, 150, 200, 300, 400, 500, 1000, 2000, 3000}"
            ]
          },
          "metadata": {},
          "execution_count": 21
        }
      ]
    },
    {
      "cell_type": "code",
      "source": [
        "s.add('hi')\n",
        "s\n"
      ],
      "metadata": {
        "colab": {
          "base_uri": "https://localhost:8080/"
        },
        "id": "OP-Hzoeceywi",
        "outputId": "0c504d67-e66a-4e50-9091-5ad4fa2217e1"
      },
      "execution_count": null,
      "outputs": [
        {
          "output_type": "execute_result",
          "data": {
            "text/plain": [
              "{100, 1000, 150, 200, 2000, 300, 3000, 400, 500, 'hi'}"
            ]
          },
          "metadata": {},
          "execution_count": 24
        }
      ]
    },
    {
      "cell_type": "code",
      "source": [
        "#pop method-used to remove the element arbitarily and it returns the value\n",
        "s.pop()\n",
        "s\n"
      ],
      "metadata": {
        "colab": {
          "base_uri": "https://localhost:8080/"
        },
        "id": "BjXnPNW7eyq9",
        "outputId": "a6db7e74-b54b-4617-b49e-b1f75a3986e7"
      },
      "execution_count": null,
      "outputs": [
        {
          "output_type": "execute_result",
          "data": {
            "text/plain": [
              "{100, 150, 200, 300, 400, 500, 1000, 2000, 3000}"
            ]
          },
          "metadata": {},
          "execution_count": 25
        }
      ]
    },
    {
      "cell_type": "code",
      "source": [
        "s.pop()\n",
        "s"
      ],
      "metadata": {
        "colab": {
          "base_uri": "https://localhost:8080/"
        },
        "id": "GOsfxNfVeyoz",
        "outputId": "e3261f30-5a3e-4724-88fb-b38a1d40ce9c"
      },
      "execution_count": null,
      "outputs": [
        {
          "output_type": "execute_result",
          "data": {
            "text/plain": [
              "{150, 300, 400, 500, 1000, 2000, 3000}"
            ]
          },
          "metadata": {},
          "execution_count": 27
        }
      ]
    },
    {
      "cell_type": "code",
      "source": [
        "s.pop()"
      ],
      "metadata": {
        "colab": {
          "base_uri": "https://localhost:8080/"
        },
        "id": "mGzbvBb1eylJ",
        "outputId": "0cc351cf-960f-40b8-f845-970ea4ef5aec"
      },
      "execution_count": null,
      "outputs": [
        {
          "output_type": "execute_result",
          "data": {
            "text/plain": [
              "1000"
            ]
          },
          "metadata": {},
          "execution_count": 28
        }
      ]
    },
    {
      "cell_type": "code",
      "source": [
        "#remove()-used to remove perticular object\n",
        "s.remove(150)\n",
        "s"
      ],
      "metadata": {
        "colab": {
          "base_uri": "https://localhost:8080/"
        },
        "id": "hT6Uf351eyia",
        "outputId": "2bb0260e-73b5-48fc-dc8f-bfe5b77054b2"
      },
      "execution_count": null,
      "outputs": [
        {
          "output_type": "execute_result",
          "data": {
            "text/plain": [
              "{300, 400, 2000, 3000}"
            ]
          },
          "metadata": {},
          "execution_count": 31
        }
      ]
    },
    {
      "cell_type": "code",
      "source": [
        "s.add((10))\n",
        "s"
      ],
      "metadata": {
        "colab": {
          "base_uri": "https://localhost:8080/"
        },
        "id": "YrUs_kd-k_Ef",
        "outputId": "9272a0ac-6890-41fb-db8a-d3fbf5cf74a5"
      },
      "execution_count": null,
      "outputs": [
        {
          "output_type": "execute_result",
          "data": {
            "text/plain": [
              "{10, 300, 400, 2000, 3000}"
            ]
          },
          "metadata": {},
          "execution_count": 33
        }
      ]
    },
    {
      "cell_type": "code",
      "source": [
        "s.add('hi')\n",
        "s"
      ],
      "metadata": {
        "colab": {
          "base_uri": "https://localhost:8080/"
        },
        "id": "E0_BIk6MlUMt",
        "outputId": "e7baef1d-0e32-4792-c064-447666509661"
      },
      "execution_count": null,
      "outputs": [
        {
          "output_type": "execute_result",
          "data": {
            "text/plain": [
              "{10, 2000, 300, 3000, 400, 'hi'}"
            ]
          },
          "metadata": {},
          "execution_count": 38
        }
      ]
    },
    {
      "cell_type": "code",
      "source": [
        "s.add((25,30,35))\n",
        "s"
      ],
      "metadata": {
        "colab": {
          "base_uri": "https://localhost:8080/"
        },
        "id": "G-QHxF7ElakF",
        "outputId": "7090035d-769d-404d-a84b-b66ef2af56f7"
      },
      "execution_count": null,
      "outputs": [
        {
          "output_type": "execute_result",
          "data": {
            "text/plain": [
              "{(25, 30, 35), 10, 2000, 300, 3000, 400, 'hi'}"
            ]
          },
          "metadata": {},
          "execution_count": 40
        }
      ]
    },
    {
      "cell_type": "code",
      "source": [
        "#discard\n",
        "s.discard(10)\n",
        "s"
      ],
      "metadata": {
        "colab": {
          "base_uri": "https://localhost:8080/"
        },
        "id": "bdkqB3OolagZ",
        "outputId": "04703219-492d-40f5-8641-b06979c9e3f4"
      },
      "execution_count": null,
      "outputs": [
        {
          "output_type": "execute_result",
          "data": {
            "text/plain": [
              "{(25, 30, 35), 2000, 300, 3000, 400, 'hi'}"
            ]
          },
          "metadata": {},
          "execution_count": 41
        }
      ]
    },
    {
      "cell_type": "code",
      "source": [
        "s.discard(2)\n",
        "s"
      ],
      "metadata": {
        "colab": {
          "base_uri": "https://localhost:8080/"
        },
        "id": "3kJZo70kladv",
        "outputId": "3897d317-2c5b-451a-e663-f6f92ede7cc3"
      },
      "execution_count": null,
      "outputs": [
        {
          "output_type": "execute_result",
          "data": {
            "text/plain": [
              "{(25, 30, 35), 300, 3000, 400, 'hi'}"
            ]
          },
          "metadata": {},
          "execution_count": 44
        }
      ]
    },
    {
      "cell_type": "code",
      "source": [
        "#set operations\n"
      ],
      "metadata": {
        "id": "c0bErTJ9labO"
      },
      "execution_count": null,
      "outputs": []
    },
    {
      "cell_type": "code",
      "source": [
        "#intersection=common elements from both sets\n",
        "s1={10,20,30,40,50}\n",
        "s2={40,50,60,70,80}\n",
        "s1.intersection(s2)"
      ],
      "metadata": {
        "colab": {
          "base_uri": "https://localhost:8080/"
        },
        "id": "Ut85lO6klaZW",
        "outputId": "3625f0d6-5f0c-4f14-ff91-12d3b5d9769c"
      },
      "execution_count": null,
      "outputs": [
        {
          "output_type": "execute_result",
          "data": {
            "text/plain": [
              "{40, 50}"
            ]
          },
          "metadata": {},
          "execution_count": 46
        }
      ]
    },
    {
      "cell_type": "code",
      "source": [
        "#union= selects all elements from both sets\n",
        "s1.union(s2)\n"
      ],
      "metadata": {
        "colab": {
          "base_uri": "https://localhost:8080/"
        },
        "id": "z4Ryf4acnRiN",
        "outputId": "6c5c44d7-41d7-44b5-8933-d878fc2905ab"
      },
      "execution_count": null,
      "outputs": [
        {
          "output_type": "execute_result",
          "data": {
            "text/plain": [
              "{10, 20, 30, 40, 50, 60, 70, 80}"
            ]
          },
          "metadata": {},
          "execution_count": 47
        }
      ]
    },
    {
      "cell_type": "code",
      "source": [
        "#difference=uncommon elements from set1\n",
        "s1.difference(s2)"
      ],
      "metadata": {
        "colab": {
          "base_uri": "https://localhost:8080/"
        },
        "id": "rMYWcym7ndj5",
        "outputId": "64961bcc-2757-493d-9cad-e5e5bf2328e2"
      },
      "execution_count": null,
      "outputs": [
        {
          "output_type": "execute_result",
          "data": {
            "text/plain": [
              "{10, 20, 30}"
            ]
          },
          "metadata": {},
          "execution_count": 48
        }
      ]
    },
    {
      "cell_type": "code",
      "source": [
        "s2.difference_update(s1)\n",
        "s2\n"
      ],
      "metadata": {
        "colab": {
          "base_uri": "https://localhost:8080/"
        },
        "id": "9nxZ6Rusnnxo",
        "outputId": "6fc2654b-4d24-434f-a371-d5f05d4a1d7b"
      },
      "execution_count": null,
      "outputs": [
        {
          "output_type": "execute_result",
          "data": {
            "text/plain": [
              "{60, 70, 80}"
            ]
          },
          "metadata": {},
          "execution_count": 52
        }
      ]
    },
    {
      "cell_type": "code",
      "source": [
        "#symmetric_difference = uncommon elements from set1\n",
        "s1.symmetric_difference(s2)\n"
      ],
      "metadata": {
        "colab": {
          "base_uri": "https://localhost:8080/"
        },
        "id": "Wq4cgfadnr7C",
        "outputId": "b6df9ca2-7715-48c4-9668-ab1f7e6a4ca9"
      },
      "execution_count": null,
      "outputs": [
        {
          "output_type": "execute_result",
          "data": {
            "text/plain": [
              "{10, 20, 30, 40, 50, 60, 70, 80}"
            ]
          },
          "metadata": {},
          "execution_count": 53
        }
      ]
    },
    {
      "cell_type": "code",
      "source": [
        " a = (1,2,3)\n",
        " b =[3,4,5]\n",
        " c={6,7,8}\n",
        " combination = [*a,*b,*c]\n",
        " print(combination)"
      ],
      "metadata": {
        "colab": {
          "base_uri": "https://localhost:8080/"
        },
        "id": "HY0Y1WhQorUR",
        "outputId": "b0e410c8-4b40-4784-e0f1-7066a4f49bd0"
      },
      "execution_count": null,
      "outputs": [
        {
          "output_type": "stream",
          "name": "stdout",
          "text": [
            "[1, 2, 3, 3, 4, 5, 8, 6, 7]\n"
          ]
        }
      ]
    },
    {
      "cell_type": "code",
      "source": [],
      "metadata": {
        "id": "mj8Hg0eYpLtF"
      },
      "execution_count": null,
      "outputs": []
    }
  ]
}