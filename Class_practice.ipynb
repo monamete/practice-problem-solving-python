{
  "nbformat": 4,
  "nbformat_minor": 0,
  "metadata": {
    "colab": {
      "provenance": []
    },
    "kernelspec": {
      "name": "python3",
      "display_name": "Python 3"
    },
    "language_info": {
      "name": "python"
    }
  },
  "cells": [
    {
      "cell_type": "code",
      "source": [
        "per = [8.9,4.5,5,9.0,5.0]\n",
        "for val in per:\n",
        "    if val>=5:\n",
        "        print(\"pass\")\n",
        "    else:\n",
        "        print(\"fail\")"
      ],
      "metadata": {
        "colab": {
          "base_uri": "https://localhost:8080/"
        },
        "id": "_TlhNo21R6oL",
        "outputId": "8ef7e5cf-e211-47fb-856e-909ae8805cd3"
      },
      "execution_count": null,
      "outputs": [
        {
          "output_type": "stream",
          "name": "stdout",
          "text": [
            "pass\n",
            "fail\n",
            "pass\n",
            "pass\n",
            "pass\n"
          ]
        }
      ]
    },
    {
      "cell_type": "code",
      "source": [
        "seq = [['1','2','3'],['A','B','C'],['101R','102T']]\n",
        "for item in seq:\n",
        "  for value in item:\n",
        "    if value.isalnum():\n",
        "      print(value)"
      ],
      "metadata": {
        "colab": {
          "base_uri": "https://localhost:8080/"
        },
        "id": "h0UvSNvTR6kt",
        "outputId": "86d36026-8844-46d7-8f31-8b17f6f854fb"
      },
      "execution_count": null,
      "outputs": [
        {
          "output_type": "stream",
          "name": "stdout",
          "text": [
            "1\n",
            "2\n",
            "3\n",
            "A\n",
            "B\n",
            "C\n",
            "101R\n",
            "102T\n"
          ]
        }
      ]
    },
    {
      "cell_type": "code",
      "source": [
        "d = {100:['python','java'],200:[]}"
      ],
      "metadata": {
        "id": "-TQimGSUR6hV"
      },
      "execution_count": null,
      "outputs": []
    },
    {
      "cell_type": "code",
      "source": [],
      "metadata": {
        "id": "YK3CSqpKR6eN"
      },
      "execution_count": null,
      "outputs": []
    },
    {
      "cell_type": "code",
      "source": [],
      "metadata": {
        "id": "DjKtJF7KR6bR"
      },
      "execution_count": null,
      "outputs": []
    },
    {
      "cell_type": "code",
      "source": [],
      "metadata": {
        "id": "WUWOrGDRR6Y6"
      },
      "execution_count": null,
      "outputs": []
    },
    {
      "cell_type": "code",
      "execution_count": null,
      "metadata": {
        "id": "ieM7hu7OR2TK",
        "colab": {
          "base_uri": "https://localhost:8080/"
        },
        "outputId": "f8e886ff-0c78-4143-da3f-8ea85609fe6d"
      },
      "outputs": [
        {
          "output_type": "stream",
          "name": "stdout",
          "text": [
            "[100, 20, 50]\n",
            "[35]\n"
          ]
        }
      ],
      "source": [
        "q =[100,20,35,50]\n",
        "even = []\n",
        "odd = []\n",
        "for num in q:\n",
        "  if num%2==0:\n",
        "    even.append(num)\n",
        "  else:\n",
        "    odd.append(num)\n",
        "print(even)\n",
        "print(odd)"
      ]
    },
    {
      "cell_type": "code",
      "source": [
        "#pattern program\n",
        "for i in range(1,6):\n",
        "  print('*'*i)"
      ],
      "metadata": {
        "colab": {
          "base_uri": "https://localhost:8080/"
        },
        "id": "4dwCSGN7cnrQ",
        "outputId": "76f0ff8d-4e16-4b4a-fac6-450b031235f4"
      },
      "execution_count": null,
      "outputs": [
        {
          "output_type": "stream",
          "name": "stdout",
          "text": [
            "*\n",
            "**\n",
            "***\n",
            "****\n",
            "*****\n"
          ]
        }
      ]
    },
    {
      "cell_type": "code",
      "source": [
        "for i in range(5):\n",
        "  for j in range(5):\n",
        "    print('*',end=\" \")\n",
        "  print()"
      ],
      "metadata": {
        "colab": {
          "base_uri": "https://localhost:8080/"
        },
        "id": "IPczHf9vZPzQ",
        "outputId": "243a14ed-3b85-45ca-e104-13f398edd2df"
      },
      "execution_count": null,
      "outputs": [
        {
          "output_type": "stream",
          "name": "stdout",
          "text": [
            "* * * * * \n",
            "* * * * * \n",
            "* * * * * \n",
            "* * * * * \n",
            "* * * * * \n"
          ]
        }
      ]
    },
    {
      "cell_type": "code",
      "source": [
        "for i in range(5):\n",
        "  for j in range(5):\n",
        "    if (i==0 or i==4) and (j!=0 or j!=4) and (j==0 or j==4) and (i!=0 or i!=4):\n",
        "      print('*',end='')\n",
        "      print()\n",
        "\n"
      ],
      "metadata": {
        "colab": {
          "base_uri": "https://localhost:8080/"
        },
        "id": "vd94rT7La2TQ",
        "outputId": "3bc4e48f-beb5-4de6-e168-bd97fd5120f3"
      },
      "execution_count": null,
      "outputs": [
        {
          "output_type": "stream",
          "name": "stdout",
          "text": [
            "*\n",
            "*\n",
            "*\n",
            "*\n"
          ]
        }
      ]
    },
    {
      "cell_type": "code",
      "source": [
        "for i in range(5,0,-1):\n",
        "  print('*'*i)\n"
      ],
      "metadata": {
        "colab": {
          "base_uri": "https://localhost:8080/"
        },
        "id": "q8WJAZmJcnXb",
        "outputId": "c5d3f68b-1cb4-443a-f303-17cc40c20374"
      },
      "execution_count": null,
      "outputs": [
        {
          "output_type": "stream",
          "name": "stdout",
          "text": [
            "*****\n",
            "****\n",
            "***\n",
            "**\n",
            "*\n"
          ]
        }
      ]
    },
    {
      "cell_type": "code",
      "source": [
        "for i in range(1,6):\n",
        "   for j in range(i):\n",
        "       print(chr(65+j),end='')\n",
        "   print()"
      ],
      "metadata": {
        "colab": {
          "base_uri": "https://localhost:8080/"
        },
        "id": "FKnZZZEkcnE3",
        "outputId": "18bce4c8-2c14-4ba0-edd3-2ec607612468"
      },
      "execution_count": null,
      "outputs": [
        {
          "output_type": "stream",
          "name": "stdout",
          "text": [
            "A\n",
            "AB\n",
            "ABC\n",
            "ABCD\n",
            "ABCDE\n"
          ]
        }
      ]
    },
    {
      "cell_type": "code",
      "source": [
        "for i in range(5,0,-1):\n",
        "   for j in range(i):\n",
        "      print(1+j,end='')\n",
        "   print()"
      ],
      "metadata": {
        "colab": {
          "base_uri": "https://localhost:8080/"
        },
        "id": "FQaXDf93cmqy",
        "outputId": "e6892e85-42cc-46f9-cf18-b58df6fd2d5a"
      },
      "execution_count": null,
      "outputs": [
        {
          "output_type": "stream",
          "name": "stdout",
          "text": [
            "12345\n",
            "1234\n",
            "123\n",
            "12\n",
            "1\n"
          ]
        }
      ]
    },
    {
      "cell_type": "code",
      "source": [
        "#assignment\n",
        "#you have to solve atleast 3 pattern program\n",
        "\n",
        "\n",
        "\n",
        "\n",
        "\n"
      ],
      "metadata": {
        "id": "-hXoeGTwixm8"
      },
      "execution_count": null,
      "outputs": []
    },
    {
      "cell_type": "code",
      "source": [
        "#first pattern #making square\n",
        "n=7\n",
        "for i in range(n):\n",
        "  for j in range(n):\n",
        "    print('*',end='')\n",
        "  print()"
      ],
      "metadata": {
        "colab": {
          "base_uri": "https://localhost:8080/"
        },
        "id": "vROxVIO5lWTi",
        "outputId": "6686f1b5-0ec8-4f83-ed72-d869ac51025c"
      },
      "execution_count": null,
      "outputs": [
        {
          "output_type": "stream",
          "name": "stdout",
          "text": [
            "*******\n",
            "*******\n",
            "*******\n",
            "*******\n",
            "*******\n",
            "*******\n",
            "*******\n"
          ]
        }
      ]
    },
    {
      "cell_type": "code",
      "source": [
        "#second program\n",
        "n = 3\n",
        "for i in range(0,n):\n",
        "  for j in range(0,n-i-1):\n",
        "    print(end=\" \")\n",
        "  for j in range(0,i+1):\n",
        "    print('*',end=\" \")\n",
        "\n",
        "  print()"
      ],
      "metadata": {
        "colab": {
          "base_uri": "https://localhost:8080/"
        },
        "id": "4j0PcM-_lWKY",
        "outputId": "a7a0c3dc-2612-42f0-e538-98cc4da1e641"
      },
      "execution_count": null,
      "outputs": [
        {
          "output_type": "stream",
          "name": "stdout",
          "text": [
            "  * \n",
            " * * \n",
            "* * * \n"
          ]
        }
      ]
    },
    {
      "cell_type": "code",
      "source": [
        "  n = 5\n",
        "alph = 65\n",
        "for i in range(0, n):\n",
        "    print(\" \" * (n-i), end=\" \")\n",
        "    for j in range(0, i+1):\n",
        "        print(chr(alph), end=\" \")\n",
        "        alph += 1\n",
        "    alph = 65\n",
        "    print()\n"
      ],
      "metadata": {
        "colab": {
          "base_uri": "https://localhost:8080/"
        },
        "id": "JT1C7Xt_lV7G",
        "outputId": "7def7810-2899-4d2a-fe1a-ffb6a13d7583"
      },
      "execution_count": null,
      "outputs": [
        {
          "output_type": "stream",
          "name": "stdout",
          "text": [
            "      A \n",
            "     A B \n",
            "    A B C \n",
            "   A B C D \n",
            "  A B C D E \n"
          ]
        }
      ]
    },
    {
      "cell_type": "code",
      "source": [
        "#third program\n",
        "\n",
        "for row in range(7):\n",
        "  for column in range (5):\n",
        "    if (column ==0) or ((row==0 or row==3 or row ==6)) and(column != 0):\n",
        "      print('*',end='')\n",
        "    else:\n",
        "      print(end=' ')\n",
        "  print()\n"
      ],
      "metadata": {
        "id": "SC2SnYddlVp0",
        "colab": {
          "base_uri": "https://localhost:8080/"
        },
        "outputId": "6a87096e-baf8-4793-e3fa-1fe069b0d6c8"
      },
      "execution_count": null,
      "outputs": [
        {
          "output_type": "stream",
          "name": "stdout",
          "text": [
            "*****\n",
            "*    \n",
            "*    \n",
            "*****\n",
            "*    \n",
            "*    \n",
            "*****\n"
          ]
        }
      ]
    },
    {
      "cell_type": "code",
      "source": [
        "# fourth program\n",
        "for row in range(7):\n",
        "  for col in range(5):\n",
        "    if(col==0 or col==4) and (row!=0 and row!=6) or (row==0 or row==6) and (col>0 and col<4):\n",
        "      print('*',end='')\n",
        "    else:\n",
        "      print(end=' ')\n",
        "  print()\n"
      ],
      "metadata": {
        "id": "ntTPMdVLlVZL",
        "colab": {
          "base_uri": "https://localhost:8080/"
        },
        "outputId": "634197dc-c120-4486-fa0d-d8a03a4514a5"
      },
      "execution_count": null,
      "outputs": [
        {
          "output_type": "stream",
          "name": "stdout",
          "text": [
            " *** \n",
            "*   *\n",
            "*   *\n",
            "*   *\n",
            "*   *\n",
            "*   *\n",
            " *** \n"
          ]
        }
      ]
    },
    {
      "cell_type": "code",
      "source": [
        "#fifth\n",
        "num = int(input(\"enter the no.of rows :\"))\n",
        "for i in range (1,num+1):\n",
        "  for j in range(1,i+1):\n",
        "      print('*',end='')\n",
        "  print()"
      ],
      "metadata": {
        "colab": {
          "base_uri": "https://localhost:8080/"
        },
        "id": "QBV-90MRMopr",
        "outputId": "98d5f7b2-5fb2-4ff7-d630-912d82dcdccd"
      },
      "execution_count": null,
      "outputs": [
        {
          "output_type": "stream",
          "name": "stdout",
          "text": [
            "enter the no.of rows :5\n",
            "*\n",
            "**\n",
            "***\n",
            "****\n",
            "*****\n"
          ]
        }
      ]
    },
    {
      "cell_type": "code",
      "source": [
        "for row in range(6):\n",
        "  for col in range(6):\n",
        "    if(col==0 or col==5) or (row==0 or row==5) and (col!=0 or col!=5):\n",
        "      print('*',end='')\n",
        "    else:\n",
        "      print(end=' ')\n",
        "  print()"
      ],
      "metadata": {
        "colab": {
          "base_uri": "https://localhost:8080/"
        },
        "id": "gwnwjfvtXfYu",
        "outputId": "42ac406d-7df5-43d0-c18f-35f5c54ab13e"
      },
      "execution_count": null,
      "outputs": [
        {
          "output_type": "stream",
          "name": "stdout",
          "text": [
            "******\n",
            "*    *\n",
            "*    *\n",
            "*    *\n",
            "*    *\n",
            "******\n"
          ]
        }
      ]
    },
    {
      "cell_type": "code",
      "source": [
        "#fifth\n",
        "num = int(input(\"enter the no.of rows :\"))\n",
        "for i in range (n):\n",
        "  if (i==n)\n",
        "  for j in range(1,i+1,):\n",
        "      print('*',end='')\n",
        "  print()"
      ],
      "metadata": {
        "colab": {
          "base_uri": "https://localhost:8080/"
        },
        "id": "3tHyLbG5XfU_",
        "outputId": "1880c4d4-6f06-4502-e445-e9d816090393"
      },
      "execution_count": null,
      "outputs": [
        {
          "name": "stdout",
          "output_type": "stream",
          "text": [
            "enter the no.of rows :5\n"
          ]
        }
      ]
    },
    {
      "cell_type": "code",
      "source": [
        "#30-8-24\n",
        "num = 1\n",
        "while num<6:\n",
        "  print(num)\n",
        "  num+=1"
      ],
      "metadata": {
        "colab": {
          "base_uri": "https://localhost:8080/"
        },
        "id": "mjGM-yXuXfSM",
        "outputId": "de446ae1-bc74-4796-e379-8a0b5672c72b"
      },
      "execution_count": null,
      "outputs": [
        {
          "output_type": "stream",
          "name": "stdout",
          "text": [
            "1\n",
            "2\n",
            "3\n",
            "4\n",
            "5\n"
          ]
        }
      ]
    },
    {
      "cell_type": "code",
      "source": [
        "num = 10\n",
        "while num>0:\n",
        "  print(num)\n",
        "  num-=1"
      ],
      "metadata": {
        "colab": {
          "base_uri": "https://localhost:8080/"
        },
        "id": "NfDOIW_qXfPY",
        "outputId": "788a0805-2d64-4b04-c67c-e4b555448f65"
      },
      "execution_count": null,
      "outputs": [
        {
          "output_type": "stream",
          "name": "stdout",
          "text": [
            "10\n",
            "9\n",
            "8\n",
            "7\n",
            "6\n",
            "5\n",
            "4\n",
            "3\n",
            "2\n",
            "1\n"
          ]
        }
      ]
    },
    {
      "cell_type": "code",
      "source": [
        "s = \"MAHABHARAT\"\n",
        "index = 0\n",
        "while index<len(s):\n",
        "  print(s[index])\n",
        "  index+=1"
      ],
      "metadata": {
        "colab": {
          "base_uri": "https://localhost:8080/"
        },
        "id": "wYLtuEJGXfMm",
        "outputId": "5862c9cf-f065-403a-b295-19aed25c5928"
      },
      "execution_count": null,
      "outputs": [
        {
          "output_type": "stream",
          "name": "stdout",
          "text": [
            "M\n",
            "A\n",
            "H\n",
            "A\n",
            "B\n",
            "H\n",
            "A\n",
            "R\n",
            "A\n",
            "T\n"
          ]
        }
      ]
    },
    {
      "cell_type": "code",
      "source": [
        "s = \"MAHABHARAT\"\n",
        "index = len(s)-1\n",
        "while index >=0:\n",
        "  print(s[index])\n",
        "  index-=1"
      ],
      "metadata": {
        "colab": {
          "base_uri": "https://localhost:8080/"
        },
        "id": "tKymq4mfE-D8",
        "outputId": "47a5f5ea-3834-419e-b9e2-92d927e102e3"
      },
      "execution_count": null,
      "outputs": [
        {
          "output_type": "stream",
          "name": "stdout",
          "text": [
            "T\n",
            "A\n",
            "R\n",
            "A\n",
            "H\n",
            "B\n",
            "A\n",
            "H\n",
            "A\n",
            "M\n"
          ]
        }
      ]
    },
    {
      "cell_type": "code",
      "source": [
        "num = [1,2,3,4,5,6,7]\n",
        "for n in num:\n",
        "  if n==5:\n",
        "    continue\n",
        "  else:\n",
        "    print(n)"
      ],
      "metadata": {
        "colab": {
          "base_uri": "https://localhost:8080/"
        },
        "id": "SqIuarcEqe04",
        "outputId": "d0ddd073-1392-45f5-bd8c-d6fb6efefd1c"
      },
      "execution_count": null,
      "outputs": [
        {
          "output_type": "stream",
          "name": "stdout",
          "text": [
            "1\n",
            "2\n",
            "3\n",
            "4\n",
            "6\n",
            "7\n"
          ]
        }
      ]
    },
    {
      "cell_type": "code",
      "source": [
        "s = [1,0,2,0,4,5]\n",
        "\n",
        "for i in s:\n",
        "  if i==0:\n",
        "    s.remove(i)\n",
        "    s.append(i)\n",
        "print(s)\n"
      ],
      "metadata": {
        "colab": {
          "base_uri": "https://localhost:8080/"
        },
        "id": "cxw-ZGWDs3_6",
        "outputId": "84d3ebab-187b-4c84-a09c-33f11d7da7a1"
      },
      "execution_count": null,
      "outputs": [
        {
          "output_type": "stream",
          "name": "stdout",
          "text": [
            "[1, 2, 4, 5, 0, 0]\n"
          ]
        }
      ]
    },
    {
      "cell_type": "code",
      "source": [
        "#swap first and last character\n",
        "l1 =[1,2,3,4,5,6]\n",
        "l1[0]==l1[-1] and l1[-1]==l1[0]\n",
        "print(l1)\n"
      ],
      "metadata": {
        "colab": {
          "base_uri": "https://localhost:8080/"
        },
        "id": "IHa4NQVetYhQ",
        "outputId": "482c5b36-84fc-48ac-ce6a-78f526fd9944"
      },
      "execution_count": null,
      "outputs": [
        {
          "output_type": "stream",
          "name": "stdout",
          "text": [
            "[1, 2, 3, 4, 5, 6]\n"
          ]
        }
      ]
    },
    {
      "cell_type": "code",
      "source": [
        "#list comprehension=[expression for item in sequence]\n",
        "range(10)\n",
        "[val+10 for val in range(10)]\n",
        "\n",
        "\n"
      ],
      "metadata": {
        "id": "yr14VSkKuJVo",
        "colab": {
          "base_uri": "https://localhost:8080/"
        },
        "outputId": "e812f8de-b221-4834-9b54-c40bf0f5023b"
      },
      "execution_count": null,
      "outputs": [
        {
          "output_type": "execute_result",
          "data": {
            "text/plain": [
              "[10, 11, 12, 13, 14, 15, 16, 17, 18, 19]"
            ]
          },
          "metadata": {},
          "execution_count": 1
        }
      ]
    },
    {
      "cell_type": "code",
      "source": [
        "[val-1 for val in range (10)]"
      ],
      "metadata": {
        "colab": {
          "base_uri": "https://localhost:8080/"
        },
        "id": "tg3FhVOXvxGL",
        "outputId": "983432d5-2712-478d-9282-09e03744fb72"
      },
      "execution_count": null,
      "outputs": [
        {
          "output_type": "execute_result",
          "data": {
            "text/plain": [
              "[-1, 0, 1, 2, 3, 4, 5, 6, 7, 8]"
            ]
          },
          "metadata": {},
          "execution_count": 2
        }
      ]
    },
    {
      "cell_type": "code",
      "source": [
        "[val%2 for val in range(10)]"
      ],
      "metadata": {
        "colab": {
          "base_uri": "https://localhost:8080/"
        },
        "id": "cIhsmWPAv8_g",
        "outputId": "d596cdf6-a84a-408c-9b7b-4a88691cd2f1"
      },
      "execution_count": null,
      "outputs": [
        {
          "output_type": "execute_result",
          "data": {
            "text/plain": [
              "[0, 1, 0, 1, 0, 1, 0, 1, 0, 1]"
            ]
          },
          "metadata": {},
          "execution_count": 3
        }
      ]
    },
    {
      "cell_type": "code",
      "source": [
        "f = [3,2,8,12,25]\n",
        "[(num,num**2) for num in f]"
      ],
      "metadata": {
        "colab": {
          "base_uri": "https://localhost:8080/"
        },
        "id": "y1eOfnNcwIDs",
        "outputId": "71b1afde-d268-4d66-f73e-f95f40bfee65"
      },
      "execution_count": null,
      "outputs": [
        {
          "output_type": "execute_result",
          "data": {
            "text/plain": [
              "[(3, 9), (2, 4), (8, 64), (12, 144), (25, 625)]"
            ]
          },
          "metadata": {},
          "execution_count": 7
        }
      ]
    },
    {
      "cell_type": "code",
      "source": [
        "s =[-3,5,2,-4,0,-9,10,7]\n",
        "[num for num in s if num>0]"
      ],
      "metadata": {
        "colab": {
          "base_uri": "https://localhost:8080/"
        },
        "id": "-twXlD9iwjtr",
        "outputId": "cc98efd7-f1f8-4339-91ad-6213d13b7bbb"
      },
      "execution_count": null,
      "outputs": [
        {
          "output_type": "execute_result",
          "data": {
            "text/plain": [
              "[5, 2, 10, 7]"
            ]
          },
          "metadata": {},
          "execution_count": 13
        }
      ]
    },
    {
      "cell_type": "code",
      "source": [
        "#i want new list of students in uppercase where name is ending with \"i\"\n",
        "f = ['anjali','madhuri','ram','anita','rupali']\n",
        "[name.upper()for name in f if name.endswith('i')]"
      ],
      "metadata": {
        "id": "-ecl3DxSye9J",
        "colab": {
          "base_uri": "https://localhost:8080/"
        },
        "outputId": "7d2a744b-0de6-443c-f349-40f35a1d49cd"
      },
      "execution_count": null,
      "outputs": [
        {
          "output_type": "execute_result",
          "data": {
            "text/plain": [
              "['ANJALI', 'MADHURI', 'RUPALI']"
            ]
          },
          "metadata": {},
          "execution_count": 9
        }
      ]
    },
    {
      "cell_type": "code",
      "source": [
        "[name.upper()for name in f if name.startswith('a')]"
      ],
      "metadata": {
        "colab": {
          "base_uri": "https://localhost:8080/"
        },
        "id": "7DnK0pLpqn4b",
        "outputId": "f5b3c98d-e0dd-4e4c-b08c-ae9719d93f48"
      },
      "execution_count": null,
      "outputs": [
        {
          "output_type": "execute_result",
          "data": {
            "text/plain": [
              "['ANJALI', 'ANITA']"
            ]
          },
          "metadata": {},
          "execution_count": 7
        }
      ]
    },
    {
      "cell_type": "code",
      "source": [
        "[(name[1:]+name[:-1])for name in f if name.startswith('a')]"
      ],
      "metadata": {
        "colab": {
          "base_uri": "https://localhost:8080/"
        },
        "id": "zcQFYfLErMJn",
        "outputId": "6c97a543-ef19-4136-8acd-20cb85da8fa4"
      },
      "execution_count": null,
      "outputs": [
        {
          "output_type": "execute_result",
          "data": {
            "text/plain": [
              "['njalianjal', 'nitaanit']"
            ]
          },
          "metadata": {},
          "execution_count": 14
        }
      ]
    },
    {
      "cell_type": "code",
      "source": [
        "#dictionary comrehension\n",
        "s = [2,3,5,7,9,8,6]\n",
        "list(enumerate(s))"
      ],
      "metadata": {
        "colab": {
          "base_uri": "https://localhost:8080/"
        },
        "id": "oNnEiUZZsI3H",
        "outputId": "9e1cb854-8854-4570-b9d2-f17f7cc7815c"
      },
      "execution_count": null,
      "outputs": [
        {
          "output_type": "execute_result",
          "data": {
            "text/plain": [
              "[(0, 2), (1, 3), (2, 5), (3, 7), (4, 9), (5, 8), (6, 6)]"
            ]
          },
          "metadata": {},
          "execution_count": 16
        }
      ]
    },
    {
      "cell_type": "code",
      "source": [
        "dict(list(enumerate(s)))"
      ],
      "metadata": {
        "colab": {
          "base_uri": "https://localhost:8080/"
        },
        "id": "byXI5J-ItGL8",
        "outputId": "e965992a-f238-4cc6-849f-34168c8d72b9"
      },
      "execution_count": null,
      "outputs": [
        {
          "output_type": "execute_result",
          "data": {
            "text/plain": [
              "{0: 2, 1: 3, 2: 5, 3: 7, 4: 9, 5: 8, 6: 6}"
            ]
          },
          "metadata": {},
          "execution_count": 17
        }
      ]
    },
    {
      "cell_type": "code",
      "source": [
        "{index:value for index , value in enumerate(s)}"
      ],
      "metadata": {
        "colab": {
          "base_uri": "https://localhost:8080/"
        },
        "id": "_1Pjc11itUsT",
        "outputId": "f0a68486-d278-4d58-bb9d-4ba96311d5da"
      },
      "execution_count": null,
      "outputs": [
        {
          "output_type": "execute_result",
          "data": {
            "text/plain": [
              "{0: 2, 1: 3, 2: 5, 3: 7, 4: 9, 5: 8, 6: 6}"
            ]
          },
          "metadata": {},
          "execution_count": 18
        }
      ]
    },
    {
      "cell_type": "code",
      "source": [
        "#[exprs_1 if<condition>else exprs_2 for val in iterable]\n",
        "f = [0,1,0,0,1,0,1,1,0]\n",
        "['male' if val==0 else 'female' for val in f]"
      ],
      "metadata": {
        "id": "pwvGGAlXtohx",
        "colab": {
          "base_uri": "https://localhost:8080/"
        },
        "outputId": "680647f4-fbfb-46a7-9b82-e6c7054c0d2a"
      },
      "execution_count": null,
      "outputs": [
        {
          "output_type": "execute_result",
          "data": {
            "text/plain": [
              "['male',\n",
              " 'female',\n",
              " 'male',\n",
              " 'male',\n",
              " 'female',\n",
              " 'male',\n",
              " 'female',\n",
              " 'female',\n",
              " 'male']"
            ]
          },
          "metadata": {},
          "execution_count": 1
        }
      ]
    },
    {
      "cell_type": "code",
      "source": [
        "s = [10000,18000,250000,400000,100000,80000]\n",
        "[sal +10000 if sal<20000 else sal +5000 for sal in s]"
      ],
      "metadata": {
        "colab": {
          "base_uri": "https://localhost:8080/"
        },
        "id": "g5DxXMMJq-AC",
        "outputId": "ed876be0-61b8-4d47-e51e-c4ed05a89c29"
      },
      "execution_count": null,
      "outputs": [
        {
          "output_type": "execute_result",
          "data": {
            "text/plain": [
              "[20000, 28000, 255000, 405000, 105000, 85000]"
            ]
          },
          "metadata": {},
          "execution_count": 3
        }
      ]
    },
    {
      "cell_type": "code",
      "source": [
        "#functions\n",
        "def info():\n",
        "  name = 'monika'\n",
        "  age = 22\n",
        "  place = 'pune'\n",
        "  print('name is',name,'age is',age,'and place is',place)\n",
        "info()"
      ],
      "metadata": {
        "colab": {
          "base_uri": "https://localhost:8080/"
        },
        "id": "hWrAlID8sBJ9",
        "outputId": "e7257d4d-fa88-4004-99d1-55b0fd92d0f7"
      },
      "execution_count": null,
      "outputs": [
        {
          "output_type": "stream",
          "name": "stdout",
          "text": [
            "name is monika age is 22 and place is pune\n"
          ]
        }
      ]
    },
    {
      "cell_type": "code",
      "source": [
        "def booking(b_id,amt):\n",
        " print('your booking id : ',b_id)\n",
        " print('your booking amt : ',amt)\n",
        "\n",
        "booking(2500,'sbi123')\n"
      ],
      "metadata": {
        "id": "N0vVlSTR39FF",
        "colab": {
          "base_uri": "https://localhost:8080/"
        },
        "outputId": "26b87f1a-d53e-4938-cf45-a6e492ea7417"
      },
      "execution_count": null,
      "outputs": [
        {
          "output_type": "stream",
          "name": "stdout",
          "text": [
            "your booking id :  2500\n",
            "your booking amt :  sbi123\n"
          ]
        }
      ]
    },
    {
      "cell_type": "code",
      "source": [
        "def info(name,pincode,salary):\n",
        "  print(\"my name is:\",name, \"pincode is:\",pincode, \"salary is :\",salary)\n",
        "info('rama',411046,45000)"
      ],
      "metadata": {
        "colab": {
          "base_uri": "https://localhost:8080/"
        },
        "id": "kmAlX_vMlaS9",
        "outputId": "56030082-77a0-414a-a46a-d5097d14535a"
      },
      "execution_count": null,
      "outputs": [
        {
          "output_type": "stream",
          "name": "stdout",
          "text": [
            "my name is: rama pincode is: 411046 salary is : 45000\n"
          ]
        }
      ]
    },
    {
      "cell_type": "code",
      "source": [
        "#keyword argument:sequence doesnt matters\n",
        "#arg = value\n",
        "\n",
        "info(name='monika',pincode=411046,salary=45000)"
      ],
      "metadata": {
        "colab": {
          "base_uri": "https://localhost:8080/"
        },
        "id": "_mPSnbSWlaPe",
        "outputId": "e694fa2c-0c9f-4d4b-899f-6831e165b7a1"
      },
      "execution_count": null,
      "outputs": [
        {
          "output_type": "stream",
          "name": "stdout",
          "text": [
            "my name is: monika pincode is: 411046 salary is : 45000\n"
          ]
        }
      ]
    },
    {
      "cell_type": "markdown",
      "source": [],
      "metadata": {
        "id": "JA8n4Rq10A4w"
      }
    },
    {
      "cell_type": "code",
      "source": [
        "#Default argument\n",
        "def open_account(name='guest',id=101,balance=0.0):\n",
        "  print('Account holder name : ',name)\n",
        "  print('Account id : ',id)\n",
        "  print('Account balance : ',balance)\n",
        "open_account('hitesh',1035,1000)\n"
      ],
      "metadata": {
        "colab": {
          "base_uri": "https://localhost:8080/"
        },
        "id": "MOn_qTpqlaMh",
        "outputId": "e8fa7c0e-7981-4e13-b73b-0c527fce89c3"
      },
      "execution_count": null,
      "outputs": [
        {
          "output_type": "stream",
          "name": "stdout",
          "text": [
            "Account holder name :  hitesh\n",
            "Account id :  1035\n",
            "Account balance :  1000\n"
          ]
        }
      ]
    },
    {
      "cell_type": "code",
      "source": [
        "#Variable length positional argument: *args\n",
        "#Variable length keyword argument: *kwargs\n",
        "\n",
        "def details (*det):\n",
        "  print('name')\n",
        "  print('name','age','place')\n"
      ],
      "metadata": {
        "id": "jSvv7sJUlaKB"
      },
      "execution_count": null,
      "outputs": []
    },
    {
      "cell_type": "code",
      "source": [
        "details()"
      ],
      "metadata": {
        "id": "vX9htOvvb_LN",
        "colab": {
          "base_uri": "https://localhost:8080/"
        },
        "outputId": "7aac6f85-db47-482f-da79-e1627a03a38a"
      },
      "execution_count": null,
      "outputs": [
        {
          "output_type": "stream",
          "name": "stdout",
          "text": [
            "name\n",
            "name age place\n"
          ]
        }
      ]
    },
    {
      "cell_type": "code",
      "source": [
        "def personal_details(**kwargs):\n",
        "  print(kwargs)\n",
        "\n",
        "  personal_details(name='mona',age=22,place='pune')\n",
        "  personal_details(place='satara')\n",
        "\n",
        "\n",
        "\n",
        "personal_details()"
      ],
      "metadata": {
        "colab": {
          "base_uri": "https://localhost:8080/",
          "height": 1000
        },
        "id": "yOYEzjKNJLeo",
        "outputId": "9a20e602-b921-4520-d703-e405c37347ed"
      },
      "execution_count": null,
      "outputs": [
        {
          "output_type": "stream",
          "name": "stdout",
          "text": [
            "{}\n",
            "{'name': 'mona', 'age': 22, 'place': 'pune'}\n",
            "{'name': 'mona', 'age': 22, 'place': 'pune'}\n",
            "{'name': 'mona', 'age': 22, 'place': 'pune'}\n",
            "{'name': 'mona', 'age': 22, 'place': 'pune'}\n",
            "{'name': 'mona', 'age': 22, 'place': 'pune'}\n",
            "{'name': 'mona', 'age': 22, 'place': 'pune'}\n",
            "{'name': 'mona', 'age': 22, 'place': 'pune'}\n",
            "{'name': 'mona', 'age': 22, 'place': 'pune'}\n",
            "{'name': 'mona', 'age': 22, 'place': 'pune'}\n",
            "{'name': 'mona', 'age': 22, 'place': 'pune'}\n",
            "{'name': 'mona', 'age': 22, 'place': 'pune'}\n",
            "{'name': 'mona', 'age': 22, 'place': 'pune'}\n",
            "{'name': 'mona', 'age': 22, 'place': 'pune'}\n",
            "{'name': 'mona', 'age': 22, 'place': 'pune'}\n",
            "{'name': 'mona', 'age': 22, 'place': 'pune'}\n",
            "{'name': 'mona', 'age': 22, 'place': 'pune'}\n",
            "{'name': 'mona', 'age': 22, 'place': 'pune'}\n",
            "{'name': 'mona', 'age': 22, 'place': 'pune'}\n",
            "{'name': 'mona', 'age': 22, 'place': 'pune'}\n",
            "{'name': 'mona', 'age': 22, 'place': 'pune'}\n",
            "{'name': 'mona', 'age': 22, 'place': 'pune'}\n",
            "{'name': 'mona', 'age': 22, 'place': 'pune'}\n",
            "{'name': 'mona', 'age': 22, 'place': 'pune'}\n",
            "{'name': 'mona', 'age': 22, 'place': 'pune'}\n",
            "{'name': 'mona', 'age': 22, 'place': 'pune'}\n",
            "{'name': 'mona', 'age': 22, 'place': 'pune'}\n",
            "{'name': 'mona', 'age': 22, 'place': 'pune'}\n",
            "{'name': 'mona', 'age': 22, 'place': 'pune'}\n",
            "{'name': 'mona', 'age': 22, 'place': 'pune'}\n",
            "{'name': 'mona', 'age': 22, 'place': 'pune'}\n",
            "{'name': 'mona', 'age': 22, 'place': 'pune'}\n",
            "{'name': 'mona', 'age': 22, 'place': 'pune'}\n",
            "{'name': 'mona', 'age': 22, 'place': 'pune'}\n",
            "{'name': 'mona', 'age': 22, 'place': 'pune'}\n",
            "{'name': 'mona', 'age': 22, 'place': 'pune'}\n",
            "{'name': 'mona', 'age': 22, 'place': 'pune'}\n",
            "{'name': 'mona', 'age': 22, 'place': 'pune'}\n",
            "{'name': 'mona', 'age': 22, 'place': 'pune'}\n",
            "{'name': 'mona', 'age': 22, 'place': 'pune'}\n",
            "{'name': 'mona', 'age': 22, 'place': 'pune'}\n",
            "{'name': 'mona', 'age': 22, 'place': 'pune'}\n",
            "{'name': 'mona', 'age': 22, 'place': 'pune'}\n",
            "{'name': 'mona', 'age': 22, 'place': 'pune'}\n",
            "{'name': 'mona', 'age': 22, 'place': 'pune'}\n",
            "{'name': 'mona', 'age': 22, 'place': 'pune'}\n",
            "{'name': 'mona', 'age': 22, 'place': 'pune'}\n",
            "{'name': 'mona', 'age': 22, 'place': 'pune'}\n",
            "{'name': 'mona', 'age': 22, 'place': 'pune'}\n",
            "{'name': 'mona', 'age': 22, 'place': 'pune'}\n",
            "{'name': 'mona', 'age': 22, 'place': 'pune'}\n",
            "{'name': 'mona', 'age': 22, 'place': 'pune'}\n",
            "{'name': 'mona', 'age': 22, 'place': 'pune'}\n",
            "{'name': 'mona', 'age': 22, 'place': 'pune'}\n",
            "{'name': 'mona', 'age': 22, 'place': 'pune'}\n",
            "{'name': 'mona', 'age': 22, 'place': 'pune'}\n",
            "{'name': 'mona', 'age': 22, 'place': 'pune'}\n",
            "{'name': 'mona', 'age': 22, 'place': 'pune'}\n",
            "{'name': 'mona', 'age': 22, 'place': 'pune'}\n",
            "{'name': 'mona', 'age': 22, 'place': 'pune'}\n",
            "{'name': 'mona', 'age': 22, 'place': 'pune'}\n",
            "{'name': 'mona', 'age': 22, 'place': 'pune'}\n",
            "{'name': 'mona', 'age': 22, 'place': 'pune'}\n",
            "{'name': 'mona', 'age': 22, 'place': 'pune'}\n",
            "{'name': 'mona', 'age': 22, 'place': 'pune'}\n",
            "{'name': 'mona', 'age': 22, 'place': 'pune'}\n",
            "{'name': 'mona', 'age': 22, 'place': 'pune'}\n",
            "{'name': 'mona', 'age': 22, 'place': 'pune'}\n",
            "{'name': 'mona', 'age': 22, 'place': 'pune'}\n",
            "{'name': 'mona', 'age': 22, 'place': 'pune'}\n",
            "{'name': 'mona', 'age': 22, 'place': 'pune'}\n",
            "{'name': 'mona', 'age': 22, 'place': 'pune'}\n",
            "{'name': 'mona', 'age': 22, 'place': 'pune'}\n",
            "{'name': 'mona', 'age': 22, 'place': 'pune'}\n",
            "{'name': 'mona', 'age': 22, 'place': 'pune'}\n",
            "{'name': 'mona', 'age': 22, 'place': 'pune'}\n",
            "{'name': 'mona', 'age': 22, 'place': 'pune'}\n",
            "{'name': 'mona', 'age': 22, 'place': 'pune'}\n",
            "{'name': 'mona', 'age': 22, 'place': 'pune'}\n",
            "{'name': 'mona', 'age': 22, 'place': 'pune'}\n",
            "{'name': 'mona', 'age': 22, 'place': 'pune'}\n",
            "{'name': 'mona', 'age': 22, 'place': 'pune'}\n",
            "{'name': 'mona', 'age': 22, 'place': 'pune'}\n",
            "{'name': 'mona', 'age': 22, 'place': 'pune'}\n",
            "{'name': 'mona', 'age': 22, 'place': 'pune'}\n",
            "{'name': 'mona', 'age': 22, 'place': 'pune'}\n",
            "{'name': 'mona', 'age': 22, 'place': 'pune'}\n",
            "{'name': 'mona', 'age': 22, 'place': 'pune'}\n",
            "{'name': 'mona', 'age': 22, 'place': 'pune'}\n",
            "{'name': 'mona', 'age': 22, 'place': 'pune'}\n",
            "{'name': 'mona', 'age': 22, 'place': 'pune'}\n",
            "{'name': 'mona', 'age': 22, 'place': 'pune'}\n",
            "{'name': 'mona', 'age': 22, 'place': 'pune'}\n",
            "{'name': 'mona', 'age': 22, 'place': 'pune'}\n",
            "{'name': 'mona', 'age': 22, 'place': 'pune'}\n",
            "{'name': 'mona', 'age': 22, 'place': 'pune'}\n",
            "{'name': 'mona', 'age': 22, 'place': 'pune'}\n",
            "{'name': 'mona', 'age': 22, 'place': 'pune'}\n",
            "{'name': 'mona', 'age': 22, 'place': 'pune'}\n",
            "{'name': 'mona', 'age': 22, 'place': 'pune'}\n",
            "{'name': 'mona', 'age': 22, 'place': 'pune'}\n",
            "{'name': 'mona', 'age': 22, 'place': 'pune'}\n",
            "{'name': 'mona', 'age': 22, 'place': 'pune'}\n",
            "{'name': 'mona', 'age': 22, 'place': 'pune'}\n",
            "{'name': 'mona', 'age': 22, 'place': 'pune'}\n",
            "{'name': 'mona', 'age': 22, 'place': 'pune'}\n",
            "{'name': 'mona', 'age': 22, 'place': 'pune'}\n",
            "{'name': 'mona', 'age': 22, 'place': 'pune'}\n",
            "{'name': 'mona', 'age': 22, 'place': 'pune'}\n",
            "{'name': 'mona', 'age': 22, 'place': 'pune'}\n",
            "{'name': 'mona', 'age': 22, 'place': 'pune'}\n",
            "{'name': 'mona', 'age': 22, 'place': 'pune'}\n",
            "{'name': 'mona', 'age': 22, 'place': 'pune'}\n",
            "{'name': 'mona', 'age': 22, 'place': 'pune'}\n",
            "{'name': 'mona', 'age': 22, 'place': 'pune'}\n",
            "{'name': 'mona', 'age': 22, 'place': 'pune'}\n",
            "{'name': 'mona', 'age': 22, 'place': 'pune'}\n",
            "{'name': 'mona', 'age': 22, 'place': 'pune'}\n",
            "{'name': 'mona', 'age': 22, 'place': 'pune'}\n",
            "{'name': 'mona', 'age': 22, 'place': 'pune'}\n",
            "{'name': 'mona', 'age': 22, 'place': 'pune'}\n",
            "{'name': 'mona', 'age': 22, 'place': 'pune'}\n",
            "{'name': 'mona', 'age': 22, 'place': 'pune'}\n",
            "{'name': 'mona', 'age': 22, 'place': 'pune'}\n",
            "{'name': 'mona', 'age': 22, 'place': 'pune'}\n",
            "{'name': 'mona', 'age': 22, 'place': 'pune'}\n",
            "{'name': 'mona', 'age': 22, 'place': 'pune'}\n",
            "{'name': 'mona', 'age': 22, 'place': 'pune'}\n",
            "{'name': 'mona', 'age': 22, 'place': 'pune'}\n",
            "{'name': 'mona', 'age': 22, 'place': 'pune'}\n",
            "{'name': 'mona', 'age': 22, 'place': 'pune'}\n",
            "{'name': 'mona', 'age': 22, 'place': 'pune'}\n",
            "{'name': 'mona', 'age': 22, 'place': 'pune'}\n",
            "{'name': 'mona', 'age': 22, 'place': 'pune'}\n",
            "{'name': 'mona', 'age': 22, 'place': 'pune'}\n",
            "{'name': 'mona', 'age': 22, 'place': 'pune'}\n",
            "{'name': 'mona', 'age': 22, 'place': 'pune'}\n",
            "{'name': 'mona', 'age': 22, 'place': 'pune'}\n",
            "{'name': 'mona', 'age': 22, 'place': 'pune'}\n",
            "{'name': 'mona', 'age': 22, 'place': 'pune'}\n",
            "{'name': 'mona', 'age': 22, 'place': 'pune'}\n",
            "{'name': 'mona', 'age': 22, 'place': 'pune'}\n",
            "{'name': 'mona', 'age': 22, 'place': 'pune'}\n",
            "{'name': 'mona', 'age': 22, 'place': 'pune'}\n",
            "{'name': 'mona', 'age': 22, 'place': 'pune'}\n",
            "{'name': 'mona', 'age': 22, 'place': 'pune'}\n",
            "{'name': 'mona', 'age': 22, 'place': 'pune'}\n",
            "{'name': 'mona', 'age': 22, 'place': 'pune'}\n",
            "{'name': 'mona', 'age': 22, 'place': 'pune'}\n",
            "{'name': 'mona', 'age': 22, 'place': 'pune'}\n",
            "{'name': 'mona', 'age': 22, 'place': 'pune'}\n",
            "{'name': 'mona', 'age': 22, 'place': 'pune'}\n",
            "{'name': 'mona', 'age': 22, 'place': 'pune'}\n",
            "{'name': 'mona', 'age': 22, 'place': 'pune'}\n",
            "{'name': 'mona', 'age': 22, 'place': 'pune'}\n",
            "{'name': 'mona', 'age': 22, 'place': 'pune'}\n",
            "{'name': 'mona', 'age': 22, 'place': 'pune'}\n",
            "{'name': 'mona', 'age': 22, 'place': 'pune'}\n",
            "{'name': 'mona', 'age': 22, 'place': 'pune'}\n",
            "{'name': 'mona', 'age': 22, 'place': 'pune'}\n",
            "{'name': 'mona', 'age': 22, 'place': 'pune'}\n",
            "{'name': 'mona', 'age': 22, 'place': 'pune'}\n",
            "{'name': 'mona', 'age': 22, 'place': 'pune'}\n",
            "{'name': 'mona', 'age': 22, 'place': 'pune'}\n",
            "{'name': 'mona', 'age': 22, 'place': 'pune'}\n",
            "{'name': 'mona', 'age': 22, 'place': 'pune'}\n",
            "{'name': 'mona', 'age': 22, 'place': 'pune'}\n",
            "{'name': 'mona', 'age': 22, 'place': 'pune'}\n",
            "{'name': 'mona', 'age': 22, 'place': 'pune'}\n",
            "{'name': 'mona', 'age': 22, 'place': 'pune'}\n",
            "{'name': 'mona', 'age': 22, 'place': 'pune'}\n",
            "{'name': 'mona', 'age': 22, 'place': 'pune'}\n",
            "{'name': 'mona', 'age': 22, 'place': 'pune'}\n",
            "{'name': 'mona', 'age': 22, 'place': 'pune'}\n",
            "{'name': 'mona', 'age': 22, 'place': 'pune'}\n",
            "{'name': 'mona', 'age': 22, 'place': 'pune'}\n",
            "{'name': 'mona', 'age': 22, 'place': 'pune'}\n",
            "{'name': 'mona', 'age': 22, 'place': 'pune'}\n",
            "{'name': 'mona', 'age': 22, 'place': 'pune'}\n",
            "{'name': 'mona', 'age': 22, 'place': 'pune'}\n",
            "{'name': 'mona', 'age': 22, 'place': 'pune'}\n",
            "{'name': 'mona', 'age': 22, 'place': 'pune'}\n",
            "{'name': 'mona', 'age': 22, 'place': 'pune'}\n",
            "{'name': 'mona', 'age': 22, 'place': 'pune'}\n",
            "{'name': 'mona', 'age': 22, 'place': 'pune'}\n",
            "{'name': 'mona', 'age': 22, 'place': 'pune'}\n",
            "{'name': 'mona', 'age': 22, 'place': 'pune'}\n",
            "{'name': 'mona', 'age': 22, 'place': 'pune'}\n",
            "{'name': 'mona', 'age': 22, 'place': 'pune'}\n",
            "{'name': 'mona', 'age': 22, 'place': 'pune'}\n",
            "{'name': 'mona', 'age': 22, 'place': 'pune'}\n",
            "{'name': 'mona', 'age': 22, 'place': 'pune'}\n",
            "{'name': 'mona', 'age': 22, 'place': 'pune'}\n",
            "{'name': 'mona', 'age': 22, 'place': 'pune'}\n",
            "{'name': 'mona', 'age': 22, 'place': 'pune'}\n",
            "{'name': 'mona', 'age': 22, 'place': 'pune'}\n",
            "{'name': 'mona', 'age': 22, 'place': 'pune'}\n",
            "{'name': 'mona', 'age': 22, 'place': 'pune'}\n",
            "{'name': 'mona', 'age': 22, 'place': 'pune'}\n",
            "{'name': 'mona', 'age': 22, 'place': 'pune'}\n",
            "{'name': 'mona', 'age': 22, 'place': 'pune'}\n",
            "{'name': 'mona', 'age': 22, 'place': 'pune'}\n",
            "{'name': 'mona', 'age': 22, 'place': 'pune'}\n",
            "{'name': 'mona', 'age': 22, 'place': 'pune'}\n",
            "{'name': 'mona', 'age': 22, 'place': 'pune'}\n",
            "{'name': 'mona', 'age': 22, 'place': 'pune'}\n",
            "{'name': 'mona', 'age': 22, 'place': 'pune'}\n",
            "{'name': 'mona', 'age': 22, 'place': 'pune'}\n",
            "{'name': 'mona', 'age': 22, 'place': 'pune'}\n",
            "{'name': 'mona', 'age': 22, 'place': 'pune'}\n",
            "{'name': 'mona', 'age': 22, 'place': 'pune'}\n",
            "{'name': 'mona', 'age': 22, 'place': 'pune'}\n",
            "{'name': 'mona', 'age': 22, 'place': 'pune'}\n",
            "{'name': 'mona', 'age': 22, 'place': 'pune'}\n",
            "{'name': 'mona', 'age': 22, 'place': 'pune'}\n",
            "{'name': 'mona', 'age': 22, 'place': 'pune'}\n",
            "{'name': 'mona', 'age': 22, 'place': 'pune'}\n",
            "{'name': 'mona', 'age': 22, 'place': 'pune'}\n",
            "{'name': 'mona', 'age': 22, 'place': 'pune'}\n",
            "{'name': 'mona', 'age': 22, 'place': 'pune'}\n",
            "{'name': 'mona', 'age': 22, 'place': 'pune'}\n",
            "{'name': 'mona', 'age': 22, 'place': 'pune'}\n",
            "{'name': 'mona', 'age': 22, 'place': 'pune'}\n",
            "{'name': 'mona', 'age': 22, 'place': 'pune'}\n",
            "{'name': 'mona', 'age': 22, 'place': 'pune'}\n",
            "{'name': 'mona', 'age': 22, 'place': 'pune'}\n",
            "{'name': 'mona', 'age': 22, 'place': 'pune'}\n",
            "{'name': 'mona', 'age': 22, 'place': 'pune'}\n",
            "{'name': 'mona', 'age': 22, 'place': 'pune'}\n",
            "{'name': 'mona', 'age': 22, 'place': 'pune'}\n",
            "{'name': 'mona', 'age': 22, 'place': 'pune'}\n",
            "{'name': 'mona', 'age': 22, 'place': 'pune'}\n",
            "{'name': 'mona', 'age': 22, 'place': 'pune'}\n",
            "{'name': 'mona', 'age': 22, 'place': 'pune'}\n",
            "{'name': 'mona', 'age': 22, 'place': 'pune'}\n",
            "{'name': 'mona', 'age': 22, 'place': 'pune'}\n",
            "{'name': 'mona', 'age': 22, 'place': 'pune'}\n",
            "{'name': 'mona', 'age': 22, 'place': 'pune'}\n",
            "{'name': 'mona', 'age': 22, 'place': 'pune'}\n",
            "{'name': 'mona', 'age': 22, 'place': 'pune'}\n",
            "{'name': 'mona', 'age': 22, 'place': 'pune'}\n",
            "{'name': 'mona', 'age': 22, 'place': 'pune'}\n",
            "{'name': 'mona', 'age': 22, 'place': 'pune'}\n",
            "{'name': 'mona', 'age': 22, 'place': 'pune'}\n",
            "{'name': 'mona', 'age': 22, 'place': 'pune'}\n",
            "{'name': 'mona', 'age': 22, 'place': 'pune'}\n",
            "{'name': 'mona', 'age': 22, 'place': 'pune'}\n",
            "{'name': 'mona', 'age': 22, 'place': 'pune'}\n",
            "{'name': 'mona', 'age': 22, 'place': 'pune'}\n",
            "{'name': 'mona', 'age': 22, 'place': 'pune'}\n",
            "{'name': 'mona', 'age': 22, 'place': 'pune'}\n",
            "{'name': 'mona', 'age': 22, 'place': 'pune'}\n",
            "{'name': 'mona', 'age': 22, 'place': 'pune'}\n",
            "{'name': 'mona', 'age': 22, 'place': 'pune'}\n",
            "{'name': 'mona', 'age': 22, 'place': 'pune'}\n",
            "{'name': 'mona', 'age': 22, 'place': 'pune'}\n",
            "{'name': 'mona', 'age': 22, 'place': 'pune'}\n",
            "{'name': 'mona', 'age': 22, 'place': 'pune'}\n",
            "{'name': 'mona', 'age': 22, 'place': 'pune'}\n",
            "{'name': 'mona', 'age': 22, 'place': 'pune'}\n",
            "{'name': 'mona', 'age': 22, 'place': 'pune'}\n",
            "{'name': 'mona', 'age': 22, 'place': 'pune'}\n",
            "{'name': 'mona', 'age': 22, 'place': 'pune'}\n",
            "{'name': 'mona', 'age': 22, 'place': 'pune'}\n",
            "{'name': 'mona', 'age': 22, 'place': 'pune'}\n",
            "{'name': 'mona', 'age': 22, 'place': 'pune'}\n",
            "{'name': 'mona', 'age': 22, 'place': 'pune'}\n",
            "{'name': 'mona', 'age': 22, 'place': 'pune'}\n",
            "{'name': 'mona', 'age': 22, 'place': 'pune'}\n",
            "{'name': 'mona', 'age': 22, 'place': 'pune'}\n",
            "{'name': 'mona', 'age': 22, 'place': 'pune'}\n",
            "{'name': 'mona', 'age': 22, 'place': 'pune'}\n",
            "{'name': 'mona', 'age': 22, 'place': 'pune'}\n",
            "{'name': 'mona', 'age': 22, 'place': 'pune'}\n",
            "{'name': 'mona', 'age': 22, 'place': 'pune'}\n",
            "{'name': 'mona', 'age': 22, 'place': 'pune'}\n",
            "{'name': 'mona', 'age': 22, 'place': 'pune'}\n",
            "{'name': 'mona', 'age': 22, 'place': 'pune'}\n",
            "{'name': 'mona', 'age': 22, 'place': 'pune'}\n",
            "{'name': 'mona', 'age': 22, 'place': 'pune'}\n",
            "{'name': 'mona', 'age': 22, 'place': 'pune'}\n",
            "{'name': 'mona', 'age': 22, 'place': 'pune'}\n",
            "{'name': 'mona', 'age': 22, 'place': 'pune'}\n",
            "{'name': 'mona', 'age': 22, 'place': 'pune'}\n",
            "{'name': 'mona', 'age': 22, 'place': 'pune'}\n",
            "{'name': 'mona', 'age': 22, 'place': 'pune'}\n",
            "{'name': 'mona', 'age': 22, 'place': 'pune'}\n",
            "{'name': 'mona', 'age': 22, 'place': 'pune'}\n",
            "{'name': 'mona', 'age': 22, 'place': 'pune'}\n",
            "{'name': 'mona', 'age': 22, 'place': 'pune'}\n",
            "{'name': 'mona', 'age': 22, 'place': 'pune'}\n",
            "{'name': 'mona', 'age': 22, 'place': 'pune'}\n",
            "{'name': 'mona', 'age': 22, 'place': 'pune'}\n",
            "{'name': 'mona', 'age': 22, 'place': 'pune'}\n",
            "{'name': 'mona', 'age': 22, 'place': 'pune'}\n",
            "{'name': 'mona', 'age': 22, 'place': 'pune'}\n",
            "{'name': 'mona', 'age': 22, 'place': 'pune'}\n",
            "{'name': 'mona', 'age': 22, 'place': 'pune'}\n",
            "{'name': 'mona', 'age': 22, 'place': 'pune'}\n",
            "{'name': 'mona', 'age': 22, 'place': 'pune'}\n",
            "{'name': 'mona', 'age': 22, 'place': 'pune'}\n",
            "{'name': 'mona', 'age': 22, 'place': 'pune'}\n",
            "{'name': 'mona', 'age': 22, 'place': 'pune'}\n",
            "{'name': 'mona', 'age': 22, 'place': 'pune'}\n",
            "{'name': 'mona', 'age': 22, 'place': 'pune'}\n",
            "{'name': 'mona', 'age': 22, 'place': 'pune'}\n",
            "{'name': 'mona', 'age': 22, 'place': 'pune'}\n",
            "{'name': 'mona', 'age': 22, 'place': 'pune'}\n",
            "{'name': 'mona', 'age': 22, 'place': 'pune'}\n",
            "{'name': 'mona', 'age': 22, 'place': 'pune'}\n",
            "{'name': 'mona', 'age': 22, 'place': 'pune'}\n",
            "{'name': 'mona', 'age': 22, 'place': 'pune'}\n",
            "{'name': 'mona', 'age': 22, 'place': 'pune'}\n",
            "{'name': 'mona', 'age': 22, 'place': 'pune'}\n",
            "{'name': 'mona', 'age': 22, 'place': 'pune'}\n",
            "{'name': 'mona', 'age': 22, 'place': 'pune'}\n",
            "{'name': 'mona', 'age': 22, 'place': 'pune'}\n",
            "{'name': 'mona', 'age': 22, 'place': 'pune'}\n",
            "{'name': 'mona', 'age': 22, 'place': 'pune'}\n",
            "{'name': 'mona', 'age': 22, 'place': 'pune'}\n",
            "{'name': 'mona', 'age': 22, 'place': 'pune'}\n",
            "{'name': 'mona', 'age': 22, 'place': 'pune'}\n",
            "{'name': 'mona', 'age': 22, 'place': 'pune'}\n",
            "{'name': 'mona', 'age': 22, 'place': 'pune'}\n",
            "{'name': 'mona', 'age': 22, 'place': 'pune'}\n",
            "{'name': 'mona', 'age': 22, 'place': 'pune'}\n",
            "{'name': 'mona', 'age': 22, 'place': 'pune'}\n",
            "{'name': 'mona', 'age': 22, 'place': 'pune'}\n",
            "{'name': 'mona', 'age': 22, 'place': 'pune'}\n",
            "{'name': 'mona', 'age': 22, 'place': 'pune'}\n",
            "{'name': 'mona', 'age': 22, 'place': 'pune'}\n",
            "{'name': 'mona', 'age': 22, 'place': 'pune'}\n",
            "{'name': 'mona', 'age': 22, 'place': 'pune'}\n",
            "{'name': 'mona', 'age': 22, 'place': 'pune'}\n",
            "{'name': 'mona', 'age': 22, 'place': 'pune'}\n",
            "{'name': 'mona', 'age': 22, 'place': 'pune'}\n",
            "{'name': 'mona', 'age': 22, 'place': 'pune'}\n",
            "{'name': 'mona', 'age': 22, 'place': 'pune'}\n",
            "{'name': 'mona', 'age': 22, 'place': 'pune'}\n",
            "{'name': 'mona', 'age': 22, 'place': 'pune'}\n",
            "{'name': 'mona', 'age': 22, 'place': 'pune'}\n",
            "{'name': 'mona', 'age': 22, 'place': 'pune'}\n",
            "{'name': 'mona', 'age': 22, 'place': 'pune'}\n",
            "{'name': 'mona', 'age': 22, 'place': 'pune'}\n",
            "{'name': 'mona', 'age': 22, 'place': 'pune'}\n",
            "{'name': 'mona', 'age': 22, 'place': 'pune'}\n",
            "{'name': 'mona', 'age': 22, 'place': 'pune'}\n",
            "{'name': 'mona', 'age': 22, 'place': 'pune'}\n",
            "{'name': 'mona', 'age': 22, 'place': 'pune'}\n",
            "{'name': 'mona', 'age': 22, 'place': 'pune'}\n",
            "{'name': 'mona', 'age': 22, 'place': 'pune'}\n",
            "{'name': 'mona', 'age': 22, 'place': 'pune'}\n",
            "{'name': 'mona', 'age': 22, 'place': 'pune'}\n",
            "{'name': 'mona', 'age': 22, 'place': 'pune'}\n",
            "{'name': 'mona', 'age': 22, 'place': 'pune'}\n",
            "{'name': 'mona', 'age': 22, 'place': 'pune'}\n",
            "{'name': 'mona', 'age': 22, 'place': 'pune'}\n",
            "{'name': 'mona', 'age': 22, 'place': 'pune'}\n",
            "{'name': 'mona', 'age': 22, 'place': 'pune'}\n",
            "{'name': 'mona', 'age': 22, 'place': 'pune'}\n",
            "{'name': 'mona', 'age': 22, 'place': 'pune'}\n",
            "{'name': 'mona', 'age': 22, 'place': 'pune'}\n",
            "{'name': 'mona', 'age': 22, 'place': 'pune'}\n",
            "{'name': 'mona', 'age': 22, 'place': 'pune'}\n",
            "{'name': 'mona', 'age': 22, 'place': 'pune'}\n",
            "{'name': 'mona', 'age': 22, 'place': 'pune'}\n",
            "{'name': 'mona', 'age': 22, 'place': 'pune'}\n",
            "{'name': 'mona', 'age': 22, 'place': 'pune'}\n",
            "{'name': 'mona', 'age': 22, 'place': 'pune'}\n",
            "{'name': 'mona', 'age': 22, 'place': 'pune'}\n",
            "{'name': 'mona', 'age': 22, 'place': 'pune'}\n",
            "{'name': 'mona', 'age': 22, 'place': 'pune'}\n",
            "{'name': 'mona', 'age': 22, 'place': 'pune'}\n",
            "{'name': 'mona', 'age': 22, 'place': 'pune'}\n",
            "{'name': 'mona', 'age': 22, 'place': 'pune'}\n",
            "{'name': 'mona', 'age': 22, 'place': 'pune'}\n",
            "{'name': 'mona', 'age': 22, 'place': 'pune'}\n",
            "{'name': 'mona', 'age': 22, 'place': 'pune'}\n",
            "{'name': 'mona', 'age': 22, 'place': 'pune'}\n",
            "{'name': 'mona', 'age': 22, 'place': 'pune'}\n",
            "{'name': 'mona', 'age': 22, 'place': 'pune'}\n",
            "{'name': 'mona', 'age': 22, 'place': 'pune'}\n",
            "{'name': 'mona', 'age': 22, 'place': 'pune'}\n",
            "{'name': 'mona', 'age': 22, 'place': 'pune'}\n",
            "{'name': 'mona', 'age': 22, 'place': 'pune'}\n",
            "{'name': 'mona', 'age': 22, 'place': 'pune'}\n",
            "{'name': 'mona', 'age': 22, 'place': 'pune'}\n",
            "{'name': 'mona', 'age': 22, 'place': 'pune'}\n",
            "{'name': 'mona', 'age': 22, 'place': 'pune'}\n",
            "{'name': 'mona', 'age': 22, 'place': 'pune'}\n",
            "{'name': 'mona', 'age': 22, 'place': 'pune'}\n",
            "{'name': 'mona', 'age': 22, 'place': 'pune'}\n",
            "{'name': 'mona', 'age': 22, 'place': 'pune'}\n",
            "{'name': 'mona', 'age': 22, 'place': 'pune'}\n",
            "{'name': 'mona', 'age': 22, 'place': 'pune'}\n",
            "{'name': 'mona', 'age': 22, 'place': 'pune'}\n",
            "{'name': 'mona', 'age': 22, 'place': 'pune'}\n",
            "{'name': 'mona', 'age': 22, 'place': 'pune'}\n",
            "{'name': 'mona', 'age': 22, 'place': 'pune'}\n",
            "{'name': 'mona', 'age': 22, 'place': 'pune'}\n",
            "{'name': 'mona', 'age': 22, 'place': 'pune'}\n",
            "{'name': 'mona', 'age': 22, 'place': 'pune'}\n",
            "{'name': 'mona', 'age': 22, 'place': 'pune'}\n",
            "{'name': 'mona', 'age': 22, 'place': 'pune'}\n",
            "{'name': 'mona', 'age': 22, 'place': 'pune'}\n",
            "{'name': 'mona', 'age': 22, 'place': 'pune'}\n",
            "{'name': 'mona', 'age': 22, 'place': 'pune'}\n",
            "{'name': 'mona', 'age': 22, 'place': 'pune'}\n",
            "{'name': 'mona', 'age': 22, 'place': 'pune'}\n",
            "{'name': 'mona', 'age': 22, 'place': 'pune'}\n",
            "{'name': 'mona', 'age': 22, 'place': 'pune'}\n",
            "{'name': 'mona', 'age': 22, 'place': 'pune'}\n",
            "{'name': 'mona', 'age': 22, 'place': 'pune'}\n",
            "{'name': 'mona', 'age': 22, 'place': 'pune'}\n",
            "{'name': 'mona', 'age': 22, 'place': 'pune'}\n",
            "{'name': 'mona', 'age': 22, 'place': 'pune'}\n",
            "{'name': 'mona', 'age': 22, 'place': 'pune'}\n",
            "{'name': 'mona', 'age': 22, 'place': 'pune'}\n",
            "{'name': 'mona', 'age': 22, 'place': 'pune'}\n",
            "{'name': 'mona', 'age': 22, 'place': 'pune'}\n",
            "{'name': 'mona', 'age': 22, 'place': 'pune'}\n",
            "{'name': 'mona', 'age': 22, 'place': 'pune'}\n",
            "{'name': 'mona', 'age': 22, 'place': 'pune'}\n",
            "{'name': 'mona', 'age': 22, 'place': 'pune'}\n",
            "{'name': 'mona', 'age': 22, 'place': 'pune'}\n",
            "{'name': 'mona', 'age': 22, 'place': 'pune'}\n",
            "{'name': 'mona', 'age': 22, 'place': 'pune'}\n",
            "{'name': 'mona', 'age': 22, 'place': 'pune'}\n",
            "{'name': 'mona', 'age': 22, 'place': 'pune'}\n",
            "{'name': 'mona', 'age': 22, 'place': 'pune'}\n",
            "{'name': 'mona', 'age': 22, 'place': 'pune'}\n",
            "{'name': 'mona', 'age': 22, 'place': 'pune'}\n",
            "{'name': 'mona', 'age': 22, 'place': 'pune'}\n",
            "{'name': 'mona', 'age': 22, 'place': 'pune'}\n",
            "{'name': 'mona', 'age': 22, 'place': 'pune'}\n",
            "{'name': 'mona', 'age': 22, 'place': 'pune'}\n",
            "{'name': 'mona', 'age': 22, 'place': 'pune'}\n",
            "{'name': 'mona', 'age': 22, 'place': 'pune'}\n",
            "{'name': 'mona', 'age': 22, 'place': 'pune'}\n",
            "{'name': 'mona', 'age': 22, 'place': 'pune'}\n",
            "{'name': 'mona', 'age': 22, 'place': 'pune'}\n",
            "{'name': 'mona', 'age': 22, 'place': 'pune'}\n",
            "{'name': 'mona', 'age': 22, 'place': 'pune'}\n",
            "{'name': 'mona', 'age': 22, 'place': 'pune'}\n",
            "{'name': 'mona', 'age': 22, 'place': 'pune'}\n",
            "{'name': 'mona', 'age': 22, 'place': 'pune'}\n",
            "{'name': 'mona', 'age': 22, 'place': 'pune'}\n",
            "{'name': 'mona', 'age': 22, 'place': 'pune'}\n",
            "{'name': 'mona', 'age': 22, 'place': 'pune'}\n",
            "{'name': 'mona', 'age': 22, 'place': 'pune'}\n",
            "{'name': 'mona', 'age': 22, 'place': 'pune'}\n",
            "{'name': 'mona', 'age': 22, 'place': 'pune'}\n",
            "{'name': 'mona', 'age': 22, 'place': 'pune'}\n",
            "{'name': 'mona', 'age': 22, 'place': 'pune'}\n",
            "{'name': 'mona', 'age': 22, 'place': 'pune'}\n",
            "{'name': 'mona', 'age': 22, 'place': 'pune'}\n",
            "{'name': 'mona', 'age': 22, 'place': 'pune'}\n",
            "{'name': 'mona', 'age': 22, 'place': 'pune'}\n",
            "{'name': 'mona', 'age': 22, 'place': 'pune'}\n",
            "{'name': 'mona', 'age': 22, 'place': 'pune'}\n",
            "{'name': 'mona', 'age': 22, 'place': 'pune'}\n",
            "{'name': 'mona', 'age': 22, 'place': 'pune'}\n",
            "{'name': 'mona', 'age': 22, 'place': 'pune'}\n",
            "{'name': 'mona', 'age': 22, 'place': 'pune'}\n",
            "{'name': 'mona', 'age': 22, 'place': 'pune'}\n",
            "{'name': 'mona', 'age': 22, 'place': 'pune'}\n",
            "{'name': 'mona', 'age': 22, 'place': 'pune'}\n",
            "{'name': 'mona', 'age': 22, 'place': 'pune'}\n",
            "{'name': 'mona', 'age': 22, 'place': 'pune'}\n",
            "{'name': 'mona', 'age': 22, 'place': 'pune'}\n",
            "{'name': 'mona', 'age': 22, 'place': 'pune'}\n",
            "{'name': 'mona', 'age': 22, 'place': 'pune'}\n",
            "{'name': 'mona', 'age': 22, 'place': 'pune'}\n",
            "{'name': 'mona', 'age': 22, 'place': 'pune'}\n",
            "{'name': 'mona', 'age': 22, 'place': 'pune'}\n",
            "{'name': 'mona', 'age': 22, 'place': 'pune'}\n",
            "{'name': 'mona', 'age': 22, 'place': 'pune'}\n",
            "{'name': 'mona', 'age': 22, 'place': 'pune'}\n",
            "{'name': 'mona', 'age': 22, 'place': 'pune'}\n",
            "{'name': 'mona', 'age': 22, 'place': 'pune'}\n",
            "{'name': 'mona', 'age': 22, 'place': 'pune'}\n",
            "{'name': 'mona', 'age': 22, 'place': 'pune'}\n",
            "{'name': 'mona', 'age': 22, 'place': 'pune'}\n",
            "{'name': 'mona', 'age': 22, 'place': 'pune'}\n",
            "{'name': 'mona', 'age': 22, 'place': 'pune'}\n",
            "{'name': 'mona', 'age': 22, 'place': 'pune'}\n",
            "{'name': 'mona', 'age': 22, 'place': 'pune'}\n",
            "{'name': 'mona', 'age': 22, 'place': 'pune'}\n",
            "{'name': 'mona', 'age': 22, 'place': 'pune'}\n",
            "{'name': 'mona', 'age': 22, 'place': 'pune'}\n",
            "{'name': 'mona', 'age': 22, 'place': 'pune'}\n",
            "{'name': 'mona', 'age': 22, 'place': 'pune'}\n",
            "{'name': 'mona', 'age': 22, 'place': 'pune'}\n",
            "{'name': 'mona', 'age': 22, 'place': 'pune'}\n",
            "{'name': 'mona', 'age': 22, 'place': 'pune'}\n",
            "{'name': 'mona', 'age': 22, 'place': 'pune'}\n",
            "{'name': 'mona', 'age': 22, 'place': 'pune'}\n",
            "{'name': 'mona', 'age': 22, 'place': 'pune'}\n",
            "{'name': 'mona', 'age': 22, 'place': 'pune'}\n",
            "{'name': 'mona', 'age': 22, 'place': 'pune'}\n",
            "{'name': 'mona', 'age': 22, 'place': 'pune'}\n",
            "{'name': 'mona', 'age': 22, 'place': 'pune'}\n",
            "{'name': 'mona', 'age': 22, 'place': 'pune'}\n",
            "{'name': 'mona', 'age': 22, 'place': 'pune'}\n",
            "{'name': 'mona', 'age': 22, 'place': 'pune'}\n",
            "{'name': 'mona', 'age': 22, 'place': 'pune'}\n",
            "{'name': 'mona', 'age': 22, 'place': 'pune'}\n",
            "{'name': 'mona', 'age': 22, 'place': 'pune'}\n",
            "{'name': 'mona', 'age': 22, 'place': 'pune'}\n",
            "{'name': 'mona', 'age': 22, 'place': 'pune'}\n",
            "{'name': 'mona', 'age': 22, 'place': 'pune'}\n",
            "{'name': 'mona', 'age': 22, 'place': 'pune'}\n",
            "{'name': 'mona', 'age': 22, 'place': 'pune'}\n",
            "{'name': 'mona', 'age': 22, 'place': 'pune'}\n",
            "{'name': 'mona', 'age': 22, 'place': 'pune'}\n",
            "{'name': 'mona', 'age': 22, 'place': 'pune'}\n",
            "{'name': 'mona', 'age': 22, 'place': 'pune'}\n",
            "{'name': 'mona', 'age': 22, 'place': 'pune'}\n",
            "{'name': 'mona', 'age': 22, 'place': 'pune'}\n",
            "{'name': 'mona', 'age': 22, 'place': 'pune'}\n",
            "{'name': 'mona', 'age': 22, 'place': 'pune'}\n",
            "{'name': 'mona', 'age': 22, 'place': 'pune'}\n",
            "{'name': 'mona', 'age': 22, 'place': 'pune'}\n",
            "{'name': 'mona', 'age': 22, 'place': 'pune'}\n",
            "{'name': 'mona', 'age': 22, 'place': 'pune'}\n",
            "{'name': 'mona', 'age': 22, 'place': 'pune'}\n",
            "{'name': 'mona', 'age': 22, 'place': 'pune'}\n",
            "{'name': 'mona', 'age': 22, 'place': 'pune'}\n",
            "{'name': 'mona', 'age': 22, 'place': 'pune'}\n",
            "{'name': 'mona', 'age': 22, 'place': 'pune'}\n",
            "{'name': 'mona', 'age': 22, 'place': 'pune'}\n",
            "{'name': 'mona', 'age': 22, 'place': 'pune'}\n",
            "{'name': 'mona', 'age': 22, 'place': 'pune'}\n",
            "{'name': 'mona', 'age': 22, 'place': 'pune'}\n",
            "{'name': 'mona', 'age': 22, 'place': 'pune'}\n",
            "{'name': 'mona', 'age': 22, 'place': 'pune'}\n",
            "{'name': 'mona', 'age': 22, 'place': 'pune'}\n",
            "{'name': 'mona', 'age': 22, 'place': 'pune'}\n",
            "{'name': 'mona', 'age': 22, 'place': 'pune'}\n",
            "{'name': 'mona', 'age': 22, 'place': 'pune'}\n",
            "{'name': 'mona', 'age': 22, 'place': 'pune'}\n",
            "{'name': 'mona', 'age': 22, 'place': 'pune'}\n",
            "{'name': 'mona', 'age': 22, 'place': 'pune'}\n",
            "{'name': 'mona', 'age': 22, 'place': 'pune'}\n",
            "{'name': 'mona', 'age': 22, 'place': 'pune'}\n",
            "{'name': 'mona', 'age': 22, 'place': 'pune'}\n",
            "{'name': 'mona', 'age': 22, 'place': 'pune'}\n",
            "{'name': 'mona', 'age': 22, 'place': 'pune'}\n",
            "{'name': 'mona', 'age': 22, 'place': 'pune'}\n",
            "{'name': 'mona', 'age': 22, 'place': 'pune'}\n",
            "{'name': 'mona', 'age': 22, 'place': 'pune'}\n",
            "{'name': 'mona', 'age': 22, 'place': 'pune'}\n",
            "{'name': 'mona', 'age': 22, 'place': 'pune'}\n",
            "{'name': 'mona', 'age': 22, 'place': 'pune'}\n",
            "{'name': 'mona', 'age': 22, 'place': 'pune'}\n",
            "{'name': 'mona', 'age': 22, 'place': 'pune'}\n",
            "{'name': 'mona', 'age': 22, 'place': 'pune'}\n",
            "{'name': 'mona', 'age': 22, 'place': 'pune'}\n",
            "{'name': 'mona', 'age': 22, 'place': 'pune'}\n",
            "{'name': 'mona', 'age': 22, 'place': 'pune'}\n",
            "{'name': 'mona', 'age': 22, 'place': 'pune'}\n",
            "{'name': 'mona', 'age': 22, 'place': 'pune'}\n",
            "{'name': 'mona', 'age': 22, 'place': 'pune'}\n",
            "{'name': 'mona', 'age': 22, 'place': 'pune'}\n",
            "{'name': 'mona', 'age': 22, 'place': 'pune'}\n",
            "{'name': 'mona', 'age': 22, 'place': 'pune'}\n",
            "{'name': 'mona', 'age': 22, 'place': 'pune'}\n",
            "{'name': 'mona', 'age': 22, 'place': 'pune'}\n",
            "{'name': 'mona', 'age': 22, 'place': 'pune'}\n",
            "{'name': 'mona', 'age': 22, 'place': 'pune'}\n",
            "{'name': 'mona', 'age': 22, 'place': 'pune'}\n",
            "{'name': 'mona', 'age': 22, 'place': 'pune'}\n",
            "{'name': 'mona', 'age': 22, 'place': 'pune'}\n",
            "{'name': 'mona', 'age': 22, 'place': 'pune'}\n",
            "{'name': 'mona', 'age': 22, 'place': 'pune'}\n",
            "{'name': 'mona', 'age': 22, 'place': 'pune'}\n",
            "{'name': 'mona', 'age': 22, 'place': 'pune'}\n",
            "{'name': 'mona', 'age': 22, 'place': 'pune'}\n",
            "{'name': 'mona', 'age': 22, 'place': 'pune'}\n",
            "{'name': 'mona', 'age': 22, 'place': 'pune'}\n",
            "{'name': 'mona', 'age': 22, 'place': 'pune'}\n",
            "{'name': 'mona', 'age': 22, 'place': 'pune'}\n",
            "{'name': 'mona', 'age': 22, 'place': 'pune'}\n",
            "{'name': 'mona', 'age': 22, 'place': 'pune'}\n",
            "{'name': 'mona', 'age': 22, 'place': 'pune'}\n",
            "{'name': 'mona', 'age': 22, 'place': 'pune'}\n",
            "{'name': 'mona', 'age': 22, 'place': 'pune'}\n",
            "{'name': 'mona', 'age': 22, 'place': 'pune'}\n",
            "{'name': 'mona', 'age': 22, 'place': 'pune'}\n",
            "{'name': 'mona', 'age': 22, 'place': 'pune'}\n",
            "{'name': 'mona', 'age': 22, 'place': 'pune'}\n",
            "{'name': 'mona', 'age': 22, 'place': 'pune'}\n",
            "{'name': 'mona', 'age': 22, 'place': 'pune'}\n",
            "{'name': 'mona', 'age': 22, 'place': 'pune'}\n",
            "{'name': 'mona', 'age': 22, 'place': 'pune'}\n",
            "{'name': 'mona', 'age': 22, 'place': 'pune'}\n",
            "{'name': 'mona', 'age': 22, 'place': 'pune'}\n",
            "{'name': 'mona', 'age': 22, 'place': 'pune'}\n",
            "{'name': 'mona', 'age': 22, 'place': 'pune'}\n",
            "{'name': 'mona', 'age': 22, 'place': 'pune'}\n",
            "{'name': 'mona', 'age': 22, 'place': 'pune'}\n",
            "{'name': 'mona', 'age': 22, 'place': 'pune'}\n",
            "{'name': 'mona', 'age': 22, 'place': 'pune'}\n",
            "{'name': 'mona', 'age': 22, 'place': 'pune'}\n",
            "{'name': 'mona', 'age': 22, 'place': 'pune'}\n",
            "{'name': 'mona', 'age': 22, 'place': 'pune'}\n",
            "{'name': 'mona', 'age': 22, 'place': 'pune'}\n",
            "{'name': 'mona', 'age': 22, 'place': 'pune'}\n",
            "{'name': 'mona', 'age': 22, 'place': 'pune'}\n",
            "{'name': 'mona', 'age': 22, 'place': 'pune'}\n",
            "{'name': 'mona', 'age': 22, 'place': 'pune'}\n",
            "{'name': 'mona', 'age': 22, 'place': 'pune'}\n",
            "{'name': 'mona', 'age': 22, 'place': 'pune'}\n",
            "{'name': 'mona', 'age': 22, 'place': 'pune'}\n",
            "{'name': 'mona', 'age': 22, 'place': 'pune'}\n",
            "{'name': 'mona', 'age': 22, 'place': 'pune'}\n",
            "{'name': 'mona', 'age': 22, 'place': 'pune'}\n",
            "{'name': 'mona', 'age': 22, 'place': 'pune'}\n",
            "{'name': 'mona', 'age': 22, 'place': 'pune'}\n",
            "{'name': 'mona', 'age': 22, 'place': 'pune'}\n",
            "{'name': 'mona', 'age': 22, 'place': 'pune'}\n",
            "{'name': 'mona', 'age': 22, 'place': 'pune'}\n",
            "{'name': 'mona', 'age': 22, 'place': 'pune'}\n",
            "{'name': 'mona', 'age': 22, 'place': 'pune'}\n",
            "{'name': 'mona', 'age': 22, 'place': 'pune'}\n",
            "{'name': 'mona', 'age': 22, 'place': 'pune'}\n",
            "{'name': 'mona', 'age': 22, 'place': 'pune'}\n",
            "{'name': 'mona', 'age': 22, 'place': 'pune'}\n",
            "{'name': 'mona', 'age': 22, 'place': 'pune'}\n",
            "{'name': 'mona', 'age': 22, 'place': 'pune'}\n",
            "{'name': 'mona', 'age': 22, 'place': 'pune'}\n",
            "{'name': 'mona', 'age': 22, 'place': 'pune'}\n",
            "{'name': 'mona', 'age': 22, 'place': 'pune'}\n",
            "{'name': 'mona', 'age': 22, 'place': 'pune'}\n",
            "{'name': 'mona', 'age': 22, 'place': 'pune'}\n",
            "{'name': 'mona', 'age': 22, 'place': 'pune'}\n",
            "{'name': 'mona', 'age': 22, 'place': 'pune'}\n",
            "{'name': 'mona', 'age': 22, 'place': 'pune'}\n",
            "{'name': 'mona', 'age': 22, 'place': 'pune'}\n",
            "{'name': 'mona', 'age': 22, 'place': 'pune'}\n",
            "{'name': 'mona', 'age': 22, 'place': 'pune'}\n",
            "{'name': 'mona', 'age': 22, 'place': 'pune'}\n",
            "{'name': 'mona', 'age': 22, 'place': 'pune'}\n",
            "{'name': 'mona', 'age': 22, 'place': 'pune'}\n",
            "{'name': 'mona', 'age': 22, 'place': 'pune'}\n",
            "{'name': 'mona', 'age': 22, 'place': 'pune'}\n",
            "{'name': 'mona', 'age': 22, 'place': 'pune'}\n",
            "{'name': 'mona', 'age': 22, 'place': 'pune'}\n",
            "{'name': 'mona', 'age': 22, 'place': 'pune'}\n",
            "{'name': 'mona', 'age': 22, 'place': 'pune'}\n",
            "{'name': 'mona', 'age': 22, 'place': 'pune'}\n",
            "{'name': 'mona', 'age': 22, 'place': 'pune'}\n",
            "{'name': 'mona', 'age': 22, 'place': 'pune'}\n",
            "{'name': 'mona', 'age': 22, 'place': 'pune'}\n",
            "{'name': 'mona', 'age': 22, 'place': 'pune'}\n",
            "{'name': 'mona', 'age': 22, 'place': 'pune'}\n",
            "{'name': 'mona', 'age': 22, 'place': 'pune'}\n",
            "{'name': 'mona', 'age': 22, 'place': 'pune'}\n",
            "{'name': 'mona', 'age': 22, 'place': 'pune'}\n",
            "{'name': 'mona', 'age': 22, 'place': 'pune'}\n",
            "{'name': 'mona', 'age': 22, 'place': 'pune'}\n",
            "{'name': 'mona', 'age': 22, 'place': 'pune'}\n",
            "{'name': 'mona', 'age': 22, 'place': 'pune'}\n",
            "{'name': 'mona', 'age': 22, 'place': 'pune'}\n",
            "{'name': 'mona', 'age': 22, 'place': 'pune'}\n",
            "{'name': 'mona', 'age': 22, 'place': 'pune'}\n",
            "{'name': 'mona', 'age': 22, 'place': 'pune'}\n",
            "{'name': 'mona', 'age': 22, 'place': 'pune'}\n",
            "{'name': 'mona', 'age': 22, 'place': 'pune'}\n",
            "{'name': 'mona', 'age': 22, 'place': 'pune'}\n",
            "{'name': 'mona', 'age': 22, 'place': 'pune'}\n",
            "{'name': 'mona', 'age': 22, 'place': 'pune'}\n",
            "{'name': 'mona', 'age': 22, 'place': 'pune'}\n",
            "{'name': 'mona', 'age': 22, 'place': 'pune'}\n",
            "{'name': 'mona', 'age': 22, 'place': 'pune'}\n",
            "{'name': 'mona', 'age': 22, 'place': 'pune'}\n",
            "{'name': 'mona', 'age': 22, 'place': 'pune'}\n",
            "{'name': 'mona', 'age': 22, 'place': 'pune'}\n",
            "{'name': 'mona', 'age': 22, 'place': 'pune'}\n",
            "{'name': 'mona', 'age': 22, 'place': 'pune'}\n",
            "{'name': 'mona', 'age': 22, 'place': 'pune'}\n",
            "{'name': 'mona', 'age': 22, 'place': 'pune'}\n",
            "{'name': 'mona', 'age': 22, 'place': 'pune'}\n",
            "{'name': 'mona', 'age': 22, 'place': 'pune'}\n",
            "{'name': 'mona', 'age': 22, 'place': 'pune'}\n",
            "{'name': 'mona', 'age': 22, 'place': 'pune'}\n",
            "{'name': 'mona', 'age': 22, 'place': 'pune'}\n",
            "{'name': 'mona', 'age': 22, 'place': 'pune'}\n",
            "{'name': 'mona', 'age': 22, 'place': 'pune'}\n",
            "{'name': 'mona', 'age': 22, 'place': 'pune'}\n",
            "{'name': 'mona', 'age': 22, 'place': 'pune'}\n",
            "{'name': 'mona', 'age': 22, 'place': 'pune'}\n",
            "{'name': 'mona', 'age': 22, 'place': 'pune'}\n",
            "{'name': 'mona', 'age': 22, 'place': 'pune'}\n",
            "{'name': 'mona', 'age': 22, 'place': 'pune'}\n",
            "{'name': 'mona', 'age': 22, 'place': 'pune'}\n",
            "{'name': 'mona', 'age': 22, 'place': 'pune'}\n",
            "{'name': 'mona', 'age': 22, 'place': 'pune'}\n",
            "{'name': 'mona', 'age': 22, 'place': 'pune'}\n",
            "{'name': 'mona', 'age': 22, 'place': 'pune'}\n",
            "{'name': 'mona', 'age': 22, 'place': 'pune'}\n",
            "{'name': 'mona', 'age': 22, 'place': 'pune'}\n",
            "{'name': 'mona', 'age': 22, 'place': 'pune'}\n",
            "{'name': 'mona', 'age': 22, 'place': 'pune'}\n",
            "{'name': 'mona', 'age': 22, 'place': 'pune'}\n",
            "{'name': 'mona', 'age': 22, 'place': 'pune'}\n",
            "{'name': 'mona', 'age': 22, 'place': 'pune'}\n",
            "{'name': 'mona', 'age': 22, 'place': 'pune'}\n",
            "{'name': 'mona', 'age': 22, 'place': 'pune'}\n",
            "{'name': 'mona', 'age': 22, 'place': 'pune'}\n",
            "{'name': 'mona', 'age': 22, 'place': 'pune'}\n",
            "{'name': 'mona', 'age': 22, 'place': 'pune'}\n",
            "{'name': 'mona', 'age': 22, 'place': 'pune'}\n",
            "{'name': 'mona', 'age': 22, 'place': 'pune'}\n",
            "{'name': 'mona', 'age': 22, 'place': 'pune'}\n",
            "{'name': 'mona', 'age': 22, 'place': 'pune'}\n",
            "{'name': 'mona', 'age': 22, 'place': 'pune'}\n",
            "{'name': 'mona', 'age': 22, 'place': 'pune'}\n",
            "{'name': 'mona', 'age': 22, 'place': 'pune'}\n",
            "{'name': 'mona', 'age': 22, 'place': 'pune'}\n",
            "{'name': 'mona', 'age': 22, 'place': 'pune'}\n",
            "{'name': 'mona', 'age': 22, 'place': 'pune'}\n",
            "{'name': 'mona', 'age': 22, 'place': 'pune'}\n",
            "{'name': 'mona', 'age': 22, 'place': 'pune'}\n",
            "{'name': 'mona', 'age': 22, 'place': 'pune'}\n",
            "{'name': 'mona', 'age': 22, 'place': 'pune'}\n",
            "{'name': 'mona', 'age': 22, 'place': 'pune'}\n",
            "{'name': 'mona', 'age': 22, 'place': 'pune'}\n",
            "{'name': 'mona', 'age': 22, 'place': 'pune'}\n",
            "{'name': 'mona', 'age': 22, 'place': 'pune'}\n",
            "{'name': 'mona', 'age': 22, 'place': 'pune'}\n",
            "{'name': 'mona', 'age': 22, 'place': 'pune'}\n",
            "{'name': 'mona', 'age': 22, 'place': 'pune'}\n",
            "{'name': 'mona', 'age': 22, 'place': 'pune'}\n",
            "{'name': 'mona', 'age': 22, 'place': 'pune'}\n",
            "{'name': 'mona', 'age': 22, 'place': 'pune'}\n",
            "{'name': 'mona', 'age': 22, 'place': 'pune'}\n",
            "{'name': 'mona', 'age': 22, 'place': 'pune'}\n",
            "{'name': 'mona', 'age': 22, 'place': 'pune'}\n",
            "{'name': 'mona', 'age': 22, 'place': 'pune'}\n",
            "{'name': 'mona', 'age': 22, 'place': 'pune'}\n",
            "{'name': 'mona', 'age': 22, 'place': 'pune'}\n",
            "{'name': 'mona', 'age': 22, 'place': 'pune'}\n",
            "{'name': 'mona', 'age': 22, 'place': 'pune'}\n",
            "{'name': 'mona', 'age': 22, 'place': 'pune'}\n",
            "{'name': 'mona', 'age': 22, 'place': 'pune'}\n",
            "{'name': 'mona', 'age': 22, 'place': 'pune'}\n",
            "{'name': 'mona', 'age': 22, 'place': 'pune'}\n",
            "{'name': 'mona', 'age': 22, 'place': 'pune'}\n",
            "{'name': 'mona', 'age': 22, 'place': 'pune'}\n",
            "{'name': 'mona', 'age': 22, 'place': 'pune'}\n",
            "{'name': 'mona', 'age': 22, 'place': 'pune'}\n",
            "{'name': 'mona', 'age': 22, 'place': 'pune'}\n",
            "{'name': 'mona', 'age': 22, 'place': 'pune'}\n",
            "{'name': 'mona', 'age': 22, 'place': 'pune'}\n",
            "{'name': 'mona', 'age': 22, 'place': 'pune'}\n",
            "{'name': 'mona', 'age': 22, 'place': 'pune'}\n",
            "{'name': 'mona', 'age': 22, 'place': 'pune'}\n",
            "{'name': 'mona', 'age': 22, 'place': 'pune'}\n",
            "{'name': 'mona', 'age': 22, 'place': 'pune'}\n",
            "{'name': 'mona', 'age': 22, 'place': 'pune'}\n",
            "{'name': 'mona', 'age': 22, 'place': 'pune'}\n",
            "{'name': 'mona', 'age': 22, 'place': 'pune'}\n",
            "{'name': 'mona', 'age': 22, 'place': 'pune'}\n",
            "{'name': 'mona', 'age': 22, 'place': 'pune'}\n",
            "{'name': 'mona', 'age': 22, 'place': 'pune'}\n",
            "{'name': 'mona', 'age': 22, 'place': 'pune'}\n",
            "{'name': 'mona', 'age': 22, 'place': 'pune'}\n",
            "{'name': 'mona', 'age': 22, 'place': 'pune'}\n",
            "{'name': 'mona', 'age': 22, 'place': 'pune'}\n",
            "{'name': 'mona', 'age': 22, 'place': 'pune'}\n",
            "{'name': 'mona', 'age': 22, 'place': 'pune'}\n",
            "{'name': 'mona', 'age': 22, 'place': 'pune'}\n",
            "{'name': 'mona', 'age': 22, 'place': 'pune'}\n",
            "{'name': 'mona', 'age': 22, 'place': 'pune'}\n",
            "{'name': 'mona', 'age': 22, 'place': 'pune'}\n",
            "{'name': 'mona', 'age': 22, 'place': 'pune'}\n",
            "{'name': 'mona', 'age': 22, 'place': 'pune'}\n",
            "{'name': 'mona', 'age': 22, 'place': 'pune'}\n",
            "{'name': 'mona', 'age': 22, 'place': 'pune'}\n",
            "{'name': 'mona', 'age': 22, 'place': 'pune'}\n",
            "{'name': 'mona', 'age': 22, 'place': 'pune'}\n",
            "{'name': 'mona', 'age': 22, 'place': 'pune'}\n",
            "{'name': 'mona', 'age': 22, 'place': 'pune'}\n",
            "{'name': 'mona', 'age': 22, 'place': 'pune'}\n",
            "{'name': 'mona', 'age': 22, 'place': 'pune'}\n",
            "{'name': 'mona', 'age': 22, 'place': 'pune'}\n",
            "{'name': 'mona', 'age': 22, 'place': 'pune'}\n",
            "{'name': 'mona', 'age': 22, 'place': 'pune'}\n",
            "{'name': 'mona', 'age': 22, 'place': 'pune'}\n",
            "{'name': 'mona', 'age': 22, 'place': 'pune'}\n",
            "{'name': 'mona', 'age': 22, 'place': 'pune'}\n",
            "{'name': 'mona', 'age': 22, 'place': 'pune'}\n",
            "{'name': 'mona', 'age': 22, 'place': 'pune'}\n",
            "{'name': 'mona', 'age': 22, 'place': 'pune'}\n",
            "{'name': 'mona', 'age': 22, 'place': 'pune'}\n",
            "{'name': 'mona', 'age': 22, 'place': 'pune'}\n",
            "{'name': 'mona', 'age': 22, 'place': 'pune'}\n",
            "{'name': 'mona', 'age': 22, 'place': 'pune'}\n",
            "{'name': 'mona', 'age': 22, 'place': 'pune'}\n",
            "{'name': 'mona', 'age': 22, 'place': 'pune'}\n",
            "{'name': 'mona', 'age': 22, 'place': 'pune'}\n",
            "{'name': 'mona', 'age': 22, 'place': 'pune'}\n",
            "{'name': 'mona', 'age': 22, 'place': 'pune'}\n",
            "{'name': 'mona', 'age': 22, 'place': 'pune'}\n",
            "{'name': 'mona', 'age': 22, 'place': 'pune'}\n",
            "{'name': 'mona', 'age': 22, 'place': 'pune'}\n",
            "{'name': 'mona', 'age': 22, 'place': 'pune'}\n",
            "{'name': 'mona', 'age': 22, 'place': 'pune'}\n",
            "{'name': 'mona', 'age': 22, 'place': 'pune'}\n",
            "{'name': 'mona', 'age': 22, 'place': 'pune'}\n",
            "{'name': 'mona', 'age': 22, 'place': 'pune'}\n",
            "{'name': 'mona', 'age': 22, 'place': 'pune'}\n",
            "{'name': 'mona', 'age': 22, 'place': 'pune'}\n",
            "{'name': 'mona', 'age': 22, 'place': 'pune'}\n",
            "{'name': 'mona', 'age': 22, 'place': 'pune'}\n",
            "{'name': 'mona', 'age': 22, 'place': 'pune'}\n",
            "{'name': 'mona', 'age': 22, 'place': 'pune'}\n",
            "{'name': 'mona', 'age': 22, 'place': 'pune'}\n",
            "{'name': 'mona', 'age': 22, 'place': 'pune'}\n",
            "{'name': 'mona', 'age': 22, 'place': 'pune'}\n",
            "{'name': 'mona', 'age': 22, 'place': 'pune'}\n",
            "{'name': 'mona', 'age': 22, 'place': 'pune'}\n",
            "{'name': 'mona', 'age': 22, 'place': 'pune'}\n",
            "{'name': 'mona', 'age': 22, 'place': 'pune'}\n",
            "{'name': 'mona', 'age': 22, 'place': 'pune'}\n",
            "{'name': 'mona', 'age': 22, 'place': 'pune'}\n",
            "{'name': 'mona', 'age': 22, 'place': 'pune'}\n",
            "{'name': 'mona', 'age': 22, 'place': 'pune'}\n",
            "{'name': 'mona', 'age': 22, 'place': 'pune'}\n",
            "{'name': 'mona', 'age': 22, 'place': 'pune'}\n",
            "{'name': 'mona', 'age': 22, 'place': 'pune'}\n",
            "{'name': 'mona', 'age': 22, 'place': 'pune'}\n",
            "{'name': 'mona', 'age': 22, 'place': 'pune'}\n",
            "{'name': 'mona', 'age': 22, 'place': 'pune'}\n",
            "{'name': 'mona', 'age': 22, 'place': 'pune'}\n",
            "{'name': 'mona', 'age': 22, 'place': 'pune'}\n",
            "{'name': 'mona', 'age': 22, 'place': 'pune'}\n",
            "{'name': 'mona', 'age': 22, 'place': 'pune'}\n",
            "{'name': 'mona', 'age': 22, 'place': 'pune'}\n",
            "{'name': 'mona', 'age': 22, 'place': 'pune'}\n",
            "{'name': 'mona', 'age': 22, 'place': 'pune'}\n",
            "{'name': 'mona', 'age': 22, 'place': 'pune'}\n",
            "{'name': 'mona', 'age': 22, 'place': 'pune'}\n",
            "{'name': 'mona', 'age': 22, 'place': 'pune'}\n",
            "{'name': 'mona', 'age': 22, 'place': 'pune'}\n",
            "{'name': 'mona', 'age': 22, 'place': 'pune'}\n",
            "{'name': 'mona', 'age': 22, 'place': 'pune'}\n",
            "{'name': 'mona', 'age': 22, 'place': 'pune'}\n",
            "{'name': 'mona', 'age': 22, 'place': 'pune'}\n",
            "{'name': 'mona', 'age': 22, 'place': 'pune'}\n",
            "{'name': 'mona', 'age': 22, 'place': 'pune'}\n",
            "{'name': 'mona', 'age': 22, 'place': 'pune'}\n",
            "{'name': 'mona', 'age': 22, 'place': 'pune'}\n",
            "{'name': 'mona', 'age': 22, 'place': 'pune'}\n",
            "{'name': 'mona', 'age': 22, 'place': 'pune'}\n",
            "{'name': 'mona', 'age': 22, 'place': 'pune'}\n",
            "{'name': 'mona', 'age': 22, 'place': 'pune'}\n",
            "{'name': 'mona', 'age': 22, 'place': 'pune'}\n",
            "{'name': 'mona', 'age': 22, 'place': 'pune'}\n",
            "{'name': 'mona', 'age': 22, 'place': 'pune'}\n",
            "{'name': 'mona', 'age': 22, 'place': 'pune'}\n",
            "{'name': 'mona', 'age': 22, 'place': 'pune'}\n",
            "{'name': 'mona', 'age': 22, 'place': 'pune'}\n",
            "{'name': 'mona', 'age': 22, 'place': 'pune'}\n",
            "{'name': 'mona', 'age': 22, 'place': 'pune'}\n",
            "{'name': 'mona', 'age': 22, 'place': 'pune'}\n",
            "{'name': 'mona', 'age': 22, 'place': 'pune'}\n",
            "{'name': 'mona', 'age': 22, 'place': 'pune'}\n",
            "{'name': 'mona', 'age': 22, 'place': 'pune'}\n",
            "{'name': 'mona', 'age': 22, 'place': 'pune'}\n",
            "{'name': 'mona', 'age': 22, 'place': 'pune'}\n",
            "{'name': 'mona', 'age': 22, 'place': 'pune'}\n",
            "{'name': 'mona', 'age': 22, 'place': 'pune'}\n",
            "{'name': 'mona', 'age': 22, 'place': 'pune'}\n",
            "{'name': 'mona', 'age': 22, 'place': 'pune'}\n",
            "{'name': 'mona', 'age': 22, 'place': 'pune'}\n",
            "{'name': 'mona', 'age': 22, 'place': 'pune'}\n",
            "{'name': 'mona', 'age': 22, 'place': 'pune'}\n",
            "{'name': 'mona', 'age': 22, 'place': 'pune'}\n",
            "{'name': 'mona', 'age': 22, 'place': 'pune'}\n",
            "{'name': 'mona', 'age': 22, 'place': 'pune'}\n",
            "{'name': 'mona', 'age': 22, 'place': 'pune'}\n",
            "{'name': 'mona', 'age': 22, 'place': 'pune'}\n",
            "{'name': 'mona', 'age': 22, 'place': 'pune'}\n",
            "{'name': 'mona', 'age': 22, 'place': 'pune'}\n",
            "{'name': 'mona', 'age': 22, 'place': 'pune'}\n",
            "{'name': 'mona', 'age': 22, 'place': 'pune'}\n",
            "{'name': 'mona', 'age': 22, 'place': 'pune'}\n",
            "{'name': 'mona', 'age': 22, 'place': 'pune'}\n",
            "{'name': 'mona', 'age': 22, 'place': 'pune'}\n",
            "{'name': 'mona', 'age': 22, 'place': 'pune'}\n",
            "{'name': 'mona', 'age': 22, 'place': 'pune'}\n",
            "{'name': 'mona', 'age': 22, 'place': 'pune'}\n",
            "{'name': 'mona', 'age': 22, 'place': 'pune'}\n",
            "{'name': 'mona', 'age': 22, 'place': 'pune'}\n",
            "{'name': 'mona', 'age': 22, 'place': 'pune'}\n",
            "{'name': 'mona', 'age': 22, 'place': 'pune'}\n",
            "{'name': 'mona', 'age': 22, 'place': 'pune'}\n",
            "{'name': 'mona', 'age': 22, 'place': 'pune'}\n",
            "{'name': 'mona', 'age': 22, 'place': 'pune'}\n",
            "{'name': 'mona', 'age': 22, 'place': 'pune'}\n",
            "{'name': 'mona', 'age': 22, 'place': 'pune'}\n",
            "{'name': 'mona', 'age': 22, 'place': 'pune'}\n",
            "{'name': 'mona', 'age': 22, 'place': 'pune'}\n",
            "{'name': 'mona', 'age': 22, 'place': 'pune'}\n",
            "{'name': 'mona', 'age': 22, 'place': 'pune'}\n",
            "{'name': 'mona', 'age': 22, 'place': 'pune'}\n",
            "{'name': 'mona', 'age': 22, 'place': 'pune'}\n",
            "{'name': 'mona', 'age': 22, 'place': 'pune'}\n",
            "{'name': 'mona', 'age': 22, 'place': 'pune'}\n",
            "{'name': 'mona', 'age': 22, 'place': 'pune'}\n",
            "{'name': 'mona', 'age': 22, 'place': 'pune'}\n",
            "{'name': 'mona', 'age': 22, 'place': 'pune'}\n",
            "{'name': 'mona', 'age': 22, 'place': 'pune'}\n",
            "{'name': 'mona', 'age': 22, 'place': 'pune'}\n",
            "{'name': 'mona', 'age': 22, 'place': 'pune'}\n",
            "{'name': 'mona', 'age': 22, 'place': 'pune'}\n",
            "{'name': 'mona', 'age': 22, 'place': 'pune'}\n",
            "{'name': 'mona', 'age': 22, 'place': 'pune'}\n",
            "{'name': 'mona', 'age': 22, 'place': 'pune'}\n",
            "{'name': 'mona', 'age': 22, 'place': 'pune'}\n",
            "{'name': 'mona', 'age': 22, 'place': 'pune'}\n",
            "{'name': 'mona', 'age': 22, 'place': 'pune'}\n",
            "{'name': 'mona', 'age': 22, 'place': 'pune'}\n",
            "{'name': 'mona', 'age': 22, 'place': 'pune'}\n",
            "{'name': 'mona', 'age': 22, 'place': 'pune'}\n",
            "{'name': 'mona', 'age': 22, 'place': 'pune'}\n",
            "{'name': 'mona', 'age': 22, 'place': 'pune'}\n",
            "{'name': 'mona', 'age': 22, 'place': 'pune'}\n",
            "{'name': 'mona', 'age': 22, 'place': 'pune'}\n",
            "{'name': 'mona', 'age': 22, 'place': 'pune'}\n",
            "{'name': 'mona', 'age': 22, 'place': 'pune'}\n",
            "{'name': 'mona', 'age': 22, 'place': 'pune'}\n",
            "{'name': 'mona', 'age': 22, 'place': 'pune'}\n",
            "{'name': 'mona', 'age': 22, 'place': 'pune'}\n",
            "{'name': 'mona', 'age': 22, 'place': 'pune'}\n",
            "{'name': 'mona', 'age': 22, 'place': 'pune'}\n",
            "{'name': 'mona', 'age': 22, 'place': 'pune'}\n",
            "{'name': 'mona', 'age': 22, 'place': 'pune'}\n",
            "{'name': 'mona', 'age': 22, 'place': 'pune'}\n",
            "{'name': 'mona', 'age': 22, 'place': 'pune'}\n",
            "{'name': 'mona', 'age': 22, 'place': 'pune'}\n",
            "{'name': 'mona', 'age': 22, 'place': 'pune'}\n",
            "{'name': 'mona', 'age': 22, 'place': 'pune'}\n",
            "{'name': 'mona', 'age': 22, 'place': 'pune'}\n",
            "{'name': 'mona', 'age': 22, 'place': 'pune'}\n",
            "{'name': 'mona', 'age': 22, 'place': 'pune'}\n",
            "{'name': 'mona', 'age': 22, 'place': 'pune'}\n",
            "{'name': 'mona', 'age': 22, 'place': 'pune'}\n",
            "{'name': 'mona', 'age': 22, 'place': 'pune'}\n",
            "{'name': 'mona', 'age': 22, 'place': 'pune'}\n",
            "{'name': 'mona', 'age': 22, 'place': 'pune'}\n",
            "{'name': 'mona', 'age': 22, 'place': 'pune'}\n"
          ]
        },
        {
          "output_type": "error",
          "ename": "RecursionError",
          "evalue": "maximum recursion depth exceeded while calling a Python object",
          "traceback": [
            "\u001b[0;31m---------------------------------------------------------------------------\u001b[0m",
            "\u001b[0;31mRecursionError\u001b[0m                            Traceback (most recent call last)",
            "\u001b[0;32m/usr/lib/python3.10/threading.py\u001b[0m in \u001b[0;36m_wait_for_tstate_lock\u001b[0;34m(self, block, timeout)\u001b[0m\n\u001b[1;32m   1115\u001b[0m         \u001b[0;32mtry\u001b[0m\u001b[0;34m:\u001b[0m\u001b[0;34m\u001b[0m\u001b[0;34m\u001b[0m\u001b[0m\n\u001b[0;32m-> 1116\u001b[0;31m             \u001b[0;32mif\u001b[0m \u001b[0mlock\u001b[0m\u001b[0;34m.\u001b[0m\u001b[0macquire\u001b[0m\u001b[0;34m(\u001b[0m\u001b[0mblock\u001b[0m\u001b[0;34m,\u001b[0m \u001b[0mtimeout\u001b[0m\u001b[0;34m)\u001b[0m\u001b[0;34m:\u001b[0m\u001b[0;34m\u001b[0m\u001b[0;34m\u001b[0m\u001b[0m\n\u001b[0m\u001b[1;32m   1117\u001b[0m                 \u001b[0mlock\u001b[0m\u001b[0;34m.\u001b[0m\u001b[0mrelease\u001b[0m\u001b[0;34m(\u001b[0m\u001b[0;34m)\u001b[0m\u001b[0;34m\u001b[0m\u001b[0;34m\u001b[0m\u001b[0m\n",
            "\u001b[0;31mRecursionError\u001b[0m: maximum recursion depth exceeded while calling a Python object",
            "\nDuring handling of the above exception, another exception occurred:\n",
            "\u001b[0;31mRecursionError\u001b[0m                            Traceback (most recent call last)",
            "\u001b[0;32m<ipython-input-23-97bbbd28e3d9>\u001b[0m in \u001b[0;36m<cell line: 9>\u001b[0;34m()\u001b[0m\n\u001b[1;32m      7\u001b[0m \u001b[0;34m\u001b[0m\u001b[0m\n\u001b[1;32m      8\u001b[0m \u001b[0;34m\u001b[0m\u001b[0m\n\u001b[0;32m----> 9\u001b[0;31m \u001b[0mpersonal_details\u001b[0m\u001b[0;34m(\u001b[0m\u001b[0;34m)\u001b[0m\u001b[0;34m\u001b[0m\u001b[0;34m\u001b[0m\u001b[0m\n\u001b[0m",
            "\u001b[0;32m<ipython-input-23-97bbbd28e3d9>\u001b[0m in \u001b[0;36mpersonal_details\u001b[0;34m(**kwargs)\u001b[0m\n\u001b[1;32m      2\u001b[0m   \u001b[0mprint\u001b[0m\u001b[0;34m(\u001b[0m\u001b[0mkwargs\u001b[0m\u001b[0;34m)\u001b[0m\u001b[0;34m\u001b[0m\u001b[0;34m\u001b[0m\u001b[0m\n\u001b[1;32m      3\u001b[0m \u001b[0;34m\u001b[0m\u001b[0m\n\u001b[0;32m----> 4\u001b[0;31m   \u001b[0mpersonal_details\u001b[0m\u001b[0;34m(\u001b[0m\u001b[0mname\u001b[0m\u001b[0;34m=\u001b[0m\u001b[0;34m'mona'\u001b[0m\u001b[0;34m,\u001b[0m\u001b[0mage\u001b[0m\u001b[0;34m=\u001b[0m\u001b[0;36m22\u001b[0m\u001b[0;34m,\u001b[0m\u001b[0mplace\u001b[0m\u001b[0;34m=\u001b[0m\u001b[0;34m'pune'\u001b[0m\u001b[0;34m)\u001b[0m\u001b[0;34m\u001b[0m\u001b[0;34m\u001b[0m\u001b[0m\n\u001b[0m\u001b[1;32m      5\u001b[0m   \u001b[0mpersonal_details\u001b[0m\u001b[0;34m(\u001b[0m\u001b[0mplace\u001b[0m\u001b[0;34m=\u001b[0m\u001b[0;34m'satara'\u001b[0m\u001b[0;34m)\u001b[0m\u001b[0;34m\u001b[0m\u001b[0;34m\u001b[0m\u001b[0m\n\u001b[1;32m      6\u001b[0m \u001b[0;34m\u001b[0m\u001b[0m\n",
            "... last 1 frames repeated, from the frame below ...\n",
            "\u001b[0;32m<ipython-input-23-97bbbd28e3d9>\u001b[0m in \u001b[0;36mpersonal_details\u001b[0;34m(**kwargs)\u001b[0m\n\u001b[1;32m      2\u001b[0m   \u001b[0mprint\u001b[0m\u001b[0;34m(\u001b[0m\u001b[0mkwargs\u001b[0m\u001b[0;34m)\u001b[0m\u001b[0;34m\u001b[0m\u001b[0;34m\u001b[0m\u001b[0m\n\u001b[1;32m      3\u001b[0m \u001b[0;34m\u001b[0m\u001b[0m\n\u001b[0;32m----> 4\u001b[0;31m   \u001b[0mpersonal_details\u001b[0m\u001b[0;34m(\u001b[0m\u001b[0mname\u001b[0m\u001b[0;34m=\u001b[0m\u001b[0;34m'mona'\u001b[0m\u001b[0;34m,\u001b[0m\u001b[0mage\u001b[0m\u001b[0;34m=\u001b[0m\u001b[0;36m22\u001b[0m\u001b[0;34m,\u001b[0m\u001b[0mplace\u001b[0m\u001b[0;34m=\u001b[0m\u001b[0;34m'pune'\u001b[0m\u001b[0;34m)\u001b[0m\u001b[0;34m\u001b[0m\u001b[0;34m\u001b[0m\u001b[0m\n\u001b[0m\u001b[1;32m      5\u001b[0m   \u001b[0mpersonal_details\u001b[0m\u001b[0;34m(\u001b[0m\u001b[0mplace\u001b[0m\u001b[0;34m=\u001b[0m\u001b[0;34m'satara'\u001b[0m\u001b[0;34m)\u001b[0m\u001b[0;34m\u001b[0m\u001b[0;34m\u001b[0m\u001b[0m\n\u001b[1;32m      6\u001b[0m \u001b[0;34m\u001b[0m\u001b[0m\n",
            "\u001b[0;31mRecursionError\u001b[0m: maximum recursion depth exceeded while calling a Python object"
          ]
        }
      ]
    },
    {
      "cell_type": "code",
      "source": [
        "\n"
      ],
      "metadata": {
        "id": "6e5YyGSpJLaa"
      },
      "execution_count": null,
      "outputs": []
    },
    {
      "cell_type": "code",
      "source": [],
      "metadata": {
        "id": "YpfJwH_sJLXi"
      },
      "execution_count": null,
      "outputs": []
    },
    {
      "cell_type": "code",
      "source": [],
      "metadata": {
        "id": "Yy4wyGzRJLUD"
      },
      "execution_count": null,
      "outputs": []
    },
    {
      "cell_type": "code",
      "source": [],
      "metadata": {
        "id": "uuH99Dn-JLRr"
      },
      "execution_count": null,
      "outputs": []
    },
    {
      "cell_type": "code",
      "source": [],
      "metadata": {
        "id": "ojaZQX0aJLOC"
      },
      "execution_count": null,
      "outputs": []
    },
    {
      "cell_type": "code",
      "source": [
        "#take range (1,21)and filter values divisible by 3"
      ],
      "metadata": {
        "id": "clyK-fnJb7qv"
      },
      "execution_count": null,
      "outputs": []
    },
    {
      "cell_type": "code",
      "source": [
        "num= range(1,21)\n",
        "list(filter(lambda num:num%3==0,num))"
      ],
      "metadata": {
        "colab": {
          "base_uri": "https://localhost:8080/"
        },
        "id": "QqJwClpfcXR7",
        "outputId": "41b7044b-06c6-4d69-ee35-3a06ffc2f9ee"
      },
      "execution_count": null,
      "outputs": [
        {
          "output_type": "execute_result",
          "data": {
            "text/plain": [
              "[3, 6, 9, 12, 15, 18]"
            ]
          },
          "metadata": {},
          "execution_count": 11
        }
      ]
    },
    {
      "cell_type": "code",
      "source": [
        "#take a list of names and filter those whose names endswith i"
      ],
      "metadata": {
        "id": "HgG-K8WjbzBM"
      },
      "execution_count": null,
      "outputs": []
    },
    {
      "cell_type": "code",
      "source": [
        "name = ['moni','rama','soni','rupali']\n",
        "list(filter(lambda name:name.endswith('i'),name))"
      ],
      "metadata": {
        "colab": {
          "base_uri": "https://localhost:8080/"
        },
        "id": "gamI6uSJbzJa",
        "outputId": "87644a21-75a5-4b25-e30f-4573d96624dc"
      },
      "execution_count": null,
      "outputs": [
        {
          "output_type": "execute_result",
          "data": {
            "text/plain": [
              "['moni', 'soni', 'rupali']"
            ]
          },
          "metadata": {},
          "execution_count": 14
        }
      ]
    },
    {
      "cell_type": "code",
      "source": [
        "#take a list of +ve and -ve numbers and filter -ve values\n",
        "n = [-1,23,45,-56,-85,26]\n",
        "list(filter(lambda n:n<0 ,n))\n"
      ],
      "metadata": {
        "colab": {
          "base_uri": "https://localhost:8080/"
        },
        "id": "H9vGLio3bzPL",
        "outputId": "d8c540b3-5e8a-4d93-d2f8-5818c483b150"
      },
      "execution_count": null,
      "outputs": [
        {
          "output_type": "execute_result",
          "data": {
            "text/plain": [
              "[-1, -56, -85]"
            ]
          },
          "metadata": {},
          "execution_count": 15
        }
      ]
    },
    {
      "cell_type": "code",
      "source": [],
      "metadata": {
        "id": "n8RIHbYVeN-u"
      },
      "execution_count": null,
      "outputs": []
    }
  ]
}