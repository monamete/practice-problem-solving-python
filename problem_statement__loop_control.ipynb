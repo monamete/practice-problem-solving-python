{
  "nbformat": 4,
  "nbformat_minor": 0,
  "metadata": {
    "colab": {
      "provenance": []
    },
    "kernelspec": {
      "name": "python3",
      "display_name": "Python 3"
    },
    "language_info": {
      "name": "python"
    }
  },
  "cells": [
    {
      "cell_type": "code",
      "source": [
        "#1. Write a Python program to print all natural numbers from 1 to n. - using while loop\n",
        "n = int(input('Enter a number: '))\n",
        "print(\"n natural numbers are....\")\n",
        "i = 1\n",
        "while i <= n:\n",
        "  print(i,end=\" \")\n",
        "  i += 1\n"
      ],
      "metadata": {
        "colab": {
          "base_uri": "https://localhost:8080/"
        },
        "id": "WOw_BFo6I6S2",
        "outputId": "55920283-91ce-4c51-a867-1e6b462372f6"
      },
      "execution_count": null,
      "outputs": [
        {
          "output_type": "stream",
          "name": "stdout",
          "text": [
            "Enter a number: 13\n",
            "n natural numbers are....\n",
            "1 2 3 4 5 6 7 8 9 10 11 12 13 "
          ]
        }
      ]
    },
    {
      "cell_type": "code",
      "source": [
        "#2. Write a Python program to print all natural numbers in reverse (from n to 1 - using while loop)\n",
        "n = int(input('Enter number:'))\n",
        "print('Natural numbers in reverse....')\n",
        "i = n\n",
        "while i > 0:\n",
        "  print(i)\n",
        "  i -= 1\n"
      ],
      "metadata": {
        "colab": {
          "base_uri": "https://localhost:8080/"
        },
        "id": "J7kBPkLeI6M3",
        "outputId": "1f45867c-edfd-42f5-c3de-0b8c820d04d1"
      },
      "execution_count": null,
      "outputs": [
        {
          "output_type": "stream",
          "name": "stdout",
          "text": [
            "Enter number:10\n",
            "Natural numbers in reverse....\n",
            "10\n",
            "9\n",
            "8\n",
            "7\n",
            "6\n",
            "5\n",
            "4\n",
            "3\n",
            "2\n",
            "1\n"
          ]
        }
      ]
    },
    {
      "cell_type": "code",
      "source": [
        "#3. Write a Python program to print all alphabets from a to z. - using while loop\n",
        "start = ord('a')\n",
        "end = start + 26\n",
        "while start < end:\n",
        "  print(chr(start))\n",
        "  start += 1"
      ],
      "metadata": {
        "colab": {
          "base_uri": "https://localhost:8080/"
        },
        "id": "HV10-tQzPe-n",
        "outputId": "87f2979b-6edd-44cf-e1f1-ab70754a66f9"
      },
      "execution_count": null,
      "outputs": [
        {
          "output_type": "stream",
          "name": "stdout",
          "text": [
            "a\n",
            "b\n",
            "c\n",
            "d\n",
            "e\n",
            "f\n",
            "g\n",
            "h\n",
            "i\n",
            "j\n",
            "k\n",
            "l\n",
            "m\n",
            "n\n",
            "o\n",
            "p\n",
            "q\n",
            "r\n",
            "s\n",
            "t\n",
            "u\n",
            "v\n",
            "w\n",
            "x\n",
            "y\n",
            "z\n"
          ]
        }
      ]
    },
    {
      "cell_type": "code",
      "source": [
        "#4. Write a Python program to print all even numbers between 1 to 100. -using while loop\n",
        "i = 1\n",
        "for i in range(1,101):\n",
        "  while i % 2 == 0:\n",
        "    print(i)\n",
        "    i += 1"
      ],
      "metadata": {
        "colab": {
          "base_uri": "https://localhost:8080/"
        },
        "id": "BBURPnYl-DYH",
        "outputId": "cd032662-1608-45f1-db09-e4e97d52cc56"
      },
      "execution_count": null,
      "outputs": [
        {
          "output_type": "stream",
          "name": "stdout",
          "text": [
            "2\n",
            "4\n",
            "6\n",
            "8\n",
            "10\n",
            "12\n",
            "14\n",
            "16\n",
            "18\n",
            "20\n",
            "22\n",
            "24\n",
            "26\n",
            "28\n",
            "30\n",
            "32\n",
            "34\n",
            "36\n",
            "38\n",
            "40\n",
            "42\n",
            "44\n",
            "46\n",
            "48\n",
            "50\n",
            "52\n",
            "54\n",
            "56\n",
            "58\n",
            "60\n",
            "62\n",
            "64\n",
            "66\n",
            "68\n",
            "70\n",
            "72\n",
            "74\n",
            "76\n",
            "78\n",
            "80\n",
            "82\n",
            "84\n",
            "86\n",
            "88\n",
            "90\n",
            "92\n",
            "94\n",
            "96\n",
            "98\n",
            "100\n"
          ]
        }
      ]
    },
    {
      "cell_type": "code",
      "source": [
        "#5. Write a Python program to print all odd number between 1 to 100."
      ],
      "metadata": {
        "id": "9iCDQJbH-DU1"
      },
      "execution_count": null,
      "outputs": []
    },
    {
      "cell_type": "code",
      "source": [
        "i = 1\n",
        "for i in range(1,100):\n",
        "   while i % 2 != 0:\n",
        "    print(i)\n",
        "    i += 1"
      ],
      "metadata": {
        "colab": {
          "base_uri": "https://localhost:8080/"
        },
        "id": "Xcbow7sx-DRk",
        "outputId": "4a38a574-9cf5-45c9-cbfe-040e9ccd7c27"
      },
      "execution_count": null,
      "outputs": [
        {
          "output_type": "stream",
          "name": "stdout",
          "text": [
            "1\n",
            "3\n",
            "5\n",
            "7\n",
            "9\n",
            "11\n",
            "13\n",
            "15\n",
            "17\n",
            "19\n",
            "21\n",
            "23\n",
            "25\n",
            "27\n",
            "29\n",
            "31\n",
            "33\n",
            "35\n",
            "37\n",
            "39\n",
            "41\n",
            "43\n",
            "45\n",
            "47\n",
            "49\n",
            "51\n",
            "53\n",
            "55\n",
            "57\n",
            "59\n",
            "61\n",
            "63\n",
            "65\n",
            "67\n",
            "69\n",
            "71\n",
            "73\n",
            "75\n",
            "77\n",
            "79\n",
            "81\n",
            "83\n",
            "85\n",
            "87\n",
            "89\n",
            "91\n",
            "93\n",
            "95\n",
            "97\n",
            "99\n"
          ]
        }
      ]
    },
    {
      "cell_type": "code",
      "source": [
        "#6. Write a Python program to find sum of all natural numbers between 1 to n.\n",
        "\n",
        "n= int(input(\"Enter a number: \"))\n",
        "print(\"sum of all natural numbers....\")\n",
        "sum = 0\n",
        "i = 1\n",
        "while i <= n:\n",
        "  sum = sum + i\n",
        "  i += 1\n",
        "print(sum)\n"
      ],
      "metadata": {
        "colab": {
          "base_uri": "https://localhost:8080/"
        },
        "id": "hKnIIqXKCdDO",
        "outputId": "69ef1f45-63c8-4c6e-8071-0df6e01b3266"
      },
      "execution_count": null,
      "outputs": [
        {
          "output_type": "stream",
          "name": "stdout",
          "text": [
            "Enter a number: 10\n",
            "sum of all natural numbers....\n",
            "55\n"
          ]
        }
      ]
    },
    {
      "cell_type": "code",
      "source": [
        " #7. Write a Python program to find sum of all even numbers between 1 to n.\n",
        "n= int(input(\"Enter a number: \"))\n",
        "print(\"sum of all even numbers....\")\n",
        "i = 2\n",
        "sum = 0\n",
        "while i % 2 == 0 and i <= n:\n",
        "  sum = sum + i\n",
        "  i += 2\n",
        "print(sum)\n"
      ],
      "metadata": {
        "colab": {
          "base_uri": "https://localhost:8080/"
        },
        "id": "8TS2X_DtEV0U",
        "outputId": "a31fc833-0d33-459e-c9ba-3a4563952554"
      },
      "execution_count": null,
      "outputs": [
        {
          "output_type": "stream",
          "name": "stdout",
          "text": [
            "Enter a number: 8\n",
            "sum of all even numbers....\n",
            "20\n"
          ]
        }
      ]
    },
    {
      "cell_type": "code",
      "source": [
        "#9. Write a Python program to find sum of all odd numbers between 1 to n.\n",
        "n= int(input(\"Enter a number: \"))\n",
        "print(\"sum of all odd numbers....\")\n",
        "i = 1\n",
        "sum = 0\n",
        "while i % 2 != 0 and i <= n:\n",
        "  sum = sum + i\n",
        "  i += 2\n",
        "print(sum)\n"
      ],
      "metadata": {
        "colab": {
          "base_uri": "https://localhost:8080/"
        },
        "id": "pXwANS-NCdAL",
        "outputId": "66eb3cd8-af60-4b68-dc55-7c081f61d1f8"
      },
      "execution_count": null,
      "outputs": [
        {
          "output_type": "stream",
          "name": "stdout",
          "text": [
            "Enter a number: 3\n",
            "sum of all odd numbers....\n",
            "4\n"
          ]
        }
      ]
    },
    {
      "cell_type": "code",
      "source": [
        "#10. Write a Python program to print multiplication table of any number. Take user input.\n",
        "n = int(input(\"Enter a number: \"))\n",
        "i = 1\n",
        "while i <= 10:\n",
        "  print(n*i)\n",
        "  i +=1\n"
      ],
      "metadata": {
        "id": "lbXOR5ZVCc9R",
        "colab": {
          "base_uri": "https://localhost:8080/"
        },
        "outputId": "fd3c722a-7b8e-459b-eb00-8c371beae579"
      },
      "execution_count": null,
      "outputs": [
        {
          "output_type": "stream",
          "name": "stdout",
          "text": [
            "Enter a number: 2\n",
            "2\n",
            "4\n",
            "6\n",
            "8\n",
            "10\n",
            "12\n",
            "14\n",
            "16\n",
            "18\n",
            "20\n"
          ]
        }
      ]
    },
    {
      "cell_type": "code",
      "source": [],
      "metadata": {
        "id": "tM_rDEH2IsJz"
      },
      "execution_count": null,
      "outputs": []
    },
    {
      "cell_type": "code",
      "source": [],
      "metadata": {
        "id": "YyDX0S79IsG8"
      },
      "execution_count": null,
      "outputs": []
    }
  ]
}